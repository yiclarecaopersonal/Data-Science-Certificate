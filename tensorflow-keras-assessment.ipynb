{
 "cells": [
  {
   "cell_type": "code",
   "execution_count": 1,
   "id": "c9ae9119",
   "metadata": {
    "execution": {
     "iopub.execute_input": "2022-12-01T18:37:27.213061Z",
     "iopub.status.busy": "2022-12-01T18:37:27.212395Z",
     "iopub.status.idle": "2022-12-01T18:37:33.451709Z",
     "shell.execute_reply": "2022-12-01T18:37:33.450420Z"
    },
    "papermill": {
     "duration": 6.249452,
     "end_time": "2022-12-01T18:37:33.454706",
     "exception": false,
     "start_time": "2022-12-01T18:37:27.205254",
     "status": "completed"
    },
    "tags": []
   },
   "outputs": [],
   "source": [
    "from tensorflow.keras.datasets import mnist\n",
    "from tensorflow.keras.utils import to_categorical\n",
    "from tensorflow.keras.models import Sequential \n",
    "from tensorflow.keras.layers import Dense\n",
    "\n",
    "import warnings\n",
    "warnings.filterwarnings(\"ignore\")"
   ]
  },
  {
   "cell_type": "code",
   "execution_count": 2,
   "id": "d3ccf8bb",
   "metadata": {
    "execution": {
     "iopub.execute_input": "2022-12-01T18:37:33.464272Z",
     "iopub.status.busy": "2022-12-01T18:37:33.463552Z",
     "iopub.status.idle": "2022-12-01T18:37:34.214932Z",
     "shell.execute_reply": "2022-12-01T18:37:34.213735Z"
    },
    "papermill": {
     "duration": 0.759177,
     "end_time": "2022-12-01T18:37:34.217863",
     "exception": false,
     "start_time": "2022-12-01T18:37:33.458686",
     "status": "completed"
    },
    "tags": []
   },
   "outputs": [
    {
     "name": "stdout",
     "output_type": "stream",
     "text": [
      "Downloading data from https://storage.googleapis.com/tensorflow/tf-keras-datasets/mnist.npz\n",
      "11493376/11490434 [==============================] - 0s 0us/step\n",
      "11501568/11490434 [==============================] - 0s 0us/step\n"
     ]
    }
   ],
   "source": [
    "(X_train, y_train), (X_test, y_test) = mnist.load_data()\n",
    "\n",
    "input_dim = 784  # 28*28\n",
    "output_dim = nb_classes = 10\n",
    "batch_size = 128\n",
    "nb_epoch = 20\n",
    "\n",
    "X_train = X_train.reshape(60000, input_dim)\n",
    "X_test = X_test.reshape(10000, input_dim)\n",
    "X_train = X_train.astype('float32')\n",
    "X_test = X_test.astype('float32')\n",
    "X_train /= 255\n",
    "X_test /= 255"
   ]
  },
  {
   "cell_type": "code",
   "execution_count": 3,
   "id": "ad546bac",
   "metadata": {
    "execution": {
     "iopub.execute_input": "2022-12-01T18:37:34.228539Z",
     "iopub.status.busy": "2022-12-01T18:37:34.227582Z",
     "iopub.status.idle": "2022-12-01T18:37:34.235298Z",
     "shell.execute_reply": "2022-12-01T18:37:34.234242Z"
    },
    "papermill": {
     "duration": 0.015541,
     "end_time": "2022-12-01T18:37:34.237716",
     "exception": false,
     "start_time": "2022-12-01T18:37:34.222175",
     "status": "completed"
    },
    "tags": []
   },
   "outputs": [],
   "source": [
    "Y_train = to_categorical(y_train, nb_classes)\n",
    "Y_test = to_categorical(y_test, nb_classes)"
   ]
  },
  {
   "cell_type": "code",
   "execution_count": 4,
   "id": "8f5fee1b",
   "metadata": {
    "execution": {
     "iopub.execute_input": "2022-12-01T18:37:34.247448Z",
     "iopub.status.busy": "2022-12-01T18:37:34.247045Z",
     "iopub.status.idle": "2022-12-01T18:37:34.363286Z",
     "shell.execute_reply": "2022-12-01T18:37:34.362041Z"
    },
    "papermill": {
     "duration": 0.124105,
     "end_time": "2022-12-01T18:37:34.365928",
     "exception": false,
     "start_time": "2022-12-01T18:37:34.241823",
     "status": "completed"
    },
    "tags": []
   },
   "outputs": [
    {
     "name": "stderr",
     "output_type": "stream",
     "text": [
      "2022-12-01 18:37:34.281942: I tensorflow/core/common_runtime/process_util.cc:146] Creating new thread pool with default inter op setting: 2. Tune using inter_op_parallelism_threads for best performance.\n"
     ]
    }
   ],
   "source": [
    "#Build ANN model consist of two hidden and one output layer\n",
    "model = Sequential()\n",
    "# our first dense layer\n",
    "model.add(Dense(32, input_shape=(784,), activation=\"relu\"))\n",
    "# our second dense layer\n",
    "model.add(Dense(16, activation=\"relu\"))\n",
    "# last layer is the output layer.\n",
    "model.add(Dense(10, activation=\"softmax\"))"
   ]
  },
  {
   "cell_type": "code",
   "execution_count": 5,
   "id": "f48f4ca8",
   "metadata": {
    "execution": {
     "iopub.execute_input": "2022-12-01T18:37:34.375681Z",
     "iopub.status.busy": "2022-12-01T18:37:34.375293Z",
     "iopub.status.idle": "2022-12-01T18:37:34.550156Z",
     "shell.execute_reply": "2022-12-01T18:37:34.549219Z"
    },
    "papermill": {
     "duration": 0.18257,
     "end_time": "2022-12-01T18:37:34.552672",
     "exception": false,
     "start_time": "2022-12-01T18:37:34.370102",
     "status": "completed"
    },
    "tags": []
   },
   "outputs": [],
   "source": [
    "model.compile(optimizer='sgd', loss='categorical_crossentropy',\n",
    "              metrics=['accuracy'])"
   ]
  },
  {
   "cell_type": "code",
   "execution_count": 6,
   "id": "ab8f1c51",
   "metadata": {
    "execution": {
     "iopub.execute_input": "2022-12-01T18:37:34.562764Z",
     "iopub.status.busy": "2022-12-01T18:37:34.562348Z",
     "iopub.status.idle": "2022-12-01T18:38:16.268745Z",
     "shell.execute_reply": "2022-12-01T18:38:16.267021Z"
    },
    "papermill": {
     "duration": 41.761174,
     "end_time": "2022-12-01T18:38:16.318114",
     "exception": false,
     "start_time": "2022-12-01T18:37:34.556940",
     "status": "completed"
    },
    "tags": []
   },
   "outputs": [
    {
     "name": "stderr",
     "output_type": "stream",
     "text": [
      "2022-12-01 18:37:34.839620: I tensorflow/compiler/mlir/mlir_graph_optimization_pass.cc:185] None of the MLIR Optimization Passes are enabled (registered 2)\n"
     ]
    },
    {
     "name": "stdout",
     "output_type": "stream",
     "text": [
      "Epoch 1/20\n",
      "469/469 [==============================] - 2s 3ms/step - loss: 1.4660 - accuracy: 0.5888\n",
      "Epoch 2/20\n",
      "469/469 [==============================] - 1s 3ms/step - loss: 0.6683 - accuracy: 0.8189\n",
      "Epoch 3/20\n",
      "469/469 [==============================] - 2s 3ms/step - loss: 0.4766 - accuracy: 0.8702\n",
      "Epoch 4/20\n",
      "469/469 [==============================] - 1s 3ms/step - loss: 0.4030 - accuracy: 0.8880\n",
      "Epoch 5/20\n",
      "469/469 [==============================] - 1s 2ms/step - loss: 0.3632 - accuracy: 0.8974\n",
      "Epoch 6/20\n",
      "469/469 [==============================] - 1s 2ms/step - loss: 0.3367 - accuracy: 0.9042\n",
      "Epoch 7/20\n",
      "469/469 [==============================] - 1s 2ms/step - loss: 0.3169 - accuracy: 0.9101\n",
      "Epoch 8/20\n",
      "469/469 [==============================] - 1s 2ms/step - loss: 0.3011 - accuracy: 0.9141\n",
      "Epoch 9/20\n",
      "469/469 [==============================] - 1s 2ms/step - loss: 0.2880 - accuracy: 0.9181\n",
      "Epoch 10/20\n",
      "469/469 [==============================] - 1s 2ms/step - loss: 0.2764 - accuracy: 0.9208\n",
      "Epoch 11/20\n",
      "469/469 [==============================] - 1s 2ms/step - loss: 0.2666 - accuracy: 0.9234\n",
      "Epoch 12/20\n",
      "469/469 [==============================] - 1s 2ms/step - loss: 0.2575 - accuracy: 0.9262\n",
      "Epoch 13/20\n",
      "469/469 [==============================] - 1s 3ms/step - loss: 0.2493 - accuracy: 0.9284\n",
      "Epoch 14/20\n",
      "469/469 [==============================] - 2s 3ms/step - loss: 0.2418 - accuracy: 0.9306\n",
      "Epoch 15/20\n",
      "469/469 [==============================] - 2s 3ms/step - loss: 0.2347 - accuracy: 0.9331\n",
      "Epoch 16/20\n",
      "469/469 [==============================] - 1s 3ms/step - loss: 0.2277 - accuracy: 0.9345\n",
      "Epoch 17/20\n",
      "469/469 [==============================] - 1s 3ms/step - loss: 0.2215 - accuracy: 0.9369\n",
      "Epoch 18/20\n",
      "469/469 [==============================] - 2s 3ms/step - loss: 0.2158 - accuracy: 0.9386\n",
      "Epoch 19/20\n",
      "469/469 [==============================] - 1s 3ms/step - loss: 0.2100 - accuracy: 0.9399\n",
      "Epoch 20/20\n",
      "469/469 [==============================] - 1s 3ms/step - loss: 0.2049 - accuracy: 0.9415\n"
     ]
    },
    {
     "data": {
      "text/plain": [
       "<keras.callbacks.History at 0x7f1c100acdd0>"
      ]
     },
     "execution_count": 6,
     "metadata": {},
     "output_type": "execute_result"
    }
   ],
   "source": [
    "# setting verbose=1 prints out some results after each epoch\n",
    "model.fit(X_train, Y_train, batch_size=batch_size, epochs=20, verbose=1)"
   ]
  },
  {
   "cell_type": "code",
   "execution_count": 7,
   "id": "f6c4902d",
   "metadata": {
    "execution": {
     "iopub.execute_input": "2022-12-01T18:38:16.396516Z",
     "iopub.status.busy": "2022-12-01T18:38:16.395791Z",
     "iopub.status.idle": "2022-12-01T18:38:17.234385Z",
     "shell.execute_reply": "2022-12-01T18:38:17.232356Z"
    },
    "papermill": {
     "duration": 0.880411,
     "end_time": "2022-12-01T18:38:17.237118",
     "exception": false,
     "start_time": "2022-12-01T18:38:16.356707",
     "status": "completed"
    },
    "tags": []
   },
   "outputs": [
    {
     "name": "stdout",
     "output_type": "stream",
     "text": [
      "Test score: 0.20136384665966034\n",
      "Test accuracy: 0.9413999915122986\n"
     ]
    }
   ],
   "source": [
    "score = model.evaluate(X_test, Y_test, verbose=0)\n",
    "print('Test score:', score[0])\n",
    "print('Test accuracy:', score[1])"
   ]
  },
  {
   "cell_type": "markdown",
   "id": "966ca506",
   "metadata": {
    "papermill": {
     "duration": 0.036688,
     "end_time": "2022-12-01T18:38:17.315897",
     "exception": false,
     "start_time": "2022-12-01T18:38:17.279209",
     "status": "completed"
    },
    "tags": []
   },
   "source": [
    "The model achieved 94% accuracy in both the training and the test set. This level is lower than that of the example in the checkpoint. Since the layers include less number of neurons in this model, the model is simpler than the one of the example. This resulted in a lower performance. It seems, MNIST data requires a more complicated model than this one."
   ]
  },
  {
   "cell_type": "code",
   "execution_count": 8,
   "id": "92465590",
   "metadata": {
    "execution": {
     "iopub.execute_input": "2022-12-01T18:38:17.395658Z",
     "iopub.status.busy": "2022-12-01T18:38:17.394868Z",
     "iopub.status.idle": "2022-12-01T18:38:17.483309Z",
     "shell.execute_reply": "2022-12-01T18:38:17.481762Z"
    },
    "papermill": {
     "duration": 0.132967,
     "end_time": "2022-12-01T18:38:17.486277",
     "exception": false,
     "start_time": "2022-12-01T18:38:17.353310",
     "status": "completed"
    },
    "tags": []
   },
   "outputs": [],
   "source": [
    "#Build a tensorflow model with five hidden layers and one output layer with neuron numbers from 1024 to 64:\n",
    "model = Sequential()\n",
    "# our first dense layer\n",
    "model.add(Dense(1024, input_shape=(784,), activation=\"relu\"))\n",
    "# our second dense layer\n",
    "model.add(Dense(512, activation=\"relu\"))\n",
    "# our third dense layer\n",
    "model.add(Dense(256, activation=\"relu\"))\n",
    "# our fourth dense layer\n",
    "model.add(Dense(128, activation=\"relu\"))\n",
    "# our fifth dense layer\n",
    "model.add(Dense(64, activation=\"relu\"))\n",
    "# last layer is the output layer.\n",
    "model.add(Dense(10, activation=\"softmax\"))"
   ]
  },
  {
   "cell_type": "code",
   "execution_count": 9,
   "id": "31aa4d3e",
   "metadata": {
    "execution": {
     "iopub.execute_input": "2022-12-01T18:38:17.563038Z",
     "iopub.status.busy": "2022-12-01T18:38:17.562620Z",
     "iopub.status.idle": "2022-12-01T18:38:17.574265Z",
     "shell.execute_reply": "2022-12-01T18:38:17.573007Z"
    },
    "papermill": {
     "duration": 0.052981,
     "end_time": "2022-12-01T18:38:17.576940",
     "exception": false,
     "start_time": "2022-12-01T18:38:17.523959",
     "status": "completed"
    },
    "tags": []
   },
   "outputs": [],
   "source": [
    "model.compile(optimizer='sgd', loss='categorical_crossentropy',\n",
    "              metrics=['accuracy'])"
   ]
  },
  {
   "cell_type": "code",
   "execution_count": 10,
   "id": "a2af1d8a",
   "metadata": {
    "execution": {
     "iopub.execute_input": "2022-12-01T18:38:17.655905Z",
     "iopub.status.busy": "2022-12-01T18:38:17.655142Z",
     "iopub.status.idle": "2022-12-01T18:40:35.915257Z",
     "shell.execute_reply": "2022-12-01T18:40:35.914169Z"
    },
    "papermill": {
     "duration": 138.302524,
     "end_time": "2022-12-01T18:40:35.917508",
     "exception": false,
     "start_time": "2022-12-01T18:38:17.614984",
     "status": "completed"
    },
    "tags": []
   },
   "outputs": [
    {
     "name": "stdout",
     "output_type": "stream",
     "text": [
      "Epoch 1/20\n",
      "469/469 [==============================] - 8s 15ms/step - loss: 1.2475 - accuracy: 0.6722\n",
      "Epoch 2/20\n",
      "469/469 [==============================] - 7s 14ms/step - loss: 0.3732 - accuracy: 0.8958\n",
      "Epoch 3/20\n",
      "469/469 [==============================] - 8s 16ms/step - loss: 0.2864 - accuracy: 0.9178\n",
      "Epoch 4/20\n",
      "469/469 [==============================] - 7s 15ms/step - loss: 0.2409 - accuracy: 0.9303\n",
      "Epoch 5/20\n",
      "469/469 [==============================] - 7s 15ms/step - loss: 0.2078 - accuracy: 0.9402\n",
      "Epoch 6/20\n",
      "469/469 [==============================] - 7s 15ms/step - loss: 0.1822 - accuracy: 0.9481\n",
      "Epoch 7/20\n",
      "469/469 [==============================] - 8s 17ms/step - loss: 0.1619 - accuracy: 0.9536\n",
      "Epoch 8/20\n",
      "469/469 [==============================] - 7s 15ms/step - loss: 0.1447 - accuracy: 0.9583\n",
      "Epoch 9/20\n",
      "469/469 [==============================] - 7s 14ms/step - loss: 0.1318 - accuracy: 0.9628\n",
      "Epoch 10/20\n",
      "469/469 [==============================] - 7s 15ms/step - loss: 0.1195 - accuracy: 0.9663\n",
      "Epoch 11/20\n",
      "469/469 [==============================] - 7s 15ms/step - loss: 0.1096 - accuracy: 0.9691\n",
      "Epoch 12/20\n",
      "469/469 [==============================] - 8s 16ms/step - loss: 0.1015 - accuracy: 0.9709\n",
      "Epoch 13/20\n",
      "469/469 [==============================] - 7s 14ms/step - loss: 0.0931 - accuracy: 0.9734\n",
      "Epoch 14/20\n",
      "469/469 [==============================] - 6s 14ms/step - loss: 0.0861 - accuracy: 0.9757\n",
      "Epoch 15/20\n",
      "469/469 [==============================] - 6s 13ms/step - loss: 0.0800 - accuracy: 0.9773\n",
      "Epoch 16/20\n",
      "469/469 [==============================] - 7s 15ms/step - loss: 0.0741 - accuracy: 0.9787\n",
      "Epoch 17/20\n",
      "469/469 [==============================] - 6s 14ms/step - loss: 0.0679 - accuracy: 0.9808\n",
      "Epoch 18/20\n",
      "469/469 [==============================] - 6s 14ms/step - loss: 0.0630 - accuracy: 0.9818\n",
      "Epoch 19/20\n",
      "469/469 [==============================] - 6s 14ms/step - loss: 0.0593 - accuracy: 0.9836\n",
      "Epoch 20/20\n",
      "469/469 [==============================] - 6s 13ms/step - loss: 0.0543 - accuracy: 0.9854\n"
     ]
    },
    {
     "data": {
      "text/plain": [
       "<keras.callbacks.History at 0x7f1c0e121a10>"
      ]
     },
     "execution_count": 10,
     "metadata": {},
     "output_type": "execute_result"
    }
   ],
   "source": [
    "# setting verbose=1 prints out some results after each epoch\n",
    "model.fit(X_train, Y_train, batch_size=batch_size, epochs=20, verbose=1)"
   ]
  },
  {
   "cell_type": "code",
   "execution_count": 11,
   "id": "7516beb2",
   "metadata": {
    "execution": {
     "iopub.execute_input": "2022-12-01T18:40:36.281003Z",
     "iopub.status.busy": "2022-12-01T18:40:36.280619Z",
     "iopub.status.idle": "2022-12-01T18:40:37.385893Z",
     "shell.execute_reply": "2022-12-01T18:40:37.384784Z"
    },
    "papermill": {
     "duration": 1.290233,
     "end_time": "2022-12-01T18:40:37.388579",
     "exception": false,
     "start_time": "2022-12-01T18:40:36.098346",
     "status": "completed"
    },
    "tags": []
   },
   "outputs": [
    {
     "name": "stdout",
     "output_type": "stream",
     "text": [
      "Test score: 0.08616742491722107\n",
      "Test accuracy: 0.9728999733924866\n"
     ]
    }
   ],
   "source": [
    "score = model.evaluate(X_test, Y_test, verbose=0)\n",
    "print('Test score:', score[0])\n",
    "print('Test accuracy:', score[1])"
   ]
  },
  {
   "cell_type": "markdown",
   "id": "13f45e7a",
   "metadata": {
    "papermill": {
     "duration": 0.256327,
     "end_time": "2022-12-01T18:40:37.832285",
     "exception": false,
     "start_time": "2022-12-01T18:40:37.575958",
     "status": "completed"
    },
    "tags": []
   },
   "source": [
    "In this case, the model achieved almost 99% accuracy in the training set and 98% accuracy in the test set. The model here is more complex than the model of the previous task and the model in the example. Because this model is more complex than the previous two models it achieved higher performance in the training set. However, the difference between the training score and test score widened a little bit. It may be a sign that this model is too complex and it started to overfit."
   ]
  }
 ],
 "metadata": {
  "kernelspec": {
   "display_name": "Python 3",
   "language": "python",
   "name": "python3"
  },
  "language_info": {
   "codemirror_mode": {
    "name": "ipython",
    "version": 3
   },
   "file_extension": ".py",
   "mimetype": "text/x-python",
   "name": "python",
   "nbconvert_exporter": "python",
   "pygments_lexer": "ipython3",
   "version": "3.7.12"
  },
  "papermill": {
   "default_parameters": {},
   "duration": 202.311634,
   "end_time": "2022-12-01T18:40:40.969748",
   "environment_variables": {},
   "exception": null,
   "input_path": "__notebook__.ipynb",
   "output_path": "__notebook__.ipynb",
   "parameters": {},
   "start_time": "2022-12-01T18:37:18.658114",
   "version": "2.3.4"
  }
 },
 "nbformat": 4,
 "nbformat_minor": 5
}
