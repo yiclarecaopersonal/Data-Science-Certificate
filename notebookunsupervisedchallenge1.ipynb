{
 "cells": [
  {
   "cell_type": "code",
   "execution_count": 1,
   "id": "0f994423",
   "metadata": {
    "execution": {
     "iopub.execute_input": "2022-11-24T02:48:59.649454Z",
     "iopub.status.busy": "2022-11-24T02:48:59.648432Z",
     "iopub.status.idle": "2022-11-24T02:49:01.250307Z",
     "shell.execute_reply": "2022-11-24T02:49:01.249054Z"
    },
    "papermill": {
     "duration": 1.61109,
     "end_time": "2022-11-24T02:49:01.253153",
     "exception": false,
     "start_time": "2022-11-24T02:48:59.642063",
     "status": "completed"
    },
    "tags": []
   },
   "outputs": [],
   "source": [
    "import numpy as np\n",
    "import pandas as pd \n",
    "import os\n",
    "import matplotlib.pyplot as plt\n",
    "from sklearn.preprocessing import StandardScaler\n",
    "from sklearn.decomposition import PCA\n",
    "from sklearn.manifold import TSNE\n",
    "import matplotlib.pyplot as plt\n",
    "from sklearn.cluster import KMeans, DBSCAN\n",
    "from pathlib import Path\n",
    "import seaborn as sns\n",
    "import warnings\n",
    "warnings.filterwarnings('ignore')\n"
   ]
  },
  {
   "cell_type": "code",
   "execution_count": 2,
   "id": "2f249251",
   "metadata": {
    "execution": {
     "iopub.execute_input": "2022-11-24T02:49:01.261562Z",
     "iopub.status.busy": "2022-11-24T02:49:01.261149Z",
     "iopub.status.idle": "2022-11-24T02:49:01.357340Z",
     "shell.execute_reply": "2022-11-24T02:49:01.356034Z"
    },
    "papermill": {
     "duration": 0.10365,
     "end_time": "2022-11-24T02:49:01.360279",
     "exception": false,
     "start_time": "2022-11-24T02:49:01.256629",
     "status": "completed"
    },
    "tags": []
   },
   "outputs": [
    {
     "name": "stdout",
     "output_type": "stream",
     "text": [
      "<class 'pandas.core.frame.DataFrame'>\n",
      "RangeIndex: 1252 entries, 0 to 1251\n",
      "Data columns (total 7 columns):\n",
      " #   Column           Non-Null Count  Dtype  \n",
      "---  ------           --------------  -----  \n",
      " 0   Unnamed: 0       1252 non-null   object \n",
      " 1   CoinName         1252 non-null   object \n",
      " 2   Algorithm        1252 non-null   object \n",
      " 3   IsTrading        1252 non-null   bool   \n",
      " 4   ProofType        1252 non-null   object \n",
      " 5   TotalCoinsMined  744 non-null    float64\n",
      " 6   TotalCoinSupply  1252 non-null   object \n",
      "dtypes: bool(1), float64(1), object(5)\n",
      "memory usage: 60.0+ KB\n"
     ]
    },
    {
     "data": {
      "text/plain": [
       "array([[-0.11710817, -0.1528703 , -0.0433963 , ..., -0.0433963 ,\n",
       "        -0.0433963 , -0.0433963 ],\n",
       "       [-0.09396955, -0.145009  , -0.0433963 , ..., -0.0433963 ,\n",
       "        -0.0433963 , -0.0433963 ],\n",
       "       [ 0.52494561,  4.48942416, -0.0433963 , ..., -0.0433963 ,\n",
       "        -0.0433963 , -0.0433963 ],\n",
       "       ...,\n",
       "       [-0.09561336, -0.13217937, -0.0433963 , ..., -0.0433963 ,\n",
       "        -0.0433963 , -0.0433963 ],\n",
       "       [-0.11694817, -0.15255998, -0.0433963 , ..., -0.0433963 ,\n",
       "        -0.0433963 , -0.0433963 ],\n",
       "       [-0.11710536, -0.15285552, -0.0433963 , ..., -0.0433963 ,\n",
       "        -0.0433963 , -0.0433963 ]])"
      ]
     },
     "execution_count": 2,
     "metadata": {},
     "output_type": "execute_result"
    }
   ],
   "source": [
    "# Load CSV file into the df\n",
    "crypto_df = pd.read_csv('/kaggle/input/crypto-data/crypto_data.csv')\n",
    "crypto_df.head()\n",
    "crypto_df.info()\n",
    "\n",
    "#picking crypto that is currently being traded\n",
    "trading_crypto= crypto_df[crypto_df['IsTrading'] == True]\n",
    "\n",
    "#droping the 'istrading column'\n",
    "trading_crypto = trading_crypto.drop(columns ='IsTrading')\n",
    "\n",
    "#Checking for any null values inn df\n",
    "trading_crypto.isnull().values.any()\n",
    "\n",
    "# Check number of null values in df\n",
    "trading_crypto.isnull().values.sum()\n",
    "\n",
    "#checking number of null values are the column they are located in\n",
    "trading_crypto.isnull().sum()\n",
    "\n",
    "# Filter for cryptocurrencies that have been mined greater than zero\n",
    "trading_crypto_g0 = trading_crypto[trading_crypto[\"TotalCoinsMined\"]> 0]\n",
    "\n",
    "#Since the coin names do not contribute to the analysis of the data, deleting CoinName\n",
    "trading_crypto_g0.drop(columns='CoinName', axis=1, inplace= True)\n",
    "\n",
    "\n",
    "# Drop Unamed:0 columns\n",
    "trading_crypto_g0 = trading_crypto_g0.drop(columns=['Unnamed: 0'])\n",
    "\n",
    "#Convert features with text values, `Algorithm` and `ProofType`, into numerical data\n",
    "X = pd.get_dummies(trading_crypto_g0, columns=['Algorithm', 'ProofType'])\n",
    "\n",
    "#Standardize your dataset so that columns that contain larger values do not unduly influence the outcome.\n",
    "scaler = StandardScaler()\n",
    "X_scaled = scaler.fit_transform(X)\n",
    "X_scaled"
   ]
  },
  {
   "cell_type": "code",
   "execution_count": 3,
   "id": "60648e5d",
   "metadata": {
    "execution": {
     "iopub.execute_input": "2022-11-24T02:49:01.368862Z",
     "iopub.status.busy": "2022-11-24T02:49:01.368462Z",
     "iopub.status.idle": "2022-11-24T02:49:01.412467Z",
     "shell.execute_reply": "2022-11-24T02:49:01.410738Z"
    },
    "papermill": {
     "duration": 0.053272,
     "end_time": "2022-11-24T02:49:01.417044",
     "exception": false,
     "start_time": "2022-11-24T02:49:01.363772",
     "status": "completed"
    },
    "tags": []
   },
   "outputs": [
    {
     "data": {
      "text/plain": [
       "array([0.0279317 , 0.02141802, 0.02051615, 0.02044661, 0.0204466 ,\n",
       "       0.0204466 , 0.0204466 , 0.02042554, 0.01870913, 0.01756291,\n",
       "       0.01741106, 0.01629007, 0.01596154, 0.01551138, 0.01435005,\n",
       "       0.01321122, 0.01236583, 0.01206255, 0.01104295, 0.01071499,\n",
       "       0.01049079, 0.01040887, 0.01039089, 0.01037741, 0.01035414,\n",
       "       0.01034034, 0.01029605, 0.01028233, 0.01028139, 0.01028139,\n",
       "       0.01028138, 0.01027965, 0.01027051, 0.01026331, 0.01026202,\n",
       "       0.01025761, 0.01025565, 0.01025068, 0.01024924, 0.01024279,\n",
       "       0.01024259, 0.01024259, 0.0102419 , 0.01024018, 0.01023676,\n",
       "       0.01023495, 0.01023   , 0.01022442, 0.0102233 , 0.0102233 ,\n",
       "       0.0102233 , 0.0102233 , 0.0102233 , 0.0102233 , 0.0102233 ,\n",
       "       0.0102233 , 0.0102233 , 0.0102233 , 0.0102233 , 0.0102233 ,\n",
       "       0.0102233 , 0.0102233 , 0.0102233 , 0.0102233 , 0.0102233 ,\n",
       "       0.0102233 , 0.0102233 , 0.0102233 , 0.0102233 , 0.0102233 ,\n",
       "       0.0102233 , 0.0102233 , 0.0102233 , 0.0102233 ])"
      ]
     },
     "execution_count": 3,
     "metadata": {},
     "output_type": "execute_result"
    }
   ],
   "source": [
    "#Performing dimensionality reduction with PCA using `PCA(n_components=0.99)` \n",
    "#to reducing the dataset to 80 principal components or 3\n",
    "pca = PCA(n_components=0.90)\n",
    "X_scaled_pca = pca.fit_transform(X_scaled)\n",
    "# Fetch explained variance\n",
    "pca.explained_variance_ratio_"
   ]
  },
  {
   "cell_type": "code",
   "execution_count": 4,
   "id": "c9c126a0",
   "metadata": {
    "execution": {
     "iopub.execute_input": "2022-11-24T02:49:01.437162Z",
     "iopub.status.busy": "2022-11-24T02:49:01.436392Z",
     "iopub.status.idle": "2022-11-24T02:49:02.335925Z",
     "shell.execute_reply": "2022-11-24T02:49:02.334731Z"
    },
    "papermill": {
     "duration": 0.912498,
     "end_time": "2022-11-24T02:49:02.338370",
     "exception": false,
     "start_time": "2022-11-24T02:49:01.425872",
     "status": "completed"
    },
    "tags": []
   },
   "outputs": [
    {
     "data": {
      "image/png": "[encoded data removed]",
      "text/plain": [
       "<Figure size 432x288 with 1 Axes>"
      ]
     },
     "metadata": {
      "needs_background": "light"
     },
     "output_type": "display_data"
    },
    {
     "data": {
      "text/plain": [
       "0.9010870638268429"
      ]
     },
     "execution_count": 4,
     "metadata": {},
     "output_type": "execute_result"
    }
   ],
   "source": [
    "from sklearn.pipeline import make_pipeline\n",
    "\n",
    "pipeline=make_pipeline(scaler,pca)\n",
    "# Plot the explained variances\n",
    "features = range(pca.n_components_)\n",
    "plt.bar(features, pca.explained_variance_)\n",
    "plt.xlabel('PCA feature')\n",
    "plt.ylabel('variance %')\n",
    "plt.xticks(features)\n",
    "plt.show()\n",
    "\n",
    "#We brought down the number of features to 74 from 98\n",
    "#X_scaled_pca.shape\n",
    "\n",
    "pca.explained_variance_ratio_.sum()"
   ]
  },
  {
   "cell_type": "code",
   "execution_count": 5,
   "id": "596d47db",
   "metadata": {
    "execution": {
     "iopub.execute_input": "2022-11-24T02:49:02.348146Z",
     "iopub.status.busy": "2022-11-24T02:49:02.347705Z",
     "iopub.status.idle": "2022-11-24T02:49:11.280087Z",
     "shell.execute_reply": "2022-11-24T02:49:11.279035Z"
    },
    "papermill": {
     "duration": 8.940137,
     "end_time": "2022-11-24T02:49:11.282539",
     "exception": false,
     "start_time": "2022-11-24T02:49:02.342402",
     "status": "completed"
    },
    "tags": []
   },
   "outputs": [
    {
     "data": {
      "image/png": "[encoded data removed]",
      "text/plain": [
       "<Figure size 432x288 with 1 Axes>"
      ]
     },
     "metadata": {
      "needs_background": "light"
     },
     "output_type": "display_data"
    }
   ],
   "source": [
    "inertia = []\n",
    "# Same as k = list(range(1, 11))\n",
    "k = [1,2,3,4,5,6,7,8,9,10]\n",
    "\n",
    "\n",
    "# Looking for the best k\n",
    "for i in k:\n",
    "    km = KMeans(n_clusters=i, random_state=0)\n",
    "    km.fit(X_scaled_pca)\n",
    "    inertia.append(km.inertia_)\n",
    "\n",
    "# Define a DataFrame to plot the Elbow Curve using hvPlot\n",
    "elbow_data = {\"k\": k, \"inertia\": inertia}\n",
    "df_elbow = pd.DataFrame(elbow_data)\n",
    "\n",
    "plt.plot(df_elbow['k'], df_elbow['inertia'])\n",
    "plt.xticks(range(1,11))\n",
    "plt.xlabel('Number of clusters')\n",
    "plt.ylabel('Inertia')\n",
    "plt.show()"
   ]
  },
  {
   "cell_type": "code",
   "execution_count": 6,
   "id": "448f370d",
   "metadata": {
    "execution": {
     "iopub.execute_input": "2022-11-24T02:49:11.293845Z",
     "iopub.status.busy": "2022-11-24T02:49:11.292664Z",
     "iopub.status.idle": "2022-11-24T02:49:12.069190Z",
     "shell.execute_reply": "2022-11-24T02:49:12.067293Z"
    },
    "papermill": {
     "duration": 0.786515,
     "end_time": "2022-11-24T02:49:12.073371",
     "exception": false,
     "start_time": "2022-11-24T02:49:11.286856",
     "status": "completed"
    },
    "tags": []
   },
   "outputs": [
    {
     "data": {
      "text/plain": [
       "KMeans(n_clusters=5, random_state=5)"
      ]
     },
     "execution_count": 6,
     "metadata": {},
     "output_type": "execute_result"
    }
   ],
   "source": [
    "#Can not seem to separate clusters so need to tuning the algorithm.\n",
    "# Initializing model with K = 5 (since that is where there is a slight elbow in the graph)\n",
    "model = KMeans(n_clusters=5, random_state=5)\n",
    "# Fitting model\n",
    "model.fit(X_scaled_pca)\n",
    "\n",
    "#Seems KMeans can see five clusters. \n"
   ]
  },
  {
   "cell_type": "code",
   "execution_count": 7,
   "id": "75a90f0a",
   "metadata": {
    "execution": {
     "iopub.execute_input": "2022-11-24T02:49:12.091442Z",
     "iopub.status.busy": "2022-11-24T02:49:12.090319Z",
     "iopub.status.idle": "2022-11-24T02:49:14.444000Z",
     "shell.execute_reply": "2022-11-24T02:49:14.442981Z"
    },
    "papermill": {
     "duration": 2.368535,
     "end_time": "2022-11-24T02:49:14.447195",
     "exception": false,
     "start_time": "2022-11-24T02:49:12.078660",
     "status": "completed"
    },
    "tags": []
   },
   "outputs": [],
   "source": [
    "# Now using t-SNE model to reduce the dimension\n",
    "#number between 10 and 1000, you will get different results\n",
    "tsne = TSNE(learning_rate=35)\n",
    "# Reduce dimensions\n",
    "tsne_features = tsne.fit_transform(X_scaled_pca)"
   ]
  },
  {
   "cell_type": "code",
   "execution_count": 8,
   "id": "2782ddac",
   "metadata": {
    "execution": {
     "iopub.execute_input": "2022-11-24T02:49:14.460481Z",
     "iopub.status.busy": "2022-11-24T02:49:14.459231Z",
     "iopub.status.idle": "2022-11-24T02:49:14.675393Z",
     "shell.execute_reply": "2022-11-24T02:49:14.674540Z"
    },
    "papermill": {
     "duration": 0.225535,
     "end_time": "2022-11-24T02:49:14.677914",
     "exception": false,
     "start_time": "2022-11-24T02:49:14.452379",
     "status": "completed"
    },
    "tags": []
   },
   "outputs": [
    {
     "data": {
      "image/png": "[encoded data removed]",
      "text/plain": [
       "<Figure size 432x288 with 1 Axes>"
      ]
     },
     "metadata": {
      "needs_background": "light"
     },
     "output_type": "display_data"
    }
   ],
   "source": [
    "# Plot the dataset\n",
    "# The first column of transformed features\n",
    "New_df= pd.DataFrame()\n",
    "\n",
    "New_df['x'] = tsne_features[:,0]\n",
    "\n",
    "# The second column of transformed features\n",
    "New_df['y'] = tsne_features[:,1]\n",
    "\n",
    "# Visualize the clusters\n",
    "plt.scatter(New_df['x'], New_df['y'])\n",
    "plt.show()\n"
   ]
  },
  {
   "cell_type": "markdown",
   "id": "447bb038",
   "metadata": {
    "papermill": {
     "duration": 0.004243,
     "end_time": "2022-11-24T02:49:14.686836",
     "exception": false,
     "start_time": "2022-11-24T02:49:14.682593",
     "status": "completed"
    },
    "tags": []
   },
   "source": [
    "Dose not seem the t-SNE did a good job at separate the clusters. "
   ]
  }
 ],
 "metadata": {
  "kernelspec": {
   "display_name": "Python 3",
   "language": "python",
   "name": "python3"
  },
  "language_info": {
   "codemirror_mode": {
    "name": "ipython",
    "version": 3
   },
   "file_extension": ".py",
   "mimetype": "text/x-python",
   "name": "python",
   "nbconvert_exporter": "python",
   "pygments_lexer": "ipython3",
   "version": "3.7.12"
  },
  "papermill": {
   "default_parameters": {},
   "duration": 24.756515,
   "end_time": "2022-11-24T02:49:15.515250",
   "environment_variables": {},
   "exception": null,
   "input_path": "__notebook__.ipynb",
   "output_path": "__notebook__.ipynb",
   "parameters": {},
   "start_time": "2022-11-24T02:48:50.758735",
   "version": "2.3.4"
  }
 },
 "nbformat": 4,
 "nbformat_minor": 5
}
