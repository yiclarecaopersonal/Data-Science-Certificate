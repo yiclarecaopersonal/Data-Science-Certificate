{
 "cells": [
  {
   "cell_type": "code",
   "execution_count": 1,
   "id": "703341c8",
   "metadata": {
    "execution": {
     "iopub.execute_input": "2022-07-13T16:31:39.674457Z",
     "iopub.status.busy": "2022-07-13T16:31:39.673735Z",
     "iopub.status.idle": "2022-07-13T16:31:56.840218Z",
     "shell.execute_reply": "2022-07-13T16:31:56.839069Z"
    },
    "papermill": {
     "duration": 17.175111,
     "end_time": "2022-07-13T16:31:56.843045",
     "exception": false,
     "start_time": "2022-07-13T16:31:39.667934",
     "status": "completed"
    },
    "tags": []
   },
   "outputs": [
    {
     "name": "stdout",
     "output_type": "stream",
     "text": [
      "Collecting psycopg2-binary\r\n",
      "  Downloading psycopg2_binary-2.9.3-cp37-cp37m-manylinux_2_17_x86_64.manylinux2014_x86_64.whl (3.0 MB)\r\n",
      "\u001b[2K     \u001b[90m━━━━━━━━━━━━━━━━━━━━━━━━━━━━━━━━━━━━━━━━\u001b[0m \u001b[32m3.0/3.0 MB\u001b[0m \u001b[31m2.7 MB/s\u001b[0m eta \u001b[36m0:00:00\u001b[0m\r\n",
      "\u001b[?25hInstalling collected packages: psycopg2-binary\r\n",
      "Successfully installed psycopg2-binary-2.9.3\r\n",
      "\u001b[33mWARNING: Running pip as the 'root' user can result in broken permissions and conflicting behaviour with the system package manager. It is recommended to use a virtual environment instead: https://pip.pypa.io/warnings/venv\u001b[0m\u001b[33m\r\n",
      "\u001b[0m"
     ]
    }
   ],
   "source": [
    "!pip install psycopg2-binary\n",
    "import numpy as np\n",
    "import pandas as pd\n",
    "import matplotlib.pyplot as plt\n",
    "from sqlalchemy import create_engine\n",
    "from sklearn.model_selection import train_test_split, cross_val_score\n",
    "from sklearn.metrics import mean_absolute_error\n",
    "from statsmodels.tools.eval_measures import mse, rmse\n",
    "from sklearn.linear_model import LinearRegression, LassoCV, RidgeCV, ElasticNetCV\n",
    "\n",
    "import warnings\n",
    "warnings.filterwarnings('ignore')\n",
    "\n",
    "postgres_user = 'dsbc_student'\n",
    "postgres_pw = '7*.8G9QH21'\n",
    "postgres_host = '142.93.121.174'\n",
    "postgres_port = '5432'\n",
    "postgres_db = 'houseprices'"
   ]
  },
  {
   "cell_type": "code",
   "execution_count": 2,
   "id": "20fd36a7",
   "metadata": {
    "execution": {
     "iopub.execute_input": "2022-07-13T16:31:56.855328Z",
     "iopub.status.busy": "2022-07-13T16:31:56.854663Z",
     "iopub.status.idle": "2022-07-13T16:32:01.095295Z",
     "shell.execute_reply": "2022-07-13T16:32:01.094077Z"
    },
    "papermill": {
     "duration": 4.250101,
     "end_time": "2022-07-13T16:32:01.098437",
     "exception": false,
     "start_time": "2022-07-13T16:31:56.848336",
     "status": "completed"
    },
    "tags": []
   },
   "outputs": [],
   "source": [
    "engine = create_engine('postgresql://{}:{}@{}:{}/{}'.format(\n",
    "    postgres_user, postgres_pw, postgres_host, postgres_port, postgres_db))\n",
    "house_prices_df = pd.read_sql_query('select * from houseprices',con=engine)\n",
    "\n",
    "# no need for an open connection, as we're only doing a single query\n",
    "engine.dispose()\n",
    "\n",
    "house_prices_df = pd.concat([house_prices_df,pd.get_dummies(house_prices_df.mszoning, prefix=\"mszoning\", drop_first=True)], axis=1)\n",
    "house_prices_df = pd.concat([house_prices_df,pd.get_dummies(house_prices_df.street, prefix=\"street\", drop_first=True)], axis=1)\n",
    "dummy_column_names = list(pd.get_dummies(house_prices_df.mszoning, prefix=\"mszoning\", drop_first=True).columns)\n",
    "dummy_column_names = dummy_column_names + list(pd.get_dummies(house_prices_df.street, prefix=\"street\", drop_first=True).columns)\n",
    "\n",
    "house_prices_df['totalsf'] = house_prices_df['totalbsmtsf'] + house_prices_df['firstflrsf'] + house_prices_df['secondflrsf']\n",
    "\n",
    "house_prices_df['int_over_sf'] = house_prices_df['totalsf'] * house_prices_df['overallqual']\n",
    "\n",
    "# Y is the target variable\n",
    "Y = np.log1p(house_prices_df['saleprice'])\n",
    "# X is the feature set\n",
    "X = house_prices_df[['overallqual', 'grlivarea', 'garagecars', 'garagearea', 'totalsf', 'int_over_sf'] + dummy_column_names]\n",
    "\n",
    "X_train, X_test, y_train, y_test = train_test_split(X, Y, test_size = 0.2, random_state = 465)\n",
    "\n",
    "alphas = [np.power(10.0,p) for p in np.arange(-10,40,1)]"
   ]
  },
  {
   "cell_type": "code",
   "execution_count": 3,
   "id": "d9c4a90b",
   "metadata": {
    "execution": {
     "iopub.execute_input": "2022-07-13T16:32:01.111285Z",
     "iopub.status.busy": "2022-07-13T16:32:01.110881Z",
     "iopub.status.idle": "2022-07-13T16:32:01.186900Z",
     "shell.execute_reply": "2022-07-13T16:32:01.184689Z"
    },
    "papermill": {
     "duration": 0.086209,
     "end_time": "2022-07-13T16:32:01.190780",
     "exception": false,
     "start_time": "2022-07-13T16:32:01.104571",
     "status": "completed"
    },
    "tags": []
   },
   "outputs": [
    {
     "name": "stdout",
     "output_type": "stream",
     "text": [
      "R-squared of the model in training set is: 0.832132255313275\n",
      "-----Test set statistics-----\n",
      "R-squared of the model in test set is: 0.8249302330916461\n",
      "Mean absolute error of the prediction is: 0.125703728728615\n",
      "Mean squared error of the prediction is: 0.02919212187135648\n",
      "Root mean squared error of the prediction is: 0.17085702172095965\n",
      "Mean absolute percentage error of the prediction is: 1.0503577667823587\n"
     ]
    }
   ],
   "source": [
    "lrm = LinearRegression()\n",
    "\n",
    "lrm.fit(X_train, y_train)\n",
    "\n",
    "# We are making predictions here\n",
    "y_preds_train = lrm.predict(X_train)\n",
    "y_preds_test = lrm.predict(X_test)\n",
    "\n",
    "print(\"R-squared of the model in training set is: {}\".format(lrm.score(X_train, y_train)))\n",
    "print(\"-----Test set statistics-----\")\n",
    "print(\"R-squared of the model in test set is: {}\".format(lrm.score(X_test, y_test)))\n",
    "print(\"Mean absolute error of the prediction is: {}\".format(mean_absolute_error(y_test, y_preds_test)))\n",
    "print(\"Mean squared error of the prediction is: {}\".format(mse(y_test, y_preds_test)))\n",
    "print(\"Root mean squared error of the prediction is: {}\".format(rmse(y_test, y_preds_test)))\n",
    "print(\"Mean absolute percentage error of the prediction is: {}\".format(np.mean(np.abs((y_test - y_preds_test) / y_test)) * 100))"
   ]
  },
  {
   "cell_type": "code",
   "execution_count": 4,
   "id": "85bb1a9b",
   "metadata": {
    "execution": {
     "iopub.execute_input": "2022-07-13T16:32:01.223130Z",
     "iopub.status.busy": "2022-07-13T16:32:01.222489Z",
     "iopub.status.idle": "2022-07-13T16:32:01.406838Z",
     "shell.execute_reply": "2022-07-13T16:32:01.404777Z"
    },
    "papermill": {
     "duration": 0.209591,
     "end_time": "2022-07-13T16:32:01.410620",
     "exception": false,
     "start_time": "2022-07-13T16:32:01.201029",
     "status": "completed"
    },
    "tags": []
   },
   "outputs": [
    {
     "name": "stdout",
     "output_type": "stream",
     "text": [
      "Best alpha value is: 0.0001\n",
      "R-squared of the model in training set is: 0.831939428704242\n",
      "-----Test set statistics-----\n",
      "R-squared of the model in test set is: 0.8226434437869414\n",
      "Mean absolute error of the prediction is: 0.12624310826908405\n",
      "Mean squared error of the prediction is: 0.029573434037677006\n",
      "Root mean squared error of the prediction is: 0.17196928225028157\n",
      "Mean absolute percentage error of the prediction is: 1.0552354946577738\n"
     ]
    }
   ],
   "source": [
    "lasso_cv = LassoCV(alphas=alphas, cv=5)\n",
    "\n",
    "lasso_cv.fit(X_train, y_train)\n",
    "\n",
    "# We are making predictions here\n",
    "y_preds_train = lasso_cv.predict(X_train)\n",
    "y_preds_test = lasso_cv.predict(X_test)\n",
    "\n",
    "print(\"Best alpha value is: {}\".format(lasso_cv.alpha_))\n",
    "print(\"R-squared of the model in training set is: {}\".format(lasso_cv.score(X_train, y_train)))\n",
    "print(\"-----Test set statistics-----\")\n",
    "print(\"R-squared of the model in test set is: {}\".format(lasso_cv.score(X_test, y_test)))\n",
    "print(\"Mean absolute error of the prediction is: {}\".format(mean_absolute_error(y_test, y_preds_test)))\n",
    "print(\"Mean squared error of the prediction is: {}\".format(mse(y_test, y_preds_test)))\n",
    "print(\"Root mean squared error of the prediction is: {}\".format(rmse(y_test, y_preds_test)))\n",
    "print(\"Mean absolute percentage error of the prediction is: {}\".format(np.mean(np.abs((y_test - y_preds_test) / y_test)) * 100))"
   ]
  },
  {
   "cell_type": "code",
   "execution_count": 5,
   "id": "daf09577",
   "metadata": {
    "execution": {
     "iopub.execute_input": "2022-07-13T16:32:01.466864Z",
     "iopub.status.busy": "2022-07-13T16:32:01.466248Z",
     "iopub.status.idle": "2022-07-13T16:32:03.547633Z",
     "shell.execute_reply": "2022-07-13T16:32:03.546377Z"
    },
    "papermill": {
     "duration": 2.124506,
     "end_time": "2022-07-13T16:32:03.551381",
     "exception": false,
     "start_time": "2022-07-13T16:32:01.426875",
     "status": "completed"
    },
    "tags": []
   },
   "outputs": [
    {
     "name": "stdout",
     "output_type": "stream",
     "text": [
      "Best alpha value is: 1.0\n",
      "R-squared of the model in training set is: 0.8316364867222638\n",
      "-----Test set statistics-----\n",
      "R-squared of the model in test set is: 0.8203050076234277\n",
      "Mean absolute error of the prediction is: 0.12673637339741078\n",
      "Mean squared error of the prediction is: 0.029963358092978995\n",
      "Root mean squared error of the prediction is: 0.1730992723640946\n",
      "Mean absolute percentage error of the prediction is: 1.0596941230310681\n"
     ]
    }
   ],
   "source": [
    "ridge_cv = RidgeCV(alphas=alphas, cv=5)\n",
    "\n",
    "ridge_cv.fit(X_train, y_train)\n",
    "\n",
    "# We are making predictions here\n",
    "y_preds_train = ridge_cv.predict(X_train)\n",
    "y_preds_test = ridge_cv.predict(X_test)\n",
    "\n",
    "print(\"Best alpha value is: {}\".format(ridge_cv.alpha_))\n",
    "print(\"R-squared of the model in training set is: {}\".format(ridge_cv.score(X_train, y_train)))\n",
    "print(\"-----Test set statistics-----\")\n",
    "print(\"R-squared of the model in test set is: {}\".format(ridge_cv.score(X_test, y_test)))\n",
    "print(\"Mean absolute error of the prediction is: {}\".format(mean_absolute_error(y_test, y_preds_test)))\n",
    "print(\"Mean squared error of the prediction is: {}\".format(mse(y_test, y_preds_test)))\n",
    "print(\"Root mean squared error of the prediction is: {}\".format(rmse(y_test, y_preds_test)))\n",
    "print(\"Mean absolute percentage error of the prediction is: {}\".format(np.mean(np.abs((y_test - y_preds_test) / y_test)) * 100))"
   ]
  },
  {
   "cell_type": "code",
   "execution_count": 6,
   "id": "4cc8c6d0",
   "metadata": {
    "execution": {
     "iopub.execute_input": "2022-07-13T16:32:03.586285Z",
     "iopub.status.busy": "2022-07-13T16:32:03.585760Z",
     "iopub.status.idle": "2022-07-13T16:32:03.775606Z",
     "shell.execute_reply": "2022-07-13T16:32:03.773442Z"
    },
    "papermill": {
     "duration": 0.21532,
     "end_time": "2022-07-13T16:32:03.779220",
     "exception": false,
     "start_time": "2022-07-13T16:32:03.563900",
     "status": "completed"
    },
    "tags": []
   },
   "outputs": [
    {
     "name": "stdout",
     "output_type": "stream",
     "text": [
      "Best alpha value is: 0.001\n",
      "R-squared of the model in training set is: 0.8299654806803802\n",
      "-----Test set statistics-----\n",
      "R-squared of the model in test set is: 0.8149185869526184\n",
      "Mean absolute error of the prediction is: 0.12770726087011364\n",
      "Mean squared error of the prediction is: 0.030861520302533838\n",
      "Root mean squared error of the prediction is: 0.17567447254092963\n",
      "Mean absolute percentage error of the prediction is: 1.0685444897303118\n"
     ]
    }
   ],
   "source": [
    "elasticnet_cv = ElasticNetCV(alphas=alphas, cv=5)\n",
    "\n",
    "elasticnet_cv.fit(X_train, y_train)\n",
    "\n",
    "# We are making predictions here\n",
    "y_preds_train = elasticnet_cv.predict(X_train)\n",
    "y_preds_test = elasticnet_cv.predict(X_test)\n",
    "\n",
    "print(\"Best alpha value is: {}\".format(elasticnet_cv.alpha_))\n",
    "print(\"R-squared of the model in training set is: {}\".format(elasticnet_cv.score(X_train, y_train)))\n",
    "print(\"-----Test set statistics-----\")\n",
    "print(\"R-squared of the model in test set is: {}\".format(elasticnet_cv.score(X_test, y_test)))\n",
    "print(\"Mean absolute error of the prediction is: {}\".format(mean_absolute_error(y_test, y_preds_test)))\n",
    "print(\"Mean squared error of the prediction is: {}\".format(mse(y_test, y_preds_test)))\n",
    "print(\"Root mean squared error of the prediction is: {}\".format(rmse(y_test, y_preds_test)))\n",
    "print(\"Mean absolute percentage error of the prediction is: {}\".format(np.mean(np.abs((y_test - y_preds_test) / y_test)) * 100))"
   ]
  },
  {
   "cell_type": "markdown",
   "id": "18146e1a",
   "metadata": {
    "papermill": {
     "duration": 0.027675,
     "end_time": "2022-07-13T16:32:03.823725",
     "exception": false,
     "start_time": "2022-07-13T16:32:03.796050",
     "status": "completed"
    },
    "tags": []
   },
   "source": [
    "According to the results, the best model is the OLS regression."
   ]
  }
 ],
 "metadata": {
  "kernelspec": {
   "display_name": "Python 3",
   "language": "python",
   "name": "python3"
  },
  "language_info": {
   "codemirror_mode": {
    "name": "ipython",
    "version": 3
   },
   "file_extension": ".py",
   "mimetype": "text/x-python",
   "name": "python",
   "nbconvert_exporter": "python",
   "pygments_lexer": "ipython3",
   "version": "3.7.12"
  },
  "papermill": {
   "default_parameters": {},
   "duration": 37.706732,
   "end_time": "2022-07-13T16:32:07.379495",
   "environment_variables": {},
   "exception": null,
   "input_path": "__notebook__.ipynb",
   "output_path": "__notebook__.ipynb",
   "parameters": {},
   "start_time": "2022-07-13T16:31:29.672763",
   "version": "2.3.4"
  }
 },
 "nbformat": 4,
 "nbformat_minor": 5
}
