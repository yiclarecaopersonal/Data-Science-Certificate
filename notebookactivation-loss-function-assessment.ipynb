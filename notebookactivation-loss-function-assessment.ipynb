{
 "cells": [
  {
   "cell_type": "code",
   "execution_count": 1,
   "id": "8dbf4ebd",
   "metadata": {
    "execution": {
     "iopub.execute_input": "2022-12-02T03:48:56.568592Z",
     "iopub.status.busy": "2022-12-02T03:48:56.567627Z",
     "iopub.status.idle": "2022-12-02T03:49:02.234788Z",
     "shell.execute_reply": "2022-12-02T03:49:02.233656Z"
    },
    "papermill": {
     "duration": 5.677631,
     "end_time": "2022-12-02T03:49:02.237634",
     "exception": false,
     "start_time": "2022-12-02T03:48:56.560003",
     "status": "completed"
    },
    "tags": []
   },
   "outputs": [],
   "source": [
    "from tensorflow.keras.datasets import mnist\n",
    "from tensorflow.keras.utils import to_categorical\n",
    "from tensorflow.keras.models import Sequential \n",
    "from tensorflow.keras.layers import Dense\n",
    "\n",
    "import warnings\n",
    "warnings.filterwarnings(\"ignore\")"
   ]
  },
  {
   "cell_type": "code",
   "execution_count": 2,
   "id": "29339b1a",
   "metadata": {
    "execution": {
     "iopub.execute_input": "2022-12-02T03:49:02.249600Z",
     "iopub.status.busy": "2022-12-02T03:49:02.249020Z",
     "iopub.status.idle": "2022-12-02T03:49:04.236332Z",
     "shell.execute_reply": "2022-12-02T03:49:04.234853Z"
    },
    "papermill": {
     "duration": 1.996483,
     "end_time": "2022-12-02T03:49:04.239170",
     "exception": false,
     "start_time": "2022-12-02T03:49:02.242687",
     "status": "completed"
    },
    "tags": []
   },
   "outputs": [
    {
     "name": "stdout",
     "output_type": "stream",
     "text": [
      "Downloading data from https://storage.googleapis.com/tensorflow/tf-keras-datasets/mnist.npz\n",
      "11493376/11490434 [==============================] - 1s 0us/step\n",
      "11501568/11490434 [==============================] - 1s 0us/step\n"
     ]
    }
   ],
   "source": [
    "(X_train, y_train), (X_test, y_test) = mnist.load_data()\n",
    "\n",
    "input_dim = 784  # 28*28\n",
    "output_dim = nb_classes = 10\n",
    "batch_size = 128\n",
    "nb_epoch = 20\n",
    "\n",
    "X_train = X_train.reshape(60000, input_dim)\n",
    "X_test = X_test.reshape(10000, input_dim)\n",
    "X_train = X_train.astype('float32')\n",
    "X_test = X_test.astype('float32')\n",
    "X_train /= 255\n",
    "X_test /= 255"
   ]
  },
  {
   "cell_type": "code",
   "execution_count": 3,
   "id": "9f9a28cd",
   "metadata": {
    "execution": {
     "iopub.execute_input": "2022-12-02T03:49:04.253331Z",
     "iopub.status.busy": "2022-12-02T03:49:04.252944Z",
     "iopub.status.idle": "2022-12-02T03:49:04.260932Z",
     "shell.execute_reply": "2022-12-02T03:49:04.259783Z"
    },
    "papermill": {
     "duration": 0.017849,
     "end_time": "2022-12-02T03:49:04.263389",
     "exception": false,
     "start_time": "2022-12-02T03:49:04.245540",
     "status": "completed"
    },
    "tags": []
   },
   "outputs": [],
   "source": [
    "Y_train = to_categorical(y_train, nb_classes)\n",
    "Y_test = to_categorical(y_test, nb_classes)"
   ]
  },
  {
   "cell_type": "code",
   "execution_count": 4,
   "id": "aca95acf",
   "metadata": {
    "execution": {
     "iopub.execute_input": "2022-12-02T03:49:04.279767Z",
     "iopub.status.busy": "2022-12-02T03:49:04.279414Z",
     "iopub.status.idle": "2022-12-02T03:49:31.524395Z",
     "shell.execute_reply": "2022-12-02T03:49:31.523122Z"
    },
    "papermill": {
     "duration": 27.256281,
     "end_time": "2022-12-02T03:49:31.526983",
     "exception": false,
     "start_time": "2022-12-02T03:49:04.270702",
     "status": "completed"
    },
    "tags": []
   },
   "outputs": [
    {
     "name": "stderr",
     "output_type": "stream",
     "text": [
      "2022-12-02 03:49:04.320902: I tensorflow/core/common_runtime/process_util.cc:146] Creating new thread pool with default inter op setting: 2. Tune using inter_op_parallelism_threads for best performance.\n",
      "2022-12-02 03:49:04.863868: I tensorflow/compiler/mlir/mlir_graph_optimization_pass.cc:185] None of the MLIR Optimization Passes are enabled (registered 2)\n"
     ]
    },
    {
     "name": "stdout",
     "output_type": "stream",
     "text": [
      "Epoch 1/20\n",
      "469/469 [==============================] - 2s 3ms/step - loss: 1.0087 - accuracy: 0.7578\n",
      "Epoch 2/20\n",
      "469/469 [==============================] - 1s 3ms/step - loss: 0.5207 - accuracy: 0.8700\n",
      "Epoch 3/20\n",
      "469/469 [==============================] - 1s 3ms/step - loss: 0.4230 - accuracy: 0.8896\n",
      "Epoch 4/20\n",
      "469/469 [==============================] - 1s 3ms/step - loss: 0.3759 - accuracy: 0.8984\n",
      "Epoch 5/20\n",
      "469/469 [==============================] - 1s 3ms/step - loss: 0.3468 - accuracy: 0.9047\n",
      "Epoch 6/20\n",
      "469/469 [==============================] - 1s 3ms/step - loss: 0.3260 - accuracy: 0.9092\n",
      "Epoch 7/20\n",
      "469/469 [==============================] - 1s 3ms/step - loss: 0.3099 - accuracy: 0.9133\n",
      "Epoch 8/20\n",
      "469/469 [==============================] - 1s 3ms/step - loss: 0.2968 - accuracy: 0.9161\n",
      "Epoch 9/20\n",
      "469/469 [==============================] - 1s 3ms/step - loss: 0.2855 - accuracy: 0.9187\n",
      "Epoch 10/20\n",
      "469/469 [==============================] - 1s 3ms/step - loss: 0.2758 - accuracy: 0.9219\n",
      "Epoch 11/20\n",
      "469/469 [==============================] - 1s 3ms/step - loss: 0.2668 - accuracy: 0.9241\n",
      "Epoch 12/20\n",
      "469/469 [==============================] - 1s 3ms/step - loss: 0.2586 - accuracy: 0.9264\n",
      "Epoch 13/20\n",
      "469/469 [==============================] - 1s 3ms/step - loss: 0.2512 - accuracy: 0.9285\n",
      "Epoch 14/20\n",
      "469/469 [==============================] - 1s 3ms/step - loss: 0.2441 - accuracy: 0.9303\n",
      "Epoch 15/20\n",
      "469/469 [==============================] - 1s 3ms/step - loss: 0.2375 - accuracy: 0.9319\n",
      "Epoch 16/20\n",
      "469/469 [==============================] - 1s 3ms/step - loss: 0.2313 - accuracy: 0.9338\n",
      "Epoch 17/20\n",
      "469/469 [==============================] - 1s 3ms/step - loss: 0.2255 - accuracy: 0.9355\n",
      "Epoch 18/20\n",
      "469/469 [==============================] - 1s 3ms/step - loss: 0.2200 - accuracy: 0.9375\n",
      "Epoch 19/20\n",
      "469/469 [==============================] - 1s 3ms/step - loss: 0.2146 - accuracy: 0.9385\n",
      "Epoch 20/20\n",
      "469/469 [==============================] - 1s 3ms/step - loss: 0.2097 - accuracy: 0.9402\n"
     ]
    },
    {
     "data": {
      "text/plain": [
       "<keras.callbacks.History at 0x7f3554de0a10>"
      ]
     },
     "execution_count": 4,
     "metadata": {},
     "output_type": "execute_result"
    }
   ],
   "source": [
    "#### Implement a three layer ANN model with 128, 64 and 10 neurons in the layers using tanh activation.\n",
    "model = Sequential()\n",
    "# our first dense layer\n",
    "model.add(Dense(128, input_shape=(784,), activation=\"tanh\"))\n",
    "# our second dense layer\n",
    "model.add(Dense(64, activation=\"tanh\"))\n",
    "# last layer is the output layer.\n",
    "model.add(Dense(10, activation=\"softmax\"))\n",
    "\n",
    "model.compile(optimizer='sgd', loss='categorical_crossentropy',\n",
    "              metrics=['accuracy'])\n",
    "\n",
    "# setting verbose=1 prints out some results after each epoch\n",
    "model.fit(X_train, Y_train, batch_size=batch_size, epochs=20, verbose=1)"
   ]
  },
  {
   "cell_type": "code",
   "execution_count": 5,
   "id": "3fa3c7c0",
   "metadata": {
    "execution": {
     "iopub.execute_input": "2022-12-02T03:49:31.608368Z",
     "iopub.status.busy": "2022-12-02T03:49:31.607694Z",
     "iopub.status.idle": "2022-12-02T03:49:32.277008Z",
     "shell.execute_reply": "2022-12-02T03:49:32.275031Z"
    },
    "papermill": {
     "duration": 0.71167,
     "end_time": "2022-12-02T03:49:32.279560",
     "exception": false,
     "start_time": "2022-12-02T03:49:31.567890",
     "status": "completed"
    },
    "tags": []
   },
   "outputs": [
    {
     "name": "stdout",
     "output_type": "stream",
     "text": [
      "Test score: 0.2074958235025406\n",
      "Test accuracy: 0.940500020980835\n"
     ]
    }
   ],
   "source": [
    "score = model.evaluate(X_test, Y_test, verbose=0)\n",
    "print('Test score:', score[0])\n",
    "print('Test accuracy:', score[1])"
   ]
  },
  {
   "cell_type": "code",
   "execution_count": 6,
   "id": "8d6b0bd9",
   "metadata": {
    "execution": {
     "iopub.execute_input": "2022-12-02T03:49:32.358583Z",
     "iopub.status.busy": "2022-12-02T03:49:32.358178Z",
     "iopub.status.idle": "2022-12-02T03:49:59.505378Z",
     "shell.execute_reply": "2022-12-02T03:49:59.504532Z"
    },
    "papermill": {
     "duration": 27.189922,
     "end_time": "2022-12-02T03:49:59.507547",
     "exception": false,
     "start_time": "2022-12-02T03:49:32.317625",
     "status": "completed"
    },
    "tags": []
   },
   "outputs": [
    {
     "name": "stdout",
     "output_type": "stream",
     "text": [
      "Epoch 1/20\n",
      "469/469 [==============================] - 2s 3ms/step - loss: 2.3000 - accuracy: 0.1426\n",
      "Epoch 2/20\n",
      "469/469 [==============================] - 1s 3ms/step - loss: 2.2315 - accuracy: 0.3094\n",
      "Epoch 3/20\n",
      "469/469 [==============================] - 2s 4ms/step - loss: 2.1667 - accuracy: 0.4497\n",
      "Epoch 4/20\n",
      "469/469 [==============================] - 1s 3ms/step - loss: 2.0765 - accuracy: 0.5270\n",
      "Epoch 5/20\n",
      "469/469 [==============================] - 1s 3ms/step - loss: 1.9498 - accuracy: 0.5835\n",
      "Epoch 6/20\n",
      "469/469 [==============================] - 1s 3ms/step - loss: 1.7859 - accuracy: 0.6247\n",
      "Epoch 7/20\n",
      "469/469 [==============================] - 1s 3ms/step - loss: 1.6027 - accuracy: 0.6624\n",
      "Epoch 8/20\n",
      "469/469 [==============================] - 1s 3ms/step - loss: 1.4262 - accuracy: 0.6974\n",
      "Epoch 9/20\n",
      "469/469 [==============================] - 1s 3ms/step - loss: 1.2729 - accuracy: 0.7209\n",
      "Epoch 10/20\n",
      "469/469 [==============================] - 1s 3ms/step - loss: 1.1464 - accuracy: 0.7416\n",
      "Epoch 11/20\n",
      "469/469 [==============================] - 1s 3ms/step - loss: 1.0441 - accuracy: 0.7566\n",
      "Epoch 12/20\n",
      "469/469 [==============================] - 1s 3ms/step - loss: 0.9605 - accuracy: 0.7726\n",
      "Epoch 13/20\n",
      "469/469 [==============================] - 1s 3ms/step - loss: 0.8909 - accuracy: 0.7866\n",
      "Epoch 14/20\n",
      "469/469 [==============================] - 1s 3ms/step - loss: 0.8317 - accuracy: 0.7994\n",
      "Epoch 15/20\n",
      "469/469 [==============================] - 1s 3ms/step - loss: 0.7804 - accuracy: 0.8104\n",
      "Epoch 16/20\n",
      "469/469 [==============================] - 1s 3ms/step - loss: 0.7355 - accuracy: 0.8205\n",
      "Epoch 17/20\n",
      "469/469 [==============================] - 1s 3ms/step - loss: 0.6958 - accuracy: 0.8297\n",
      "Epoch 18/20\n",
      "469/469 [==============================] - 1s 3ms/step - loss: 0.6608 - accuracy: 0.8372\n",
      "Epoch 19/20\n",
      "469/469 [==============================] - 1s 3ms/step - loss: 0.6297 - accuracy: 0.8440\n",
      "Epoch 20/20\n",
      "469/469 [==============================] - 1s 3ms/step - loss: 0.6022 - accuracy: 0.8500\n"
     ]
    },
    {
     "data": {
      "text/plain": [
       "<keras.callbacks.History at 0x7f35407053d0>"
      ]
     },
     "execution_count": 6,
     "metadata": {},
     "output_type": "execute_result"
    }
   ],
   "source": [
    "### Implement a three layer ANN model with 128, 64 and 10 neurons in the layers using sigmoid activation.\n",
    "model = Sequential()\n",
    "# our first dense layer\n",
    "model.add(Dense(128, input_shape=(784,), activation=\"sigmoid\"))\n",
    "# our second dense layer\n",
    "model.add(Dense(64, activation=\"sigmoid\"))\n",
    "# last layer is the output layer.\n",
    "model.add(Dense(10, activation=\"softmax\"))\n",
    "\n",
    "model.compile(optimizer='sgd', loss='categorical_crossentropy',\n",
    "              metrics=['accuracy'])\n",
    "\n",
    "# setting verbose=1 prints out some results after each epoch\n",
    "model.fit(X_train, Y_train, batch_size=batch_size, epochs=20, verbose=1)"
   ]
  },
  {
   "cell_type": "code",
   "execution_count": 7,
   "id": "4263e981",
   "metadata": {
    "execution": {
     "iopub.execute_input": "2022-12-02T03:49:59.651614Z",
     "iopub.status.busy": "2022-12-02T03:49:59.651234Z",
     "iopub.status.idle": "2022-12-02T03:50:00.224339Z",
     "shell.execute_reply": "2022-12-02T03:50:00.222363Z"
    },
    "papermill": {
     "duration": 0.647052,
     "end_time": "2022-12-02T03:50:00.226582",
     "exception": false,
     "start_time": "2022-12-02T03:49:59.579530",
     "status": "completed"
    },
    "tags": []
   },
   "outputs": [
    {
     "name": "stdout",
     "output_type": "stream",
     "text": [
      "Test score: 0.5725364685058594\n",
      "Test accuracy: 0.8557000160217285\n"
     ]
    }
   ],
   "source": [
    "score = model.evaluate(X_test, Y_test, verbose=0)\n",
    "print('Test score:', score[0])\n",
    "print('Test accuracy:', score[1])"
   ]
  },
  {
   "cell_type": "code",
   "execution_count": 8,
   "id": "d1da5ab2",
   "metadata": {
    "execution": {
     "iopub.execute_input": "2022-12-02T03:50:00.366511Z",
     "iopub.status.busy": "2022-12-02T03:50:00.366113Z",
     "iopub.status.idle": "2022-12-02T03:50:26.755571Z",
     "shell.execute_reply": "2022-12-02T03:50:26.754488Z"
    },
    "papermill": {
     "duration": 26.460881,
     "end_time": "2022-12-02T03:50:26.757722",
     "exception": false,
     "start_time": "2022-12-02T03:50:00.296841",
     "status": "completed"
    },
    "tags": []
   },
   "outputs": [
    {
     "name": "stdout",
     "output_type": "stream",
     "text": [
      "Epoch 1/20\n",
      "469/469 [==============================] - 2s 3ms/step - loss: 1.2199 - accuracy: 0.6881\n",
      "Epoch 2/20\n",
      "469/469 [==============================] - 1s 3ms/step - loss: 0.4939 - accuracy: 0.8701\n",
      "Epoch 3/20\n",
      "469/469 [==============================] - 1s 3ms/step - loss: 0.3826 - accuracy: 0.8945\n",
      "Epoch 4/20\n",
      "469/469 [==============================] - 1s 3ms/step - loss: 0.3358 - accuracy: 0.9053\n",
      "Epoch 5/20\n",
      "469/469 [==============================] - 1s 3ms/step - loss: 0.3076 - accuracy: 0.9124\n",
      "Epoch 6/20\n",
      "469/469 [==============================] - 2s 4ms/step - loss: 0.2870 - accuracy: 0.9184\n",
      "Epoch 7/20\n",
      "469/469 [==============================] - 1s 3ms/step - loss: 0.2703 - accuracy: 0.9222\n",
      "Epoch 8/20\n",
      "469/469 [==============================] - 1s 3ms/step - loss: 0.2563 - accuracy: 0.9266\n",
      "Epoch 9/20\n",
      "469/469 [==============================] - 1s 3ms/step - loss: 0.2443 - accuracy: 0.9302\n",
      "Epoch 10/20\n",
      "469/469 [==============================] - 1s 3ms/step - loss: 0.2338 - accuracy: 0.9337\n",
      "Epoch 11/20\n",
      "469/469 [==============================] - 1s 3ms/step - loss: 0.2242 - accuracy: 0.9360\n",
      "Epoch 12/20\n",
      "469/469 [==============================] - 1s 3ms/step - loss: 0.2156 - accuracy: 0.9384\n",
      "Epoch 13/20\n",
      "469/469 [==============================] - 1s 3ms/step - loss: 0.2073 - accuracy: 0.9410\n",
      "Epoch 14/20\n",
      "469/469 [==============================] - 1s 3ms/step - loss: 0.2000 - accuracy: 0.9430\n",
      "Epoch 15/20\n",
      "469/469 [==============================] - 1s 3ms/step - loss: 0.1931 - accuracy: 0.9448\n",
      "Epoch 16/20\n",
      "469/469 [==============================] - 1s 3ms/step - loss: 0.1866 - accuracy: 0.9470\n",
      "Epoch 17/20\n",
      "469/469 [==============================] - 1s 3ms/step - loss: 0.1806 - accuracy: 0.9492\n",
      "Epoch 18/20\n",
      "469/469 [==============================] - 1s 3ms/step - loss: 0.1749 - accuracy: 0.9505\n",
      "Epoch 19/20\n",
      "469/469 [==============================] - 1s 3ms/step - loss: 0.1696 - accuracy: 0.9517\n",
      "Epoch 20/20\n",
      "469/469 [==============================] - 1s 3ms/step - loss: 0.1645 - accuracy: 0.9535\n"
     ]
    },
    {
     "data": {
      "text/plain": [
       "<keras.callbacks.History at 0x7f35403cc850>"
      ]
     },
     "execution_count": 8,
     "metadata": {},
     "output_type": "execute_result"
    }
   ],
   "source": [
    "### Implement a three layer ANN model with 128, 64 and 10 neurons in the layers using ReLU activation function\n",
    "model = Sequential()\n",
    "# our first dense layer\n",
    "model.add(Dense(128, input_shape=(784,), activation=\"relu\"))\n",
    "# our second dense layer\n",
    "model.add(Dense(64, activation=\"relu\"))\n",
    "# last layer is the output layer.\n",
    "model.add(Dense(10, activation=\"softmax\"))\n",
    "\n",
    "model.compile(optimizer='sgd', loss='categorical_crossentropy',\n",
    "              metrics=['accuracy'])\n",
    "\n",
    "# setting verbose=1 prints out some results after each epoch\n",
    "model.fit(X_train, Y_train, batch_size=batch_size, epochs=20, verbose=1)"
   ]
  },
  {
   "cell_type": "code",
   "execution_count": 9,
   "id": "b8d388c2",
   "metadata": {
    "execution": {
     "iopub.execute_input": "2022-12-02T03:50:26.967217Z",
     "iopub.status.busy": "2022-12-02T03:50:26.966804Z",
     "iopub.status.idle": "2022-12-02T03:50:27.540462Z",
     "shell.execute_reply": "2022-12-02T03:50:27.539117Z"
    },
    "papermill": {
     "duration": 0.681317,
     "end_time": "2022-12-02T03:50:27.542902",
     "exception": false,
     "start_time": "2022-12-02T03:50:26.861585",
     "status": "completed"
    },
    "tags": []
   },
   "outputs": [
    {
     "name": "stdout",
     "output_type": "stream",
     "text": [
      "Test score: 0.16651631891727448\n",
      "Test accuracy: 0.9509999752044678\n"
     ]
    }
   ],
   "source": [
    "score = model.evaluate(X_test, Y_test, verbose=0)\n",
    "print('Test score:', score[0])\n",
    "print('Test accuracy:', score[1])"
   ]
  },
  {
   "cell_type": "markdown",
   "id": "00571b41",
   "metadata": {
    "papermill": {
     "duration": 0.102748,
     "end_time": "2022-12-02T03:50:27.749181",
     "exception": false,
     "start_time": "2022-12-02T03:50:27.646433",
     "status": "completed"
    },
    "tags": []
   },
   "source": [
    "The highest accuracies in both the training and the test sets are achieved using the ReLU function."
   ]
  },
  {
   "cell_type": "markdown",
   "id": "900be1b6",
   "metadata": {
    "papermill": {
     "duration": 0.105413,
     "end_time": "2022-12-02T03:50:27.958366",
     "exception": false,
     "start_time": "2022-12-02T03:50:27.852953",
     "status": "completed"
    },
    "tags": []
   },
   "source": [
    "\n",
    "   "
   ]
  },
  {
   "cell_type": "code",
   "execution_count": 10,
   "id": "88e23142",
   "metadata": {
    "execution": {
     "iopub.execute_input": "2022-12-02T03:50:28.167120Z",
     "iopub.status.busy": "2022-12-02T03:50:28.166692Z",
     "iopub.status.idle": "2022-12-02T03:50:57.079699Z",
     "shell.execute_reply": "2022-12-02T03:50:57.078201Z"
    },
    "papermill": {
     "duration": 29.019953,
     "end_time": "2022-12-02T03:50:57.082225",
     "exception": false,
     "start_time": "2022-12-02T03:50:28.062272",
     "status": "completed"
    },
    "tags": []
   },
   "outputs": [
    {
     "name": "stdout",
     "output_type": "stream",
     "text": [
      "Epoch 1/20\n",
      "469/469 [==============================] - 2s 3ms/step - loss: 0.9574 - accuracy: 0.4750\n",
      "Epoch 2/20\n",
      "469/469 [==============================] - 1s 3ms/step - loss: 0.7266 - accuracy: 0.7140\n",
      "Epoch 3/20\n",
      "469/469 [==============================] - 1s 3ms/step - loss: 0.5534 - accuracy: 0.7903\n",
      "Epoch 4/20\n",
      "469/469 [==============================] - 1s 3ms/step - loss: 0.4489 - accuracy: 0.8415\n",
      "Epoch 5/20\n",
      "469/469 [==============================] - 1s 3ms/step - loss: 0.3816 - accuracy: 0.8639\n",
      "Epoch 6/20\n",
      "469/469 [==============================] - 1s 3ms/step - loss: 0.3389 - accuracy: 0.8755\n",
      "Epoch 7/20\n",
      "469/469 [==============================] - 1s 3ms/step - loss: 0.3098 - accuracy: 0.8828\n",
      "Epoch 8/20\n",
      "469/469 [==============================] - 2s 4ms/step - loss: 0.2884 - accuracy: 0.8884\n",
      "Epoch 9/20\n",
      "469/469 [==============================] - 1s 3ms/step - loss: 0.2720 - accuracy: 0.8927\n",
      "Epoch 10/20\n",
      "469/469 [==============================] - 1s 3ms/step - loss: 0.2588 - accuracy: 0.8971\n",
      "Epoch 11/20\n",
      "469/469 [==============================] - 1s 3ms/step - loss: 0.2479 - accuracy: 0.9000\n",
      "Epoch 12/20\n",
      "469/469 [==============================] - 1s 3ms/step - loss: 0.2387 - accuracy: 0.9032\n",
      "Epoch 13/20\n",
      "469/469 [==============================] - 1s 3ms/step - loss: 0.2308 - accuracy: 0.9053\n",
      "Epoch 14/20\n",
      "469/469 [==============================] - 1s 3ms/step - loss: 0.2239 - accuracy: 0.9073\n",
      "Epoch 15/20\n",
      "469/469 [==============================] - 1s 3ms/step - loss: 0.2176 - accuracy: 0.9094\n",
      "Epoch 16/20\n",
      "469/469 [==============================] - 1s 3ms/step - loss: 0.2123 - accuracy: 0.9108\n",
      "Epoch 17/20\n",
      "469/469 [==============================] - 1s 3ms/step - loss: 0.2073 - accuracy: 0.9131\n",
      "Epoch 18/20\n",
      "469/469 [==============================] - 1s 3ms/step - loss: 0.2027 - accuracy: 0.9144\n",
      "Epoch 19/20\n",
      "469/469 [==============================] - 1s 3ms/step - loss: 0.1986 - accuracy: 0.9160\n",
      "Epoch 20/20\n",
      "469/469 [==============================] - 1s 3ms/step - loss: 0.1947 - accuracy: 0.9175\n"
     ]
    },
    {
     "data": {
      "text/plain": [
       "<keras.callbacks.History at 0x7f354020e690>"
      ]
     },
     "execution_count": 10,
     "metadata": {},
     "output_type": "execute_result"
    }
   ],
   "source": [
    "### Implement a three layer ANN model with 128, 64 and 10 neurons in the layers using Tanh and loss='categorical_hinge'\n",
    "model = Sequential()\n",
    "# our first dense layer\n",
    "model.add(Dense(128, input_shape=(784,), activation=\"tanh\"))\n",
    "# our second dense layer\n",
    "model.add(Dense(64, activation=\"tanh\"))\n",
    "# last layer is the output layer.\n",
    "model.add(Dense(10, activation=\"softmax\"))\n",
    "\n",
    "model.compile(optimizer='sgd', loss='categorical_hinge',\n",
    "              metrics=['accuracy'])\n",
    "\n",
    "# setting verbose=1 prints out some results after each epoch\n",
    "model.fit(X_train, Y_train, batch_size=batch_size, epochs=20, verbose=1)"
   ]
  },
  {
   "cell_type": "code",
   "execution_count": 11,
   "id": "43d9a123",
   "metadata": {
    "execution": {
     "iopub.execute_input": "2022-12-02T03:50:57.358934Z",
     "iopub.status.busy": "2022-12-02T03:50:57.358191Z",
     "iopub.status.idle": "2022-12-02T03:50:57.938879Z",
     "shell.execute_reply": "2022-12-02T03:50:57.937300Z"
    },
    "papermill": {
     "duration": 0.723341,
     "end_time": "2022-12-02T03:50:57.942995",
     "exception": false,
     "start_time": "2022-12-02T03:50:57.219654",
     "status": "completed"
    },
    "tags": []
   },
   "outputs": [
    {
     "name": "stdout",
     "output_type": "stream",
     "text": [
      "Test score: 0.18794609606266022\n",
      "Test accuracy: 0.9223999977111816\n"
     ]
    }
   ],
   "source": [
    "score = model.evaluate(X_test, Y_test, verbose=0)\n",
    "print('Test score:', score[0])\n",
    "print('Test accuracy:', score[1])"
   ]
  },
  {
   "cell_type": "code",
   "execution_count": 12,
   "id": "bc0bdb61",
   "metadata": {
    "execution": {
     "iopub.execute_input": "2022-12-02T03:50:58.220252Z",
     "iopub.status.busy": "2022-12-02T03:50:58.219824Z",
     "iopub.status.idle": "2022-12-02T03:51:27.222896Z",
     "shell.execute_reply": "2022-12-02T03:51:27.222141Z"
    },
    "papermill": {
     "duration": 29.143359,
     "end_time": "2022-12-02T03:51:27.224888",
     "exception": false,
     "start_time": "2022-12-02T03:50:58.081529",
     "status": "completed"
    },
    "tags": []
   },
   "outputs": [
    {
     "name": "stdout",
     "output_type": "stream",
     "text": [
      "Epoch 1/20\n",
      "469/469 [==============================] - 2s 3ms/step - loss: 1.0200 - accuracy: 0.2278\n",
      "Epoch 2/20\n",
      "469/469 [==============================] - 1s 3ms/step - loss: 1.0022 - accuracy: 0.2887\n",
      "Epoch 3/20\n",
      "469/469 [==============================] - 1s 3ms/step - loss: 1.0016 - accuracy: 0.3372\n",
      "Epoch 4/20\n",
      "469/469 [==============================] - 1s 3ms/step - loss: 1.0011 - accuracy: 0.3811\n",
      "Epoch 5/20\n",
      "469/469 [==============================] - 1s 3ms/step - loss: 1.0006 - accuracy: 0.4212\n",
      "Epoch 6/20\n",
      "469/469 [==============================] - 1s 3ms/step - loss: 1.0002 - accuracy: 0.4569\n",
      "Epoch 7/20\n",
      "469/469 [==============================] - 1s 3ms/step - loss: 0.9998 - accuracy: 0.4869\n",
      "Epoch 8/20\n",
      "469/469 [==============================] - 1s 3ms/step - loss: 0.9994 - accuracy: 0.5134\n",
      "Epoch 9/20\n",
      "469/469 [==============================] - 2s 4ms/step - loss: 0.9991 - accuracy: 0.5379\n",
      "Epoch 10/20\n",
      "469/469 [==============================] - 2s 4ms/step - loss: 0.9987 - accuracy: 0.5600\n",
      "Epoch 11/20\n",
      "469/469 [==============================] - 2s 3ms/step - loss: 0.9984 - accuracy: 0.5799\n",
      "Epoch 12/20\n",
      "469/469 [==============================] - 1s 3ms/step - loss: 0.9981 - accuracy: 0.5987\n",
      "Epoch 13/20\n",
      "469/469 [==============================] - 1s 3ms/step - loss: 0.9978 - accuracy: 0.6143\n",
      "Epoch 14/20\n",
      "469/469 [==============================] - 1s 3ms/step - loss: 0.9975 - accuracy: 0.6280\n",
      "Epoch 15/20\n",
      "469/469 [==============================] - 1s 3ms/step - loss: 0.9972 - accuracy: 0.6408\n",
      "Epoch 16/20\n",
      "469/469 [==============================] - 1s 3ms/step - loss: 0.9969 - accuracy: 0.6524\n",
      "Epoch 17/20\n",
      "469/469 [==============================] - 1s 3ms/step - loss: 0.9966 - accuracy: 0.6616\n",
      "Epoch 18/20\n",
      "469/469 [==============================] - 1s 3ms/step - loss: 0.9963 - accuracy: 0.6706\n",
      "Epoch 19/20\n",
      "469/469 [==============================] - 1s 3ms/step - loss: 0.9960 - accuracy: 0.6776\n",
      "Epoch 20/20\n",
      "469/469 [==============================] - 1s 3ms/step - loss: 0.9957 - accuracy: 0.6847\n"
     ]
    },
    {
     "data": {
      "text/plain": [
       "<keras.callbacks.History at 0x7f35287796d0>"
      ]
     },
     "execution_count": 12,
     "metadata": {},
     "output_type": "execute_result"
    }
   ],
   "source": [
    "### Implement a three layer ANN model with 128, 64 and 10 neurons in the layers using sigmoid and loss='categorical_hinge'\n",
    "model = Sequential()\n",
    "# our first dense layer\n",
    "model.add(Dense(128, input_shape=(784,), activation=\"sigmoid\"))\n",
    "# our second dense layer\n",
    "model.add(Dense(64, activation=\"sigmoid\"))\n",
    "# last layer is the output layer.\n",
    "model.add(Dense(10, activation=\"softmax\"))\n",
    "\n",
    "model.compile(optimizer='sgd', loss='categorical_hinge',\n",
    "              metrics=['accuracy'])\n",
    "\n",
    "# setting verbose=1 prints out some results after each epoch\n",
    "model.fit(X_train, Y_train, batch_size=batch_size, epochs=20, verbose=1)"
   ]
  },
  {
   "cell_type": "code",
   "execution_count": 13,
   "id": "af4523d3",
   "metadata": {
    "execution": {
     "iopub.execute_input": "2022-12-02T03:51:27.634380Z",
     "iopub.status.busy": "2022-12-02T03:51:27.633759Z",
     "iopub.status.idle": "2022-12-02T03:51:28.230426Z",
     "shell.execute_reply": "2022-12-02T03:51:28.229144Z"
    },
    "papermill": {
     "duration": 0.772747,
     "end_time": "2022-12-02T03:51:28.233882",
     "exception": false,
     "start_time": "2022-12-02T03:51:27.461135",
     "status": "completed"
    },
    "tags": []
   },
   "outputs": [
    {
     "name": "stdout",
     "output_type": "stream",
     "text": [
      "Test score: 0.9954524636268616\n",
      "Test accuracy: 0.6944000124931335\n"
     ]
    }
   ],
   "source": [
    "score = model.evaluate(X_test, Y_test, verbose=0)\n",
    "print('Test score:', score[0])\n",
    "print('Test accuracy:', score[1])"
   ]
  },
  {
   "cell_type": "code",
   "execution_count": 14,
   "id": "3378cc51",
   "metadata": {
    "execution": {
     "iopub.execute_input": "2022-12-02T03:51:28.582637Z",
     "iopub.status.busy": "2022-12-02T03:51:28.582248Z",
     "iopub.status.idle": "2022-12-02T03:51:56.698287Z",
     "shell.execute_reply": "2022-12-02T03:51:56.697010Z"
    },
    "papermill": {
     "duration": 28.291701,
     "end_time": "2022-12-02T03:51:56.700657",
     "exception": false,
     "start_time": "2022-12-02T03:51:28.408956",
     "status": "completed"
    },
    "tags": []
   },
   "outputs": [
    {
     "name": "stdout",
     "output_type": "stream",
     "text": [
      "Epoch 1/20\n",
      "469/469 [==============================] - 2s 3ms/step - loss: 1.0149 - accuracy: 0.2951\n",
      "Epoch 2/20\n",
      "469/469 [==============================] - 1s 3ms/step - loss: 0.9771 - accuracy: 0.5219\n",
      "Epoch 3/20\n",
      "469/469 [==============================] - 1s 3ms/step - loss: 0.8634 - accuracy: 0.5964\n",
      "Epoch 4/20\n",
      "469/469 [==============================] - 1s 3ms/step - loss: 0.6779 - accuracy: 0.7140\n",
      "Epoch 5/20\n",
      "469/469 [==============================] - 1s 3ms/step - loss: 0.5292 - accuracy: 0.8079\n",
      "Epoch 6/20\n",
      "469/469 [==============================] - 1s 3ms/step - loss: 0.4083 - accuracy: 0.8571\n",
      "Epoch 7/20\n",
      "469/469 [==============================] - 1s 3ms/step - loss: 0.3318 - accuracy: 0.8788\n",
      "Epoch 8/20\n",
      "469/469 [==============================] - 1s 3ms/step - loss: 0.2882 - accuracy: 0.8896\n",
      "Epoch 9/20\n",
      "469/469 [==============================] - 1s 3ms/step - loss: 0.2612 - accuracy: 0.8960\n",
      "Epoch 10/20\n",
      "469/469 [==============================] - 1s 3ms/step - loss: 0.2426 - accuracy: 0.9015\n",
      "Epoch 11/20\n",
      "469/469 [==============================] - 2s 4ms/step - loss: 0.2288 - accuracy: 0.9057\n",
      "Epoch 12/20\n",
      "469/469 [==============================] - 1s 3ms/step - loss: 0.2180 - accuracy: 0.9085\n",
      "Epoch 13/20\n",
      "469/469 [==============================] - 1s 3ms/step - loss: 0.2091 - accuracy: 0.9115\n",
      "Epoch 14/20\n",
      "469/469 [==============================] - 1s 3ms/step - loss: 0.2017 - accuracy: 0.9141\n",
      "Epoch 15/20\n",
      "469/469 [==============================] - 1s 3ms/step - loss: 0.1952 - accuracy: 0.9161\n",
      "Epoch 16/20\n",
      "469/469 [==============================] - 1s 3ms/step - loss: 0.1895 - accuracy: 0.9179\n",
      "Epoch 17/20\n",
      "469/469 [==============================] - 1s 3ms/step - loss: 0.1846 - accuracy: 0.9198\n",
      "Epoch 18/20\n",
      "469/469 [==============================] - 1s 3ms/step - loss: 0.1801 - accuracy: 0.9211\n",
      "Epoch 19/20\n",
      "469/469 [==============================] - 1s 3ms/step - loss: 0.1759 - accuracy: 0.9232\n",
      "Epoch 20/20\n",
      "469/469 [==============================] - 1s 3ms/step - loss: 0.1721 - accuracy: 0.9246\n"
     ]
    },
    {
     "data": {
      "text/plain": [
       "<keras.callbacks.History at 0x7f35285d6150>"
      ]
     },
     "execution_count": 14,
     "metadata": {},
     "output_type": "execute_result"
    }
   ],
   "source": [
    "### Implement a three layer ANN model with 128, 64 and 10 neurons in the layers using ReLU and loss='categorical_hinge'\n",
    "model = Sequential()\n",
    "# our first dense layer\n",
    "model.add(Dense(128, input_shape=(784,), activation=\"relu\"))\n",
    "# our second dense layer\n",
    "model.add(Dense(64, activation=\"relu\"))\n",
    "# last layer is the output layer.\n",
    "model.add(Dense(10, activation=\"softmax\"))\n",
    "\n",
    "model.compile(optimizer='sgd', loss='categorical_hinge',\n",
    "              metrics=['accuracy'])\n",
    "\n",
    "# setting verbose=1 prints out some results after each epoch\n",
    "model.fit(X_train, Y_train, batch_size=batch_size, epochs=20, verbose=1)"
   ]
  },
  {
   "cell_type": "code",
   "execution_count": 15,
   "id": "f709681e",
   "metadata": {
    "execution": {
     "iopub.execute_input": "2022-12-02T03:51:57.115566Z",
     "iopub.status.busy": "2022-12-02T03:51:57.115145Z",
     "iopub.status.idle": "2022-12-02T03:51:57.724566Z",
     "shell.execute_reply": "2022-12-02T03:51:57.723156Z"
    },
    "papermill": {
     "duration": 0.819676,
     "end_time": "2022-12-02T03:51:57.727711",
     "exception": false,
     "start_time": "2022-12-02T03:51:56.908035",
     "status": "completed"
    },
    "tags": []
   },
   "outputs": [
    {
     "name": "stdout",
     "output_type": "stream",
     "text": [
      "Test score: 0.1666470617055893\n",
      "Test accuracy: 0.926800012588501\n"
     ]
    }
   ],
   "source": [
    "score = model.evaluate(X_test, Y_test, verbose=0)\n",
    "print('Test score:', score[0])\n",
    "print('Test accuracy:', score[1])"
   ]
  },
  {
   "cell_type": "markdown",
   "id": "a95647ef",
   "metadata": {
    "papermill": {
     "duration": 0.208217,
     "end_time": "2022-12-02T03:51:58.145373",
     "exception": false,
     "start_time": "2022-12-02T03:51:57.937156",
     "status": "completed"
    },
    "tags": []
   },
   "source": [
    "The highest accuracies in both the training and the test sets are achieved using the ReLU function. Moreover, all accuracies for all the models are lower when we train our models using hinge loss in comparison to using cross entropy loss."
   ]
  }
 ],
 "metadata": {
  "kernelspec": {
   "display_name": "Python 3",
   "language": "python",
   "name": "python3"
  },
  "language_info": {
   "codemirror_mode": {
    "name": "ipython",
    "version": 3
   },
   "file_extension": ".py",
   "mimetype": "text/x-python",
   "name": "python",
   "nbconvert_exporter": "python",
   "pygments_lexer": "ipython3",
   "version": "3.7.12"
  },
  "papermill": {
   "default_parameters": {},
   "duration": 193.146186,
   "end_time": "2022-12-02T03:52:01.984782",
   "environment_variables": {},
   "exception": null,
   "input_path": "__notebook__.ipynb",
   "output_path": "__notebook__.ipynb",
   "parameters": {},
   "start_time": "2022-12-02T03:48:48.838596",
   "version": "2.3.4"
  }
 },
 "nbformat": 4,
 "nbformat_minor": 5
}
