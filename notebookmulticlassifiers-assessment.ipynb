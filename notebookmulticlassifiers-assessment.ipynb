{
 "cells": [
  {
   "cell_type": "markdown",
   "id": "150296f9",
   "metadata": {
    "id": "iD1KjC8-hl_P",
    "papermill": {
     "duration": 0.003415,
     "end_time": "2022-07-01T23:40:24.287115",
     "exception": false,
     "start_time": "2022-07-01T23:40:24.283700",
     "status": "completed"
    },
    "tags": []
   },
   "source": [
    "## Multiclass classifiers\n",
    "In this assessment, you will load a dataset and train two models to perform multiclass classification. Then you will compare the results of the models. The dataset is the *digits* dataset available from scikit-learn's datasets library. This dataset contains 1,797 samples of written digits, and your goal is to correctly identify digits from 0 to 9."
   ]
  },
  {
   "cell_type": "markdown",
   "id": "622f2015",
   "metadata": {
    "id": "sZYeUk8FjHsd",
    "papermill": {
     "duration": 0.002258,
     "end_time": "2022-07-01T23:40:24.292410",
     "exception": false,
     "start_time": "2022-07-01T23:40:24.290152",
     "status": "completed"
    },
    "tags": []
   },
   "source": [
    "## Load the data\n",
    "\n",
    "1. Import the `load_digits()` function from the sklearn.datasets library.\n",
    "2. Invoke `load_digits()` with the `return_X_y` parameter set to `True`. Store the returned dataset in variables `X` and `y`."
   ]
  },
  {
   "cell_type": "code",
   "execution_count": 1,
   "id": "3d587c65",
   "metadata": {
    "execution": {
     "iopub.execute_input": "2022-07-01T23:40:24.298795Z",
     "iopub.status.busy": "2022-07-01T23:40:24.298363Z",
     "iopub.status.idle": "2022-07-01T23:40:25.583298Z",
     "shell.execute_reply": "2022-07-01T23:40:25.581891Z"
    },
    "id": "yU07T75-he8U",
    "papermill": {
     "duration": 1.291703,
     "end_time": "2022-07-01T23:40:25.586452",
     "exception": false,
     "start_time": "2022-07-01T23:40:24.294749",
     "status": "completed"
    },
    "tags": []
   },
   "outputs": [],
   "source": [
    "from sklearn.datasets import load_digits\n",
    "X, y = load_digits(return_X_y=True)"
   ]
  },
  {
   "cell_type": "markdown",
   "id": "a66990c9",
   "metadata": {
    "id": "isPHrCpCj5lL",
    "papermill": {
     "duration": 0.002535,
     "end_time": "2022-07-01T23:40:25.591889",
     "exception": false,
     "start_time": "2022-07-01T23:40:25.589354",
     "status": "completed"
    },
    "tags": []
   },
   "source": [
    "## Exploratory data analysis\n",
    "Perform a few exploratory  steps, including the following:\n",
    "\n",
    "1. Display the number of rows of data returned.\n",
    "2. Display the number of features in the dataset.\n",
    "3. Use NumPy's `bincount()` to display how many samples belong to each class. Is this a balanced dataset?"
   ]
  },
  {
   "cell_type": "code",
   "execution_count": 2,
   "id": "c68ae7d3",
   "metadata": {
    "execution": {
     "iopub.execute_input": "2022-07-01T23:40:25.600044Z",
     "iopub.status.busy": "2022-07-01T23:40:25.598915Z",
     "iopub.status.idle": "2022-07-01T23:40:25.610809Z",
     "shell.execute_reply": "2022-07-01T23:40:25.609659Z"
    },
    "id": "EX7gj8IGkTu7",
    "papermill": {
     "duration": 0.019849,
     "end_time": "2022-07-01T23:40:25.614586",
     "exception": false,
     "start_time": "2022-07-01T23:40:25.594737",
     "status": "completed"
    },
    "tags": []
   },
   "outputs": [
    {
     "name": "stdout",
     "output_type": "stream",
     "text": [
      "The number of rows in the dataset is 1797\n",
      "The number of features in the dataset is 64\n"
     ]
    },
    {
     "data": {
      "text/plain": [
       "array([178, 182, 177, 183, 181, 182, 181, 179, 174, 180])"
      ]
     },
     "execution_count": 2,
     "metadata": {},
     "output_type": "execute_result"
    }
   ],
   "source": [
    "import numpy as np\n",
    "\n",
    "print('The number of rows in the dataset is {:d}'.format(X.shape[0]))\n",
    "print('The number of features in the dataset is {:d}'.format(X.shape[1]))\n",
    "np.bincount(y)"
   ]
  },
  {
   "cell_type": "markdown",
   "id": "66793d8c",
   "metadata": {
    "id": "6AdSZLoalPDO",
    "papermill": {
     "duration": 0.003459,
     "end_time": "2022-07-01T23:40:25.621656",
     "exception": false,
     "start_time": "2022-07-01T23:40:25.618197",
     "status": "completed"
    },
    "tags": []
   },
   "source": [
    "## Prepare training and testing data\n",
    "1. Use `train_test_split()` to split the dataset into a training set and a test set. Set the proportion of test data to 20%. Set a random state value so that the results will be repeatable."
   ]
  },
  {
   "cell_type": "code",
   "execution_count": 3,
   "id": "475f2647",
   "metadata": {
    "execution": {
     "iopub.execute_input": "2022-07-01T23:40:25.630389Z",
     "iopub.status.busy": "2022-07-01T23:40:25.629552Z",
     "iopub.status.idle": "2022-07-01T23:40:25.691754Z",
     "shell.execute_reply": "2022-07-01T23:40:25.690689Z"
    },
    "id": "K8oYDSclmIRw",
    "papermill": {
     "duration": 0.069558,
     "end_time": "2022-07-01T23:40:25.694363",
     "exception": false,
     "start_time": "2022-07-01T23:40:25.624805",
     "status": "completed"
    },
    "tags": []
   },
   "outputs": [],
   "source": [
    "from sklearn.model_selection import train_test_split\n",
    "\n",
    "X_train, X_test, y_train, y_test = train_test_split(X, y, test_size=0.2, random_state=40)"
   ]
  },
  {
   "cell_type": "markdown",
   "id": "212df9eb",
   "metadata": {
    "id": "of-cq2s0mdx6",
    "papermill": {
     "duration": 0.002738,
     "end_time": "2022-07-01T23:40:25.700057",
     "exception": false,
     "start_time": "2022-07-01T23:40:25.697319",
     "status": "completed"
    },
    "tags": []
   },
   "source": [
    "## Cross-validation with logistic regression\n",
    "In this step, you will create a `LogisticRegression` classifier and use five-fold cross-validation to train the model.\n",
    "\n",
    "1. Import a `LogisticRegression` classifier from scikit-learn.\n",
    "2. Instantiate a `LogisticRegression` classifier with the `lbfgs` solver and `ovr` multiclass strategy. You may have to set the maximum number of iterations to 1,000.\n",
    "3. Perform cross-validation on the model.\n",
    "4. Print the cross-validation scores and the mean of the cross-validation scores."
   ]
  },
  {
   "cell_type": "code",
   "execution_count": 4,
   "id": "4067b713",
   "metadata": {
    "execution": {
     "iopub.execute_input": "2022-07-01T23:40:25.707589Z",
     "iopub.status.busy": "2022-07-01T23:40:25.706914Z",
     "iopub.status.idle": "2022-07-01T23:40:35.131387Z",
     "shell.execute_reply": "2022-07-01T23:40:35.129746Z"
    },
    "id": "UMdjcXaplne9",
    "papermill": {
     "duration": 9.43296,
     "end_time": "2022-07-01T23:40:35.135775",
     "exception": false,
     "start_time": "2022-07-01T23:40:25.702815",
     "status": "completed"
    },
    "tags": []
   },
   "outputs": [
    {
     "name": "stdout",
     "output_type": "stream",
     "text": [
      "Accuracy scores for the 5 folds:  [0.94791667 0.94791667 0.95470383 0.94425087 0.95470383]\n",
      "Mean cross validation score: 0.950\n"
     ]
    }
   ],
   "source": [
    "# Imports here\n",
    "from sklearn.linear_model import LogisticRegression\n",
    "from sklearn.model_selection import cross_val_score\n",
    "\n",
    "lr_clf = LogisticRegression(solver='lbfgs', multi_class='ovr', max_iter=1000)\n",
    "lr_cv_scores = cross_val_score(lr_clf, X_train, y_train, cv = 5)\n",
    "\n",
    "print('Accuracy scores for the 5 folds: ', lr_cv_scores)\n",
    "print('Mean cross validation score: {:.3f}'.format(np.mean(lr_cv_scores)))"
   ]
  },
  {
   "cell_type": "markdown",
   "id": "dd794c85",
   "metadata": {
    "id": "PcZHs1vYoRBN",
    "papermill": {
     "duration": 0.005888,
     "end_time": "2022-07-01T23:40:35.147382",
     "exception": false,
     "start_time": "2022-07-01T23:40:35.141494",
     "status": "completed"
    },
    "tags": []
   },
   "source": [
    "## Cross-validation with random forest\n",
    "Perform the same steps as above, but this time with a `RandomForestClassifier`."
   ]
  },
  {
   "cell_type": "code",
   "execution_count": 5,
   "id": "ff05cc97",
   "metadata": {
    "execution": {
     "iopub.execute_input": "2022-07-01T23:40:35.160958Z",
     "iopub.status.busy": "2022-07-01T23:40:35.160154Z",
     "iopub.status.idle": "2022-07-01T23:40:35.695865Z",
     "shell.execute_reply": "2022-07-01T23:40:35.694692Z"
    },
    "id": "pCD2ROdToySP",
    "papermill": {
     "duration": 0.545182,
     "end_time": "2022-07-01T23:40:35.698033",
     "exception": false,
     "start_time": "2022-07-01T23:40:35.152851",
     "status": "completed"
    },
    "tags": []
   },
   "outputs": [
    {
     "name": "stdout",
     "output_type": "stream",
     "text": [
      "Accuracy scores for the 5 folds:  [0.96180556 0.95486111 0.97212544 0.94773519 0.96167247]\n",
      "Mean cross validation score: 0.960\n"
     ]
    }
   ],
   "source": [
    "# Imports here\n",
    "from sklearn.ensemble import RandomForestClassifier\n",
    "rf_clf = RandomForestClassifier(n_estimators=24)\n",
    "rf_cv_scores = cross_val_score(rf_clf, X_train, y_train, cv = 5)\n",
    "print('Accuracy scores for the 5 folds: ', rf_cv_scores)\n",
    "print('Mean cross validation score: {:.3f}'.format(np.mean(rf_cv_scores)))"
   ]
  }
 ],
 "metadata": {
  "kernelspec": {
   "display_name": "Python 3",
   "language": "python",
   "name": "python3"
  },
  "language_info": {
   "codemirror_mode": {
    "name": "ipython",
    "version": 3
   },
   "file_extension": ".py",
   "mimetype": "text/x-python",
   "name": "python",
   "nbconvert_exporter": "python",
   "pygments_lexer": "ipython3",
   "version": "3.7.12"
  },
  "papermill": {
   "default_parameters": {},
   "duration": 21.771935,
   "end_time": "2022-07-01T23:40:36.421668",
   "environment_variables": {},
   "exception": null,
   "input_path": "__notebook__.ipynb",
   "output_path": "__notebook__.ipynb",
   "parameters": {},
   "start_time": "2022-07-01T23:40:14.649733",
   "version": "2.3.4"
  }
 },
 "nbformat": 4,
 "nbformat_minor": 5
}
