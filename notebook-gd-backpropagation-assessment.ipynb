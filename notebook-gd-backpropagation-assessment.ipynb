{
 "cells": [
  {
   "cell_type": "code",
   "execution_count": 1,
   "id": "1f97904f",
   "metadata": {
    "execution": {
     "iopub.execute_input": "2022-12-02T20:22:27.638055Z",
     "iopub.status.busy": "2022-12-02T20:22:27.636596Z",
     "iopub.status.idle": "2022-12-02T20:22:35.397570Z",
     "shell.execute_reply": "2022-12-02T20:22:35.395674Z"
    },
    "papermill": {
     "duration": 7.771754,
     "end_time": "2022-12-02T20:22:35.400949",
     "exception": false,
     "start_time": "2022-12-02T20:22:27.629195",
     "status": "completed"
    },
    "tags": []
   },
   "outputs": [],
   "source": [
    "from tensorflow.keras.datasets import mnist\n",
    "from tensorflow.keras.utils import to_categorical\n",
    "from tensorflow.keras.models import Sequential \n",
    "from tensorflow.keras.layers import Dense\n",
    "\n",
    "import warnings\n",
    "warnings.filterwarnings(\"ignore\")"
   ]
  },
  {
   "cell_type": "code",
   "execution_count": 2,
   "id": "85fb7eb0",
   "metadata": {
    "execution": {
     "iopub.execute_input": "2022-12-02T20:22:35.412899Z",
     "iopub.status.busy": "2022-12-02T20:22:35.412142Z",
     "iopub.status.idle": "2022-12-02T20:22:36.853120Z",
     "shell.execute_reply": "2022-12-02T20:22:36.851980Z"
    },
    "papermill": {
     "duration": 1.449755,
     "end_time": "2022-12-02T20:22:36.855820",
     "exception": false,
     "start_time": "2022-12-02T20:22:35.406065",
     "status": "completed"
    },
    "tags": []
   },
   "outputs": [
    {
     "name": "stdout",
     "output_type": "stream",
     "text": [
      "Downloading data from https://storage.googleapis.com/tensorflow/tf-keras-datasets/mnist.npz\n",
      "11493376/11490434 [==============================] - 1s 0us/step\n",
      "11501568/11490434 [==============================] - 1s 0us/step\n"
     ]
    }
   ],
   "source": [
    "(X_train, y_train), (X_test, y_test) = mnist.load_data()\n",
    "\n",
    "input_dim = 784  # 28*28\n",
    "output_dim = nb_classes = 10\n",
    "nb_epoch = 20\n",
    "\n",
    "X_train = X_train.reshape(60000, input_dim)\n",
    "X_test = X_test.reshape(10000, input_dim)\n",
    "X_train = X_train.astype('float32')\n",
    "X_test = X_test.astype('float32')\n",
    "X_train /= 255\n",
    "X_test /= 255"
   ]
  },
  {
   "cell_type": "code",
   "execution_count": 3,
   "id": "72d8c65f",
   "metadata": {
    "execution": {
     "iopub.execute_input": "2022-12-02T20:22:36.869764Z",
     "iopub.status.busy": "2022-12-02T20:22:36.869334Z",
     "iopub.status.idle": "2022-12-02T20:22:36.877374Z",
     "shell.execute_reply": "2022-12-02T20:22:36.875635Z"
    },
    "papermill": {
     "duration": 0.018104,
     "end_time": "2022-12-02T20:22:36.880295",
     "exception": false,
     "start_time": "2022-12-02T20:22:36.862191",
     "status": "completed"
    },
    "tags": []
   },
   "outputs": [],
   "source": [
    "Y_train = to_categorical(y_train, nb_classes)\n",
    "Y_test = to_categorical(y_test, nb_classes)"
   ]
  },
  {
   "cell_type": "markdown",
   "id": "d733cd1b",
   "metadata": {
    "papermill": {
     "duration": 0.005481,
     "end_time": "2022-12-02T20:22:36.891840",
     "exception": false,
     "start_time": "2022-12-02T20:22:36.886359",
     "status": "completed"
    },
    "tags": []
   },
   "source": [
    "\n",
    "   "
   ]
  },
  {
   "cell_type": "code",
   "execution_count": 4,
   "id": "2a9f0e3a",
   "metadata": {
    "execution": {
     "iopub.execute_input": "2022-12-02T20:22:36.904646Z",
     "iopub.status.busy": "2022-12-02T20:22:36.904261Z",
     "iopub.status.idle": "2022-12-02T20:29:00.000404Z",
     "shell.execute_reply": "2022-12-02T20:28:59.999184Z"
    },
    "papermill": {
     "duration": 383.10558,
     "end_time": "2022-12-02T20:29:00.002865",
     "exception": false,
     "start_time": "2022-12-02T20:22:36.897285",
     "status": "completed"
    },
    "tags": []
   },
   "outputs": [
    {
     "name": "stderr",
     "output_type": "stream",
     "text": [
      "2022-12-02 20:22:36.952498: I tensorflow/core/common_runtime/process_util.cc:146] Creating new thread pool with default inter op setting: 2. Tune using inter_op_parallelism_threads for best performance.\n",
      "2022-12-02 20:22:37.628039: I tensorflow/compiler/mlir/mlir_graph_optimization_pass.cc:185] None of the MLIR Optimization Passes are enabled (registered 2)\n"
     ]
    },
    {
     "name": "stdout",
     "output_type": "stream",
     "text": [
      "Epoch 1/20\n",
      "7500/7500 [==============================] - 20s 3ms/step - loss: 0.3637 - accuracy: 0.8968\n",
      "Epoch 2/20\n",
      "7500/7500 [==============================] - 20s 3ms/step - loss: 0.1693 - accuracy: 0.9503\n",
      "Epoch 3/20\n",
      "7500/7500 [==============================] - 20s 3ms/step - loss: 0.1212 - accuracy: 0.9639\n",
      "Epoch 4/20\n",
      "7500/7500 [==============================] - 21s 3ms/step - loss: 0.0946 - accuracy: 0.9716\n",
      "Epoch 5/20\n",
      "7500/7500 [==============================] - 20s 3ms/step - loss: 0.0772 - accuracy: 0.9773\n",
      "Epoch 6/20\n",
      "7500/7500 [==============================] - 20s 3ms/step - loss: 0.0655 - accuracy: 0.9805\n",
      "Epoch 7/20\n",
      "7500/7500 [==============================] - 20s 3ms/step - loss: 0.0552 - accuracy: 0.9835\n",
      "Epoch 8/20\n",
      "7500/7500 [==============================] - 20s 3ms/step - loss: 0.0474 - accuracy: 0.9856\n",
      "Epoch 9/20\n",
      "7500/7500 [==============================] - 19s 3ms/step - loss: 0.0402 - accuracy: 0.9883\n",
      "Epoch 10/20\n",
      "7500/7500 [==============================] - 18s 2ms/step - loss: 0.0355 - accuracy: 0.9895\n",
      "Epoch 11/20\n",
      "7500/7500 [==============================] - 18s 2ms/step - loss: 0.0300 - accuracy: 0.9912\n",
      "Epoch 12/20\n",
      "7500/7500 [==============================] - 18s 2ms/step - loss: 0.0265 - accuracy: 0.9926\n",
      "Epoch 13/20\n",
      "7500/7500 [==============================] - 17s 2ms/step - loss: 0.0227 - accuracy: 0.9940\n",
      "Epoch 14/20\n",
      "7500/7500 [==============================] - 18s 2ms/step - loss: 0.0191 - accuracy: 0.9950\n",
      "Epoch 15/20\n",
      "7500/7500 [==============================] - 18s 2ms/step - loss: 0.0166 - accuracy: 0.9962\n",
      "Epoch 16/20\n",
      "7500/7500 [==============================] - 18s 2ms/step - loss: 0.0143 - accuracy: 0.9968\n",
      "Epoch 17/20\n",
      "7500/7500 [==============================] - 18s 2ms/step - loss: 0.0130 - accuracy: 0.9970\n",
      "Epoch 18/20\n",
      "7500/7500 [==============================] - 17s 2ms/step - loss: 0.0108 - accuracy: 0.9980\n",
      "Epoch 19/20\n",
      "7500/7500 [==============================] - 17s 2ms/step - loss: 0.0092 - accuracy: 0.9984\n",
      "Epoch 20/20\n",
      "7500/7500 [==============================] - 17s 2ms/step - loss: 0.0084 - accuracy: 0.9985\n"
     ]
    },
    {
     "data": {
      "text/plain": [
       "<keras.callbacks.History at 0x7f90e01c97d0>"
      ]
     },
     "execution_count": 4,
     "metadata": {},
     "output_type": "execute_result"
    }
   ],
   "source": [
    "### Implement a three layer ANN model with 128, 64 and 10 neurons in the layers\n",
    "### Using 8 as the mini batch size.\n",
    "model = Sequential()\n",
    "# our first dense layer\n",
    "model.add(Dense(128, input_shape=(784,), activation=\"relu\"))\n",
    "# our second dense layer\n",
    "model.add(Dense(64, activation=\"relu\"))\n",
    "# last layer is the output layer.\n",
    "model.add(Dense(10, activation=\"softmax\"))\n",
    "\n",
    "model.compile(optimizer='sgd', loss='categorical_crossentropy',\n",
    "              metrics=['accuracy'])\n",
    "\n",
    "# setting verbose=1 prints out some results after each epoch\n",
    "model.fit(X_train, Y_train, batch_size=8, epochs=20, verbose=1)"
   ]
  },
  {
   "cell_type": "code",
   "execution_count": 5,
   "id": "88dbc75a",
   "metadata": {
    "execution": {
     "iopub.execute_input": "2022-12-02T20:29:00.810555Z",
     "iopub.status.busy": "2022-12-02T20:29:00.810128Z",
     "iopub.status.idle": "2022-12-02T20:29:01.425390Z",
     "shell.execute_reply": "2022-12-02T20:29:01.423865Z"
    },
    "papermill": {
     "duration": 1.023158,
     "end_time": "2022-12-02T20:29:01.428501",
     "exception": false,
     "start_time": "2022-12-02T20:29:00.405343",
     "status": "completed"
    },
    "tags": []
   },
   "outputs": [
    {
     "name": "stdout",
     "output_type": "stream",
     "text": [
      "Test score: 0.08051891624927521\n",
      "Test accuracy: 0.9790999889373779\n"
     ]
    }
   ],
   "source": [
    "score = model.evaluate(X_test, Y_test, verbose=0)\n",
    "print('Test score:', score[0])\n",
    "print('Test accuracy:', score[1])"
   ]
  },
  {
   "cell_type": "code",
   "execution_count": 6,
   "id": "49c9ee3b",
   "metadata": {
    "execution": {
     "iopub.execute_input": "2022-12-02T20:29:02.302092Z",
     "iopub.status.busy": "2022-12-02T20:29:02.301675Z",
     "iopub.status.idle": "2022-12-02T20:29:29.138835Z",
     "shell.execute_reply": "2022-12-02T20:29:29.137798Z"
    },
    "papermill": {
     "duration": 27.246201,
     "end_time": "2022-12-02T20:29:29.140811",
     "exception": false,
     "start_time": "2022-12-02T20:29:01.894610",
     "status": "completed"
    },
    "tags": []
   },
   "outputs": [
    {
     "name": "stdout",
     "output_type": "stream",
     "text": [
      "Epoch 1/20\n",
      "469/469 [==============================] - 2s 3ms/step - loss: 1.2358 - accuracy: 0.6904\n",
      "Epoch 2/20\n",
      "469/469 [==============================] - 2s 4ms/step - loss: 0.5026 - accuracy: 0.8676\n",
      "Epoch 3/20\n",
      "469/469 [==============================] - 1s 3ms/step - loss: 0.3913 - accuracy: 0.8922\n",
      "Epoch 4/20\n",
      "469/469 [==============================] - 1s 3ms/step - loss: 0.3434 - accuracy: 0.9037\n",
      "Epoch 5/20\n",
      "469/469 [==============================] - 1s 3ms/step - loss: 0.3146 - accuracy: 0.9113\n",
      "Epoch 6/20\n",
      "469/469 [==============================] - 1s 3ms/step - loss: 0.2935 - accuracy: 0.9176\n",
      "Epoch 7/20\n",
      "469/469 [==============================] - 1s 3ms/step - loss: 0.2770 - accuracy: 0.9219\n",
      "Epoch 8/20\n",
      "469/469 [==============================] - 1s 3ms/step - loss: 0.2629 - accuracy: 0.9260\n",
      "Epoch 9/20\n",
      "469/469 [==============================] - 1s 3ms/step - loss: 0.2509 - accuracy: 0.9296\n",
      "Epoch 10/20\n",
      "469/469 [==============================] - 1s 3ms/step - loss: 0.2402 - accuracy: 0.9326\n",
      "Epoch 11/20\n",
      "469/469 [==============================] - 1s 3ms/step - loss: 0.2304 - accuracy: 0.9347\n",
      "Epoch 12/20\n",
      "469/469 [==============================] - 1s 3ms/step - loss: 0.2216 - accuracy: 0.9378\n",
      "Epoch 13/20\n",
      "469/469 [==============================] - 1s 3ms/step - loss: 0.2134 - accuracy: 0.9394\n",
      "Epoch 14/20\n",
      "469/469 [==============================] - 1s 3ms/step - loss: 0.2056 - accuracy: 0.9420\n",
      "Epoch 15/20\n",
      "469/469 [==============================] - 1s 3ms/step - loss: 0.1985 - accuracy: 0.9443\n",
      "Epoch 16/20\n",
      "469/469 [==============================] - 1s 3ms/step - loss: 0.1920 - accuracy: 0.9463\n",
      "Epoch 17/20\n",
      "469/469 [==============================] - 1s 3ms/step - loss: 0.1857 - accuracy: 0.9484\n",
      "Epoch 18/20\n",
      "469/469 [==============================] - 1s 3ms/step - loss: 0.1799 - accuracy: 0.9490\n",
      "Epoch 19/20\n",
      "469/469 [==============================] - 1s 3ms/step - loss: 0.1743 - accuracy: 0.9508\n",
      "Epoch 20/20\n",
      "469/469 [==============================] - 1s 3ms/step - loss: 0.1693 - accuracy: 0.9520\n"
     ]
    },
    {
     "data": {
      "text/plain": [
       "<keras.callbacks.History at 0x7f90bff8c9d0>"
      ]
     },
     "execution_count": 6,
     "metadata": {},
     "output_type": "execute_result"
    }
   ],
   "source": [
    "### Implement a three layer ANN model with 128, 64 and 10 neurons in the layers\n",
    "### Using 128 as the mini batch size.\n",
    "model = Sequential()\n",
    "# our first dense layer\n",
    "model.add(Dense(128, input_shape=(784,), activation=\"relu\"))\n",
    "# our second dense layer\n",
    "model.add(Dense(64, activation=\"relu\"))\n",
    "# last layer is the output layer.\n",
    "model.add(Dense(10, activation=\"softmax\"))\n",
    "\n",
    "model.compile(optimizer='sgd', loss='categorical_crossentropy',\n",
    "              metrics=['accuracy'])\n",
    "\n",
    "# setting verbose=1 prints out some results after each epoch\n",
    "model.fit(X_train, Y_train, batch_size=128, epochs=20, verbose=1)"
   ]
  },
  {
   "cell_type": "code",
   "execution_count": 7,
   "id": "3f39742e",
   "metadata": {
    "execution": {
     "iopub.execute_input": "2022-12-02T20:29:30.104474Z",
     "iopub.status.busy": "2022-12-02T20:29:30.103881Z",
     "iopub.status.idle": "2022-12-02T20:29:30.646675Z",
     "shell.execute_reply": "2022-12-02T20:29:30.645060Z"
    },
    "papermill": {
     "duration": 1.050745,
     "end_time": "2022-12-02T20:29:30.649107",
     "exception": false,
     "start_time": "2022-12-02T20:29:29.598362",
     "status": "completed"
    },
    "tags": []
   },
   "outputs": [
    {
     "name": "stdout",
     "output_type": "stream",
     "text": [
      "Test score: 0.16915127635002136\n",
      "Test accuracy: 0.9506000280380249\n"
     ]
    }
   ],
   "source": [
    "score = model.evaluate(X_test, Y_test, verbose=0)\n",
    "print('Test score:', score[0])\n",
    "print('Test accuracy:', score[1])"
   ]
  },
  {
   "cell_type": "code",
   "execution_count": 8,
   "id": "03fbfbd3",
   "metadata": {
    "execution": {
     "iopub.execute_input": "2022-12-02T20:29:31.524073Z",
     "iopub.status.busy": "2022-12-02T20:29:31.523358Z",
     "iopub.status.idle": "2022-12-02T20:29:37.230095Z",
     "shell.execute_reply": "2022-12-02T20:29:37.228907Z"
    },
    "papermill": {
     "duration": 6.150695,
     "end_time": "2022-12-02T20:29:37.232697",
     "exception": false,
     "start_time": "2022-12-02T20:29:31.082002",
     "status": "completed"
    },
    "tags": []
   },
   "outputs": [
    {
     "name": "stdout",
     "output_type": "stream",
     "text": [
      "Epoch 1/20\n",
      "1/1 [==============================] - 1s 761ms/step - loss: 2.3279 - accuracy: 0.1152\n",
      "Epoch 2/20\n",
      "1/1 [==============================] - 0s 262ms/step - loss: 2.3213 - accuracy: 0.1203\n",
      "Epoch 3/20\n",
      "1/1 [==============================] - 0s 240ms/step - loss: 2.3148 - accuracy: 0.1249\n",
      "Epoch 4/20\n",
      "1/1 [==============================] - 0s 235ms/step - loss: 2.3084 - accuracy: 0.1301\n",
      "Epoch 5/20\n",
      "1/1 [==============================] - 0s 247ms/step - loss: 2.3020 - accuracy: 0.1351\n",
      "Epoch 6/20\n",
      "1/1 [==============================] - 0s 241ms/step - loss: 2.2957 - accuracy: 0.1403\n",
      "Epoch 7/20\n",
      "1/1 [==============================] - 0s 238ms/step - loss: 2.2895 - accuracy: 0.1452\n",
      "Epoch 8/20\n",
      "1/1 [==============================] - 0s 235ms/step - loss: 2.2833 - accuracy: 0.1503\n",
      "Epoch 9/20\n",
      "1/1 [==============================] - 0s 238ms/step - loss: 2.2772 - accuracy: 0.1554\n",
      "Epoch 10/20\n",
      "1/1 [==============================] - 0s 252ms/step - loss: 2.2712 - accuracy: 0.1613\n",
      "Epoch 11/20\n",
      "1/1 [==============================] - 0s 232ms/step - loss: 2.2652 - accuracy: 0.1671\n",
      "Epoch 12/20\n",
      "1/1 [==============================] - 0s 250ms/step - loss: 2.2593 - accuracy: 0.1725\n",
      "Epoch 13/20\n",
      "1/1 [==============================] - 0s 246ms/step - loss: 2.2535 - accuracy: 0.1779\n",
      "Epoch 14/20\n",
      "1/1 [==============================] - 0s 236ms/step - loss: 2.2477 - accuracy: 0.1836\n",
      "Epoch 15/20\n",
      "1/1 [==============================] - 0s 312ms/step - loss: 2.2419 - accuracy: 0.1898\n",
      "Epoch 16/20\n",
      "1/1 [==============================] - 0s 283ms/step - loss: 2.2362 - accuracy: 0.1952\n",
      "Epoch 17/20\n",
      "1/1 [==============================] - 0s 312ms/step - loss: 2.2305 - accuracy: 0.2017\n",
      "Epoch 18/20\n",
      "1/1 [==============================] - 0s 257ms/step - loss: 2.2249 - accuracy: 0.2077\n",
      "Epoch 19/20\n",
      "1/1 [==============================] - 0s 206ms/step - loss: 2.2193 - accuracy: 0.2131\n",
      "Epoch 20/20\n",
      "1/1 [==============================] - 0s 205ms/step - loss: 2.2138 - accuracy: 0.2188\n"
     ]
    },
    {
     "data": {
      "text/plain": [
       "<keras.callbacks.History at 0x7f90bf6d3050>"
      ]
     },
     "execution_count": 8,
     "metadata": {},
     "output_type": "execute_result"
    }
   ],
   "source": [
    "### Implement a three layer ANN model with 128, 64 and 10 neurons in the layers\n",
    "### Using the full sample as the batch.\n",
    "model = Sequential()\n",
    "# our first dense layer\n",
    "model.add(Dense(128, input_shape=(784,), activation=\"relu\"))\n",
    "# our second dense layer\n",
    "model.add(Dense(64, activation=\"relu\"))\n",
    "# last layer is the output layer.\n",
    "model.add(Dense(10, activation=\"softmax\"))\n",
    "\n",
    "model.compile(optimizer='sgd', loss='categorical_crossentropy',\n",
    "              metrics=['accuracy'])\n",
    "\n",
    "# setting verbose=1 prints out some results after each epoch\n",
    "model.fit(X_train, Y_train, batch_size=X_train.shape[0], epochs=20, verbose=1)"
   ]
  },
  {
   "cell_type": "code",
   "execution_count": 9,
   "id": "ab99ac2b",
   "metadata": {
    "execution": {
     "iopub.execute_input": "2022-12-02T20:29:38.186439Z",
     "iopub.status.busy": "2022-12-02T20:29:38.185707Z",
     "iopub.status.idle": "2022-12-02T20:29:38.685372Z",
     "shell.execute_reply": "2022-12-02T20:29:38.684404Z"
    },
    "papermill": {
     "duration": 0.95342,
     "end_time": "2022-12-02T20:29:38.687691",
     "exception": false,
     "start_time": "2022-12-02T20:29:37.734271",
     "status": "completed"
    },
    "tags": []
   },
   "outputs": [
    {
     "name": "stdout",
     "output_type": "stream",
     "text": [
      "Test score: 2.2063539028167725\n",
      "Test accuracy: 0.2298000007867813\n"
     ]
    }
   ],
   "source": [
    "score = model.evaluate(X_test, Y_test, verbose=0)\n",
    "print('Test score:', score[0])\n",
    "print('Test accuracy:', score[1])"
   ]
  },
  {
   "cell_type": "markdown",
   "id": "d06c6ba8",
   "metadata": {
    "papermill": {
     "duration": 0.439576,
     "end_time": "2022-12-02T20:29:39.637140",
     "exception": false,
     "start_time": "2022-12-02T20:29:39.197564",
     "status": "completed"
    },
    "tags": []
   },
   "source": [
    "The best performance both in training and test sets are achieved using 8 as the mini batch size. However, the difference between the scores of the training and test sets are relatively large compared to the scores achieved when using 128 as mini batch size. Since the scores achieved when using 128 as the mini batch size are close to those that are achieved when using 8 as the mini batch size, one can go with 128 because of the overfitting concerns. "
   ]
  },
  {
   "cell_type": "code",
   "execution_count": 10,
   "id": "bef3a5be",
   "metadata": {
    "execution": {
     "iopub.execute_input": "2022-12-02T20:29:40.527839Z",
     "iopub.status.busy": "2022-12-02T20:29:40.527471Z",
     "iopub.status.idle": "2022-12-02T20:29:40.532616Z",
     "shell.execute_reply": "2022-12-02T20:29:40.531761Z"
    },
    "papermill": {
     "duration": 0.460832,
     "end_time": "2022-12-02T20:29:40.535066",
     "exception": false,
     "start_time": "2022-12-02T20:29:40.074234",
     "status": "completed"
    },
    "tags": []
   },
   "outputs": [],
   "source": [
    "from tensorflow.keras import optimizers\n",
    "sgd_001 = optimizers.SGD(lr=0.01)\n",
    "sgd_100 = optimizers.SGD(lr=100)\n",
    "sgd_00000001 = optimizers.SGD(lr=0.0000001)"
   ]
  },
  {
   "cell_type": "code",
   "execution_count": 11,
   "id": "c25bf0ce",
   "metadata": {
    "execution": {
     "iopub.execute_input": "2022-12-02T20:29:41.476473Z",
     "iopub.status.busy": "2022-12-02T20:29:41.476110Z",
     "iopub.status.idle": "2022-12-02T20:30:11.247617Z",
     "shell.execute_reply": "2022-12-02T20:30:11.246825Z"
    },
    "papermill": {
     "duration": 30.213869,
     "end_time": "2022-12-02T20:30:11.249462",
     "exception": false,
     "start_time": "2022-12-02T20:29:41.035593",
     "status": "completed"
    },
    "tags": []
   },
   "outputs": [
    {
     "name": "stdout",
     "output_type": "stream",
     "text": [
      "Epoch 1/20\n",
      "469/469 [==============================] - 2s 3ms/step - loss: 1.3248 - accuracy: 0.6564\n",
      "Epoch 2/20\n",
      "469/469 [==============================] - 1s 3ms/step - loss: 0.5189 - accuracy: 0.8662\n",
      "Epoch 3/20\n",
      "469/469 [==============================] - 1s 3ms/step - loss: 0.3915 - accuracy: 0.8919\n",
      "Epoch 4/20\n",
      "469/469 [==============================] - 1s 3ms/step - loss: 0.3421 - accuracy: 0.9036\n",
      "Epoch 5/20\n",
      "469/469 [==============================] - 1s 3ms/step - loss: 0.3131 - accuracy: 0.9106\n",
      "Epoch 6/20\n",
      "469/469 [==============================] - 1s 3ms/step - loss: 0.2919 - accuracy: 0.9168\n",
      "Epoch 7/20\n",
      "469/469 [==============================] - 1s 3ms/step - loss: 0.2751 - accuracy: 0.9217\n",
      "Epoch 8/20\n",
      "469/469 [==============================] - 1s 3ms/step - loss: 0.2609 - accuracy: 0.9256\n",
      "Epoch 9/20\n",
      "469/469 [==============================] - 1s 3ms/step - loss: 0.2487 - accuracy: 0.9298\n",
      "Epoch 10/20\n",
      "469/469 [==============================] - 1s 3ms/step - loss: 0.2380 - accuracy: 0.9321\n",
      "Epoch 11/20\n",
      "469/469 [==============================] - 1s 3ms/step - loss: 0.2282 - accuracy: 0.9349\n",
      "Epoch 12/20\n",
      "469/469 [==============================] - 1s 3ms/step - loss: 0.2194 - accuracy: 0.9384\n",
      "Epoch 13/20\n",
      "469/469 [==============================] - 2s 3ms/step - loss: 0.2110 - accuracy: 0.9408\n",
      "Epoch 14/20\n",
      "469/469 [==============================] - 1s 3ms/step - loss: 0.2038 - accuracy: 0.9423\n",
      "Epoch 15/20\n",
      "469/469 [==============================] - 2s 3ms/step - loss: 0.1969 - accuracy: 0.9442\n",
      "Epoch 16/20\n",
      "469/469 [==============================] - 1s 3ms/step - loss: 0.1907 - accuracy: 0.9458\n",
      "Epoch 17/20\n",
      "469/469 [==============================] - 2s 3ms/step - loss: 0.1849 - accuracy: 0.9475\n",
      "Epoch 18/20\n",
      "469/469 [==============================] - 2s 4ms/step - loss: 0.1790 - accuracy: 0.9493\n",
      "Epoch 19/20\n",
      "469/469 [==============================] - 1s 3ms/step - loss: 0.1740 - accuracy: 0.9502\n",
      "Epoch 20/20\n",
      "469/469 [==============================] - 1s 3ms/step - loss: 0.1690 - accuracy: 0.9520\n"
     ]
    },
    {
     "data": {
      "text/plain": [
       "<keras.callbacks.History at 0x7f90bf545e50>"
      ]
     },
     "execution_count": 11,
     "metadata": {},
     "output_type": "execute_result"
    }
   ],
   "source": [
    "### Implement a three layer ANN model with 128, 64 and 10 neurons in the layers\n",
    "### Using 0.01 as the learning rate.\n",
    "model = Sequential()\n",
    "# our first dense layer\n",
    "model.add(Dense(128, input_shape=(784,), activation=\"relu\"))\n",
    "# our second dense layer\n",
    "model.add(Dense(64, activation=\"relu\"))\n",
    "# last layer is the output layer.\n",
    "model.add(Dense(10, activation=\"softmax\"))\n",
    "\n",
    "model.compile(optimizer=sgd_001, loss='categorical_crossentropy',\n",
    "              metrics=['accuracy'])\n",
    "\n",
    "# setting verbose=1 prints out some results after each epoch\n",
    "model.fit(X_train, Y_train, batch_size=128, epochs=20, verbose=1)"
   ]
  },
  {
   "cell_type": "code",
   "execution_count": 12,
   "id": "7270b054",
   "metadata": {
    "execution": {
     "iopub.execute_input": "2022-12-02T20:30:12.273617Z",
     "iopub.status.busy": "2022-12-02T20:30:12.272931Z",
     "iopub.status.idle": "2022-12-02T20:30:12.902907Z",
     "shell.execute_reply": "2022-12-02T20:30:12.901031Z"
    },
    "papermill": {
     "duration": 1.181841,
     "end_time": "2022-12-02T20:30:12.905431",
     "exception": false,
     "start_time": "2022-12-02T20:30:11.723590",
     "status": "completed"
    },
    "tags": []
   },
   "outputs": [
    {
     "name": "stdout",
     "output_type": "stream",
     "text": [
      "Test score: 0.17030274868011475\n",
      "Test accuracy: 0.9488999843597412\n"
     ]
    }
   ],
   "source": [
    "score = model.evaluate(X_test, Y_test, verbose=0)\n",
    "print('Test score:', score[0])\n",
    "print('Test accuracy:', score[1])"
   ]
  },
  {
   "cell_type": "code",
   "execution_count": 13,
   "id": "bff52f15",
   "metadata": {
    "execution": {
     "iopub.execute_input": "2022-12-02T20:30:13.866166Z",
     "iopub.status.busy": "2022-12-02T20:30:13.865454Z",
     "iopub.status.idle": "2022-12-02T20:30:46.288939Z",
     "shell.execute_reply": "2022-12-02T20:30:46.287490Z"
    },
    "papermill": {
     "duration": 32.899076,
     "end_time": "2022-12-02T20:30:46.291364",
     "exception": false,
     "start_time": "2022-12-02T20:30:13.392288",
     "status": "completed"
    },
    "tags": []
   },
   "outputs": [
    {
     "name": "stdout",
     "output_type": "stream",
     "text": [
      "Epoch 1/20\n",
      "469/469 [==============================] - 2s 4ms/step - loss: 79356281072123904.0000 - accuracy: 0.1010\n",
      "Epoch 2/20\n",
      "469/469 [==============================] - 2s 3ms/step - loss: 40.1298 - accuracy: 0.0992\n",
      "Epoch 3/20\n",
      "469/469 [==============================] - 2s 3ms/step - loss: 40.2253 - accuracy: 0.1013\n",
      "Epoch 4/20\n",
      "469/469 [==============================] - 2s 3ms/step - loss: 40.2906 - accuracy: 0.1021\n",
      "Epoch 5/20\n",
      "469/469 [==============================] - 2s 4ms/step - loss: 40.5585 - accuracy: 0.1011\n",
      "Epoch 6/20\n",
      "469/469 [==============================] - 2s 4ms/step - loss: 41.1407 - accuracy: 0.1004\n",
      "Epoch 7/20\n",
      "469/469 [==============================] - 2s 4ms/step - loss: 40.2146 - accuracy: 0.0993\n",
      "Epoch 8/20\n",
      "469/469 [==============================] - 2s 4ms/step - loss: 38.8829 - accuracy: 0.1009\n",
      "Epoch 9/20\n",
      "469/469 [==============================] - 2s 3ms/step - loss: 40.3064 - accuracy: 0.1031\n",
      "Epoch 10/20\n",
      "469/469 [==============================] - 2s 3ms/step - loss: 41.2025 - accuracy: 0.1015\n",
      "Epoch 11/20\n",
      "469/469 [==============================] - 2s 3ms/step - loss: 40.8898 - accuracy: 0.0999\n",
      "Epoch 12/20\n",
      "469/469 [==============================] - 2s 3ms/step - loss: 40.2650 - accuracy: 0.1006\n",
      "Epoch 13/20\n",
      "469/469 [==============================] - 2s 3ms/step - loss: 40.5952 - accuracy: 0.0983\n",
      "Epoch 14/20\n",
      "469/469 [==============================] - 2s 3ms/step - loss: 40.7547 - accuracy: 0.0994\n",
      "Epoch 15/20\n",
      "469/469 [==============================] - 2s 4ms/step - loss: 40.8969 - accuracy: 0.0983\n",
      "Epoch 16/20\n",
      "469/469 [==============================] - 2s 3ms/step - loss: 40.3556 - accuracy: 0.0994\n",
      "Epoch 17/20\n",
      "469/469 [==============================] - 1s 3ms/step - loss: 39.1122 - accuracy: 0.1009\n",
      "Epoch 18/20\n",
      "469/469 [==============================] - 1s 3ms/step - loss: 39.6095 - accuracy: 0.1003\n",
      "Epoch 19/20\n",
      "469/469 [==============================] - 2s 3ms/step - loss: 40.3685 - accuracy: 0.1015\n",
      "Epoch 20/20\n",
      "469/469 [==============================] - 2s 3ms/step - loss: 39.2640 - accuracy: 0.1005\n"
     ]
    },
    {
     "data": {
      "text/plain": [
       "<keras.callbacks.History at 0x7f90bf4a1110>"
      ]
     },
     "execution_count": 13,
     "metadata": {},
     "output_type": "execute_result"
    }
   ],
   "source": [
    "### Implement a three layer ANN model with 128, 64 and 10 neurons in the layers\n",
    "### Using 100 as the learning rate.\n",
    "    \n",
    "model = Sequential()\n",
    "# our first dense layer\n",
    "model.add(Dense(128, input_shape=(784,), activation=\"relu\"))\n",
    "# our second dense layer\n",
    "model.add(Dense(64, activation=\"relu\"))\n",
    "# last layer is the output layer.\n",
    "model.add(Dense(10, activation=\"softmax\"))\n",
    "\n",
    "model.compile(optimizer=sgd_100, loss='categorical_crossentropy',\n",
    "              metrics=['accuracy'])\n",
    "\n",
    "# setting verbose=1 prints out some results after each epoch\n",
    "model.fit(X_train, Y_train, batch_size=128, epochs=20, verbose=1)"
   ]
  },
  {
   "cell_type": "code",
   "execution_count": 14,
   "id": "37a02aa2",
   "metadata": {
    "execution": {
     "iopub.execute_input": "2022-12-02T20:30:47.305655Z",
     "iopub.status.busy": "2022-12-02T20:30:47.305329Z",
     "iopub.status.idle": "2022-12-02T20:30:47.848502Z",
     "shell.execute_reply": "2022-12-02T20:30:47.847497Z"
    },
    "papermill": {
     "duration": 1.051892,
     "end_time": "2022-12-02T20:30:47.850436",
     "exception": false,
     "start_time": "2022-12-02T20:30:46.798544",
     "status": "completed"
    },
    "tags": []
   },
   "outputs": [
    {
     "name": "stdout",
     "output_type": "stream",
     "text": [
      "Test score: 38.734886169433594\n",
      "Test accuracy: 0.10320000350475311\n"
     ]
    }
   ],
   "source": [
    "score = model.evaluate(X_test, Y_test, verbose=0)\n",
    "print('Test score:', score[0])\n",
    "print('Test accuracy:', score[1])"
   ]
  },
  {
   "cell_type": "code",
   "execution_count": 15,
   "id": "10e804f9",
   "metadata": {
    "execution": {
     "iopub.execute_input": "2022-12-02T20:30:48.920252Z",
     "iopub.status.busy": "2022-12-02T20:30:48.919440Z",
     "iopub.status.idle": "2022-12-02T20:31:22.121200Z",
     "shell.execute_reply": "2022-12-02T20:31:22.120041Z"
    },
    "papermill": {
     "duration": 33.710587,
     "end_time": "2022-12-02T20:31:22.123188",
     "exception": false,
     "start_time": "2022-12-02T20:30:48.412601",
     "status": "completed"
    },
    "tags": []
   },
   "outputs": [
    {
     "name": "stdout",
     "output_type": "stream",
     "text": [
      "Epoch 1/20\n",
      "469/469 [==============================] - 2s 3ms/step - loss: 2.3349 - accuracy: 0.1024\n",
      "Epoch 2/20\n",
      "469/469 [==============================] - 1s 3ms/step - loss: 2.3349 - accuracy: 0.1025\n",
      "Epoch 3/20\n",
      "469/469 [==============================] - 1s 3ms/step - loss: 2.3349 - accuracy: 0.1025\n",
      "Epoch 4/20\n",
      "469/469 [==============================] - 1s 3ms/step - loss: 2.3349 - accuracy: 0.1025\n",
      "Epoch 5/20\n",
      "469/469 [==============================] - 1s 3ms/step - loss: 2.3348 - accuracy: 0.1025\n",
      "Epoch 6/20\n",
      "469/469 [==============================] - 2s 3ms/step - loss: 2.3348 - accuracy: 0.1025\n",
      "Epoch 7/20\n",
      "469/469 [==============================] - 2s 3ms/step - loss: 2.3348 - accuracy: 0.1025\n",
      "Epoch 8/20\n",
      "469/469 [==============================] - 2s 4ms/step - loss: 2.3348 - accuracy: 0.1025\n",
      "Epoch 9/20\n",
      "469/469 [==============================] - 2s 4ms/step - loss: 2.3348 - accuracy: 0.1025\n",
      "Epoch 10/20\n",
      "469/469 [==============================] - 2s 4ms/step - loss: 2.3348 - accuracy: 0.1025\n",
      "Epoch 11/20\n",
      "469/469 [==============================] - 2s 4ms/step - loss: 2.3348 - accuracy: 0.1025\n",
      "Epoch 12/20\n",
      "469/469 [==============================] - 2s 4ms/step - loss: 2.3348 - accuracy: 0.1025\n",
      "Epoch 13/20\n",
      "469/469 [==============================] - 2s 4ms/step - loss: 2.3348 - accuracy: 0.1025\n",
      "Epoch 14/20\n",
      "469/469 [==============================] - 2s 4ms/step - loss: 2.3348 - accuracy: 0.1025\n",
      "Epoch 15/20\n",
      "469/469 [==============================] - 2s 4ms/step - loss: 2.3348 - accuracy: 0.1025\n",
      "Epoch 16/20\n",
      "469/469 [==============================] - 2s 4ms/step - loss: 2.3348 - accuracy: 0.1025\n",
      "Epoch 17/20\n",
      "469/469 [==============================] - 2s 4ms/step - loss: 2.3348 - accuracy: 0.1026\n",
      "Epoch 18/20\n",
      "469/469 [==============================] - 2s 4ms/step - loss: 2.3347 - accuracy: 0.1026\n",
      "Epoch 19/20\n",
      "469/469 [==============================] - 2s 3ms/step - loss: 2.3347 - accuracy: 0.1026\n",
      "Epoch 20/20\n",
      "469/469 [==============================] - 2s 4ms/step - loss: 2.3347 - accuracy: 0.1026\n"
     ]
    },
    {
     "data": {
      "text/plain": [
       "<keras.callbacks.History at 0x7f90bf402b10>"
      ]
     },
     "execution_count": 15,
     "metadata": {},
     "output_type": "execute_result"
    }
   ],
   "source": [
    "### Implement a three layer ANN model with 128, 64 and 10 neurons in the layers using 0.0000001 as the learning rate.\n",
    "model = Sequential()\n",
    "# our first dense layer\n",
    "model.add(Dense(128, input_shape=(784,), activation=\"relu\"))\n",
    "# our second dense layer\n",
    "model.add(Dense(64, activation=\"relu\"))\n",
    "# last layer is the output layer.\n",
    "model.add(Dense(10, activation=\"softmax\"))\n",
    "\n",
    "model.compile(optimizer=sgd_00000001, loss='categorical_crossentropy',\n",
    "              metrics=['accuracy'])\n",
    "\n",
    "# setting verbose=1 prints out some results after each epoch\n",
    "model.fit(X_train, Y_train, batch_size=128, epochs=20, verbose=1)"
   ]
  },
  {
   "cell_type": "code",
   "execution_count": 16,
   "id": "46e28b68",
   "metadata": {
    "execution": {
     "iopub.execute_input": "2022-12-02T20:31:23.306136Z",
     "iopub.status.busy": "2022-12-02T20:31:23.305763Z",
     "iopub.status.idle": "2022-12-02T20:31:24.056050Z",
     "shell.execute_reply": "2022-12-02T20:31:24.053712Z"
    },
    "papermill": {
     "duration": 1.37952,
     "end_time": "2022-12-02T20:31:24.059334",
     "exception": false,
     "start_time": "2022-12-02T20:31:22.679814",
     "status": "completed"
    },
    "tags": []
   },
   "outputs": [
    {
     "name": "stdout",
     "output_type": "stream",
     "text": [
      "Test score: 2.3357977867126465\n",
      "Test accuracy: 0.10279999673366547\n"
     ]
    }
   ],
   "source": [
    "score = model.evaluate(X_test, Y_test, verbose=0)\n",
    "print('Test score:', score[0])\n",
    "print('Test accuracy:', score[1])"
   ]
  },
  {
   "cell_type": "markdown",
   "id": "58f91c78",
   "metadata": {
    "papermill": {
     "duration": 0.566769,
     "end_time": "2022-12-02T20:31:25.187354",
     "exception": false,
     "start_time": "2022-12-02T20:31:24.620585",
     "status": "completed"
    },
    "tags": []
   },
   "source": [
    "The model converged when using 0.01 as the learning rate. However, it diverged when using 100, because that value deemed to be too large. Using 0.0000001 as the learning rate causes the model to improve very slowly. Hence the accuracy improved very little. So, it deemed to be too low."
   ]
  }
 ],
 "metadata": {
  "kernelspec": {
   "display_name": "Python 3",
   "language": "python",
   "name": "python3"
  },
  "language_info": {
   "codemirror_mode": {
    "name": "ipython",
    "version": 3
   },
   "file_extension": ".py",
   "mimetype": "text/x-python",
   "name": "python",
   "nbconvert_exporter": "python",
   "pygments_lexer": "ipython3",
   "version": "3.7.12"
  },
  "papermill": {
   "default_parameters": {},
   "duration": 549.736394,
   "end_time": "2022-12-02T20:31:29.066077",
   "environment_variables": {},
   "exception": null,
   "input_path": "__notebook__.ipynb",
   "output_path": "__notebook__.ipynb",
   "parameters": {},
   "start_time": "2022-12-02T20:22:19.329683",
   "version": "2.3.4"
  }
 },
 "nbformat": 4,
 "nbformat_minor": 5
}
