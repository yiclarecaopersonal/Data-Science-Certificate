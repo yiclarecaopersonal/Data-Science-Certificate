{
 "cells": [
  {
   "cell_type": "markdown",
   "id": "41c490fb",
   "metadata": {
    "papermill": {
     "duration": 0.006771,
     "end_time": "2022-12-02T03:28:53.602851",
     "exception": false,
     "start_time": "2022-12-02T03:28:53.596080",
     "status": "completed"
    },
    "slideshow": {
     "slide_type": "slide"
    },
    "tags": []
   },
   "source": [
    "                    Supervised Learning Capstone Slide Deck\n",
    "\n",
    "In this capstone, I will be using the Titanic dataset to predit survived using the keyfeatures presented in the data set. \n",
    "I will go through data cleaning, feature selection/elimination/combination and then use some of the models learned in the class modules to see which model yields good results.\n",
    "Also I will be tuning some of the hyperparamters for few models to see which one does the best job.\n"
   ]
  },
  {
   "cell_type": "code",
   "execution_count": 1,
   "id": "b481af2a",
   "metadata": {
    "_cell_guid": "5767a33c-8f18-4034-e52d-bf7a8f7d8ab8",
    "_uuid": "847a9b3972a6be2d2f3346ff01fea976d92ecdb6",
    "execution": {
     "iopub.execute_input": "2022-12-02T03:28:53.616469Z",
     "iopub.status.busy": "2022-12-02T03:28:53.615963Z",
     "iopub.status.idle": "2022-12-02T03:28:55.209661Z",
     "shell.execute_reply": "2022-12-02T03:28:55.208479Z"
    },
    "papermill": {
     "duration": 1.604116,
     "end_time": "2022-12-02T03:28:55.212884",
     "exception": false,
     "start_time": "2022-12-02T03:28:53.608768",
     "status": "completed"
    },
    "slideshow": {
     "slide_type": "skip"
    },
    "tags": []
   },
   "outputs": [],
   "source": [
    "#Import libraries :\n",
    "import pandas as pd\n",
    "import numpy as np\n",
    "import random as rnd\n",
    "\n",
    "# visualization\n",
    "import seaborn as sns\n",
    "import matplotlib.pyplot as plt\n",
    "%matplotlib inline\n",
    "\n",
    "# machine learning\n",
    "from sklearn.linear_model import LogisticRegression\n",
    "from sklearn.svm import SVC, LinearSVC\n",
    "from sklearn.ensemble import RandomForestClassifier\n",
    "from sklearn.neighbors import KNeighborsClassifier\n",
    "from sklearn.tree import DecisionTreeClassifier\n",
    "\n",
    "import warnings\n",
    "warnings.filterwarnings(\"ignore\")"
   ]
  },
  {
   "cell_type": "code",
   "execution_count": 2,
   "id": "8955e5e1",
   "metadata": {
    "_cell_guid": "e7319668-86fe-8adc-438d-0eef3fd0a982",
    "_uuid": "13f38775c12ad6f914254a08f0d1ef948a2bd453",
    "execution": {
     "iopub.execute_input": "2022-12-02T03:28:55.226544Z",
     "iopub.status.busy": "2022-12-02T03:28:55.225441Z",
     "iopub.status.idle": "2022-12-02T03:28:55.962675Z",
     "shell.execute_reply": "2022-12-02T03:28:55.960778Z"
    },
    "papermill": {
     "duration": 0.747638,
     "end_time": "2022-12-02T03:28:55.966287",
     "exception": false,
     "start_time": "2022-12-02T03:28:55.218649",
     "status": "completed"
    },
    "slideshow": {
     "slide_type": "slide"
    },
    "tags": []
   },
   "outputs": [
    {
     "name": "stdout",
     "output_type": "stream",
     "text": [
      "['survived' 'pclass' 'name' 'sex' 'age' 'sibsp' 'parch' 'ticket' 'fare'\n",
      " 'cabin' 'embarked']\n",
      "['pclass' 'name' 'sex' 'age' 'sibsp' 'parch' 'ticket' 'fare' 'cabin'\n",
      " 'embarked']\n",
      "<class 'pandas.core.frame.DataFrame'>\n",
      "RangeIndex: 891 entries, 0 to 890\n",
      "Data columns (total 11 columns):\n",
      " #   Column    Non-Null Count  Dtype  \n",
      "---  ------    --------------  -----  \n",
      " 0   survived  891 non-null    int64  \n",
      " 1   pclass    891 non-null    int64  \n",
      " 2   name      891 non-null    object \n",
      " 3   sex       891 non-null    object \n",
      " 4   age       714 non-null    float64\n",
      " 5   sibsp     891 non-null    int64  \n",
      " 6   parch     891 non-null    int64  \n",
      " 7   ticket    891 non-null    object \n",
      " 8   fare      891 non-null    float64\n",
      " 9   cabin     204 non-null    object \n",
      " 10  embarked  889 non-null    object \n",
      "dtypes: float64(2), int64(4), object(5)\n",
      "memory usage: 76.7+ KB\n",
      "________________________________________\n",
      "<class 'pandas.core.frame.DataFrame'>\n",
      "RangeIndex: 418 entries, 0 to 417\n",
      "Data columns (total 10 columns):\n",
      " #   Column    Non-Null Count  Dtype  \n",
      "---  ------    --------------  -----  \n",
      " 0   pclass    418 non-null    int64  \n",
      " 1   name      418 non-null    object \n",
      " 2   sex       418 non-null    object \n",
      " 3   age       332 non-null    float64\n",
      " 4   sibsp     418 non-null    int64  \n",
      " 5   parch     418 non-null    int64  \n",
      " 6   ticket    418 non-null    object \n",
      " 7   fare      417 non-null    float64\n",
      " 8   cabin     91 non-null     object \n",
      " 9   embarked  418 non-null    object \n",
      "dtypes: float64(2), int64(3), object(5)\n",
      "memory usage: 32.8+ KB\n"
     ]
    },
    {
     "data": {
      "text/html": [
       "<div>\n",
       "<style scoped>\n",
       "    .dataframe tbody tr th:only-of-type {\n",
       "        vertical-align: middle;\n",
       "    }\n",
       "\n",
       "    .dataframe tbody tr th {\n",
       "        vertical-align: top;\n",
       "    }\n",
       "\n",
       "    .dataframe thead th {\n",
       "        text-align: right;\n",
       "    }\n",
       "</style>\n",
       "<table border=\"1\" class=\"dataframe\">\n",
       "  <thead>\n",
       "    <tr style=\"text-align: right;\">\n",
       "      <th></th>\n",
       "      <th>survived</th>\n",
       "      <th>pclass</th>\n",
       "      <th>age</th>\n",
       "      <th>sibsp</th>\n",
       "      <th>parch</th>\n",
       "      <th>fare</th>\n",
       "    </tr>\n",
       "  </thead>\n",
       "  <tbody>\n",
       "    <tr>\n",
       "      <th>count</th>\n",
       "      <td>891.000000</td>\n",
       "      <td>891.000000</td>\n",
       "      <td>714.000000</td>\n",
       "      <td>891.000000</td>\n",
       "      <td>891.000000</td>\n",
       "      <td>891.000000</td>\n",
       "    </tr>\n",
       "    <tr>\n",
       "      <th>mean</th>\n",
       "      <td>0.383838</td>\n",
       "      <td>2.308642</td>\n",
       "      <td>29.699118</td>\n",
       "      <td>0.523008</td>\n",
       "      <td>0.381594</td>\n",
       "      <td>32.204208</td>\n",
       "    </tr>\n",
       "    <tr>\n",
       "      <th>std</th>\n",
       "      <td>0.486592</td>\n",
       "      <td>0.836071</td>\n",
       "      <td>14.526497</td>\n",
       "      <td>1.102743</td>\n",
       "      <td>0.806057</td>\n",
       "      <td>49.693429</td>\n",
       "    </tr>\n",
       "    <tr>\n",
       "      <th>min</th>\n",
       "      <td>0.000000</td>\n",
       "      <td>1.000000</td>\n",
       "      <td>0.420000</td>\n",
       "      <td>0.000000</td>\n",
       "      <td>0.000000</td>\n",
       "      <td>0.000000</td>\n",
       "    </tr>\n",
       "    <tr>\n",
       "      <th>25%</th>\n",
       "      <td>0.000000</td>\n",
       "      <td>2.000000</td>\n",
       "      <td>20.125000</td>\n",
       "      <td>0.000000</td>\n",
       "      <td>0.000000</td>\n",
       "      <td>7.910400</td>\n",
       "    </tr>\n",
       "    <tr>\n",
       "      <th>50%</th>\n",
       "      <td>0.000000</td>\n",
       "      <td>3.000000</td>\n",
       "      <td>28.000000</td>\n",
       "      <td>0.000000</td>\n",
       "      <td>0.000000</td>\n",
       "      <td>14.454200</td>\n",
       "    </tr>\n",
       "    <tr>\n",
       "      <th>75%</th>\n",
       "      <td>1.000000</td>\n",
       "      <td>3.000000</td>\n",
       "      <td>38.000000</td>\n",
       "      <td>1.000000</td>\n",
       "      <td>0.000000</td>\n",
       "      <td>31.000000</td>\n",
       "    </tr>\n",
       "    <tr>\n",
       "      <th>max</th>\n",
       "      <td>1.000000</td>\n",
       "      <td>3.000000</td>\n",
       "      <td>80.000000</td>\n",
       "      <td>8.000000</td>\n",
       "      <td>6.000000</td>\n",
       "      <td>512.329200</td>\n",
       "    </tr>\n",
       "  </tbody>\n",
       "</table>\n",
       "</div>"
      ],
      "text/plain": [
       "         survived      pclass         age       sibsp       parch        fare\n",
       "count  891.000000  891.000000  714.000000  891.000000  891.000000  891.000000\n",
       "mean     0.383838    2.308642   29.699118    0.523008    0.381594   32.204208\n",
       "std      0.486592    0.836071   14.526497    1.102743    0.806057   49.693429\n",
       "min      0.000000    1.000000    0.420000    0.000000    0.000000    0.000000\n",
       "25%      0.000000    2.000000   20.125000    0.000000    0.000000    7.910400\n",
       "50%      0.000000    3.000000   28.000000    0.000000    0.000000   14.454200\n",
       "75%      1.000000    3.000000   38.000000    1.000000    0.000000   31.000000\n",
       "max      1.000000    3.000000   80.000000    8.000000    6.000000  512.329200"
      ]
     },
     "execution_count": 2,
     "metadata": {},
     "output_type": "execute_result"
    }
   ],
   "source": [
    "#Using Titanic dataset from Kaggle hosted on github so shared notebook can be run:\n",
    "\n",
    "train_df = pd.read_csv('https://raw.githubusercontent.com/pcsanwald/kaggle-titanic/master/train.csv')\n",
    "test_df = pd.read_csv('https://raw.githubusercontent.com/pcsanwald/kaggle-titanic/master/test.csv')\n",
    "combine = [train_df, test_df]\n",
    "\n",
    "print(train_df.columns.values)\n",
    "print(test_df.columns.values)\n",
    "\n",
    "# preview the data\n",
    "train_df.head()\n",
    "train_df.tail()\n",
    "train_df.info()\n",
    "print('_'*40)\n",
    "test_df.info()\n",
    "train_df.describe()\n"
   ]
  },
  {
   "cell_type": "code",
   "execution_count": 3,
   "id": "d5ac85f8",
   "metadata": {
    "_cell_guid": "50294eac-263a-af78-cb7e-3778eb9ad41f",
    "_uuid": "d3a1fa63e9dd4f8a810086530a6363c94b36d030",
    "execution": {
     "iopub.execute_input": "2022-12-02T03:28:55.980831Z",
     "iopub.status.busy": "2022-12-02T03:28:55.980199Z",
     "iopub.status.idle": "2022-12-02T03:28:59.445143Z",
     "shell.execute_reply": "2022-12-02T03:28:59.443914Z"
    },
    "papermill": {
     "duration": 3.475833,
     "end_time": "2022-12-02T03:28:59.448410",
     "exception": false,
     "start_time": "2022-12-02T03:28:55.972577",
     "status": "completed"
    },
    "slideshow": {
     "slide_type": "slide"
    },
    "tags": []
   },
   "outputs": [
    {
     "data": {
      "text/plain": [
       "<seaborn.axisgrid.FacetGrid at 0x7fc9e775fa10>"
      ]
     },
     "execution_count": 3,
     "metadata": {},
     "output_type": "execute_result"
    },
    {
     "data": {
      "image/png": "[encoded data removed]",
      "text/plain": [
       "<Figure size 514.88x475.2 with 6 Axes>"
      ]
     },
     "metadata": {
      "needs_background": "light"
     },
     "output_type": "display_data"
    },
    {
     "data": {
      "image/png": "[encoded data removed]",
      "text/plain": [
       "<Figure size 323.94x475.2 with 3 Axes>"
      ]
     },
     "metadata": {
      "needs_background": "light"
     },
     "output_type": "display_data"
    },
    {
     "data": {
      "image/png": "[encoded data removed]",
      "text/plain": [
       "<Figure size 514.88x475.2 with 6 Axes>"
      ]
     },
     "metadata": {
      "needs_background": "light"
     },
     "output_type": "display_data"
    }
   ],
   "source": [
    "#Visualizing data and Correlating numerical features\n",
    "grid = sns.FacetGrid(train_df, col='survived', row='pclass', height=2.2, aspect=1.6)\n",
    "grid.map(plt.hist, 'age', alpha=.5, bins=20)\n",
    "grid.add_legend();\n",
    "#print(train_df.columns.values)\n",
    "\n",
    "#Correlating categorical features, add Sex and Embarked features\n",
    "grid = sns.FacetGrid(train_df, row='embarked', height=2.2, aspect=1.6)\n",
    "grid.map(sns.pointplot, 'pclass', 'survived', 'sex', palette='deep')\n",
    "grid.add_legend()\n",
    "#print(train_df.columns.values)\n",
    "\n",
    "#Correlating categorical and numerical features\n",
    "# grid = sns.FacetGrid(train_df, col='Embarked', hue='Survived', palette={0: 'k', 1: 'w'})\n",
    "grid = sns.FacetGrid(train_df, row='embarked', col='survived', height=2.2, aspect=1.6)\n",
    "grid.map(sns.barplot, 'sex', 'fare', alpha=.5, ci=None)\n",
    "grid.add_legend()\n",
    "#print(train_df.columns.values)"
   ]
  },
  {
   "cell_type": "code",
   "execution_count": 4,
   "id": "f703743f",
   "metadata": {
    "_cell_guid": "da057efe-88f0-bf49-917b-bb2fec418ed9",
    "_uuid": "e328d9882affedcfc4c167aa5bb1ac132547558c",
    "execution": {
     "iopub.execute_input": "2022-12-02T03:28:59.468647Z",
     "iopub.status.busy": "2022-12-02T03:28:59.466600Z",
     "iopub.status.idle": "2022-12-02T03:28:59.535856Z",
     "shell.execute_reply": "2022-12-02T03:28:59.534419Z"
    },
    "papermill": {
     "duration": 0.081304,
     "end_time": "2022-12-02T03:28:59.539135",
     "exception": false,
     "start_time": "2022-12-02T03:28:59.457831",
     "status": "completed"
    },
    "slideshow": {
     "slide_type": "slide"
    },
    "tags": []
   },
   "outputs": [
    {
     "name": "stdout",
     "output_type": "stream",
     "text": [
      "Before (891, 11) (418, 10) (891, 11) (418, 10)\n",
      "After (891, 9) (418, 8) (891, 9) (418, 8)\n",
      "['survived' 'pclass' 'name' 'sex' 'age' 'sibsp' 'parch' 'fare' 'embarked']\n"
     ]
    },
    {
     "data": {
      "text/html": [
       "<div>\n",
       "<style scoped>\n",
       "    .dataframe tbody tr th:only-of-type {\n",
       "        vertical-align: middle;\n",
       "    }\n",
       "\n",
       "    .dataframe tbody tr th {\n",
       "        vertical-align: top;\n",
       "    }\n",
       "\n",
       "    .dataframe thead th {\n",
       "        text-align: right;\n",
       "    }\n",
       "</style>\n",
       "<table border=\"1\" class=\"dataframe\">\n",
       "  <thead>\n",
       "    <tr style=\"text-align: right;\">\n",
       "      <th></th>\n",
       "      <th>survived</th>\n",
       "      <th>pclass</th>\n",
       "      <th>sex</th>\n",
       "      <th>age</th>\n",
       "      <th>sibsp</th>\n",
       "      <th>parch</th>\n",
       "      <th>fare</th>\n",
       "      <th>embarked</th>\n",
       "      <th>Title</th>\n",
       "    </tr>\n",
       "  </thead>\n",
       "  <tbody>\n",
       "    <tr>\n",
       "      <th>0</th>\n",
       "      <td>0</td>\n",
       "      <td>3</td>\n",
       "      <td>0</td>\n",
       "      <td>22.0</td>\n",
       "      <td>1</td>\n",
       "      <td>0</td>\n",
       "      <td>7.2500</td>\n",
       "      <td>S</td>\n",
       "      <td>1</td>\n",
       "    </tr>\n",
       "    <tr>\n",
       "      <th>1</th>\n",
       "      <td>1</td>\n",
       "      <td>1</td>\n",
       "      <td>1</td>\n",
       "      <td>38.0</td>\n",
       "      <td>1</td>\n",
       "      <td>0</td>\n",
       "      <td>71.2833</td>\n",
       "      <td>C</td>\n",
       "      <td>3</td>\n",
       "    </tr>\n",
       "    <tr>\n",
       "      <th>2</th>\n",
       "      <td>1</td>\n",
       "      <td>3</td>\n",
       "      <td>1</td>\n",
       "      <td>26.0</td>\n",
       "      <td>0</td>\n",
       "      <td>0</td>\n",
       "      <td>7.9250</td>\n",
       "      <td>S</td>\n",
       "      <td>2</td>\n",
       "    </tr>\n",
       "    <tr>\n",
       "      <th>3</th>\n",
       "      <td>1</td>\n",
       "      <td>1</td>\n",
       "      <td>1</td>\n",
       "      <td>35.0</td>\n",
       "      <td>1</td>\n",
       "      <td>0</td>\n",
       "      <td>53.1000</td>\n",
       "      <td>S</td>\n",
       "      <td>3</td>\n",
       "    </tr>\n",
       "    <tr>\n",
       "      <th>4</th>\n",
       "      <td>0</td>\n",
       "      <td>3</td>\n",
       "      <td>0</td>\n",
       "      <td>35.0</td>\n",
       "      <td>0</td>\n",
       "      <td>0</td>\n",
       "      <td>8.0500</td>\n",
       "      <td>S</td>\n",
       "      <td>1</td>\n",
       "    </tr>\n",
       "  </tbody>\n",
       "</table>\n",
       "</div>"
      ],
      "text/plain": [
       "   survived  pclass  sex   age  sibsp  parch     fare embarked  Title\n",
       "0         0       3    0  22.0      1      0   7.2500        S      1\n",
       "1         1       1    1  38.0      1      0  71.2833        C      3\n",
       "2         1       3    1  26.0      0      0   7.9250        S      2\n",
       "3         1       1    1  35.0      1      0  53.1000        S      3\n",
       "4         0       3    0  35.0      0      0   8.0500        S      1"
      ]
     },
     "execution_count": 4,
     "metadata": {},
     "output_type": "execute_result"
    }
   ],
   "source": [
    "#Data Cleaning, data dummy, and feature engineering, \n",
    "\n",
    "#Dropping unsignificant features\n",
    "print(\"Before\", train_df.shape, test_df.shape, combine[0].shape, combine[1].shape)\n",
    "train_df = train_df.drop(['ticket', 'cabin'], axis=1)\n",
    "test_df = test_df.drop(['ticket', 'cabin'], axis=1)\n",
    "combine = [train_df, test_df]\n",
    "\n",
    "print(\"After\", train_df.shape, test_df.shape, combine[0].shape, combine[1].shape)\n",
    "print(train_df.columns.values)\n",
    "\n",
    "#Creating new feature extracting from existing\n",
    "for dataset in combine:\n",
    "    dataset['Title'] = dataset.name.str.extract(' ([A-Za-z]+)\\.', expand=False)\n",
    "\n",
    "pd.crosstab(train_df['Title'], train_df['sex'])\n",
    "\n",
    "#Replace many titles with a more common name or classify them as Rare\n",
    "for dataset in combine:\n",
    "    dataset['Title'] = dataset['Title'].replace(['Lady', 'Countess','Capt', 'Col',\\\n",
    " \t'Don', 'Dr', 'Major', 'Rev', 'Sir', 'Jonkheer', 'Dona'], 'Rare')\n",
    "\n",
    "    dataset['Title'] = dataset['Title'].replace('Mlle', 'Miss')\n",
    "    dataset['Title'] = dataset['Title'].replace('Ms', 'Miss')\n",
    "    dataset['Title'] = dataset['Title'].replace('Mme', 'Mrs')\n",
    "    \n",
    "train_df[['Title', 'survived']].groupby(['Title'], as_index=False).mean()\n",
    "\n",
    "#Converting and fillin data:\n",
    "title_mapping = {\"Mr\": 1, \"Miss\": 2, \"Mrs\": 3, \"Master\": 4, \"Rare\": 5}\n",
    "for dataset in combine:\n",
    "    dataset['Title'] = dataset['Title'].map(title_mapping)\n",
    "    dataset['Title'] = dataset['Title'].fillna(0)\n",
    "\n",
    "train_df.head()\n",
    "\n",
    "#Also drop Name and passengerid features from training and testing datasets. \n",
    "train_df = train_df.drop(['name'], axis=1)\n",
    "test_df = test_df.drop(['name'], axis=1)\n",
    "combine = [train_df, test_df]\n",
    "train_df.shape, test_df.shape\n",
    "\n",
    "#Dummy sex column:\n",
    "for dataset in combine:\n",
    "   dataset['sex'] = dataset['sex'].map( {'female': 1, 'male': 0} ).astype(int)\n",
    "\n",
    "train_df.head()"
   ]
  },
  {
   "cell_type": "code",
   "execution_count": 5,
   "id": "fd6b425b",
   "metadata": {
    "_cell_guid": "a4015dfa-a0ab-65bc-0cbe-efecf1eb2569",
    "_uuid": "31198f0ad0dbbb74290ebe135abffa994b8f58f3",
    "execution": {
     "iopub.execute_input": "2022-12-02T03:28:59.557048Z",
     "iopub.status.busy": "2022-12-02T03:28:59.556630Z",
     "iopub.status.idle": "2022-12-02T03:28:59.681359Z",
     "shell.execute_reply": "2022-12-02T03:28:59.680272Z"
    },
    "papermill": {
     "duration": 0.136852,
     "end_time": "2022-12-02T03:28:59.683781",
     "exception": false,
     "start_time": "2022-12-02T03:28:59.546929",
     "status": "completed"
    },
    "slideshow": {
     "slide_type": "slide"
    },
    "tags": []
   },
   "outputs": [
    {
     "data": {
      "text/html": [
       "<div>\n",
       "<style scoped>\n",
       "    .dataframe tbody tr th:only-of-type {\n",
       "        vertical-align: middle;\n",
       "    }\n",
       "\n",
       "    .dataframe tbody tr th {\n",
       "        vertical-align: top;\n",
       "    }\n",
       "\n",
       "    .dataframe thead th {\n",
       "        text-align: right;\n",
       "    }\n",
       "</style>\n",
       "<table border=\"1\" class=\"dataframe\">\n",
       "  <thead>\n",
       "    <tr style=\"text-align: right;\">\n",
       "      <th></th>\n",
       "      <th>survived</th>\n",
       "      <th>pclass</th>\n",
       "      <th>sex</th>\n",
       "      <th>age</th>\n",
       "      <th>fare</th>\n",
       "      <th>embarked</th>\n",
       "      <th>Title</th>\n",
       "      <th>IsAlone</th>\n",
       "      <th>age*class</th>\n",
       "    </tr>\n",
       "  </thead>\n",
       "  <tbody>\n",
       "    <tr>\n",
       "      <th>0</th>\n",
       "      <td>0</td>\n",
       "      <td>3</td>\n",
       "      <td>0</td>\n",
       "      <td>1</td>\n",
       "      <td>0</td>\n",
       "      <td>0</td>\n",
       "      <td>1</td>\n",
       "      <td>0</td>\n",
       "      <td>3</td>\n",
       "    </tr>\n",
       "    <tr>\n",
       "      <th>1</th>\n",
       "      <td>1</td>\n",
       "      <td>1</td>\n",
       "      <td>1</td>\n",
       "      <td>2</td>\n",
       "      <td>3</td>\n",
       "      <td>1</td>\n",
       "      <td>3</td>\n",
       "      <td>0</td>\n",
       "      <td>2</td>\n",
       "    </tr>\n",
       "    <tr>\n",
       "      <th>2</th>\n",
       "      <td>1</td>\n",
       "      <td>3</td>\n",
       "      <td>1</td>\n",
       "      <td>1</td>\n",
       "      <td>1</td>\n",
       "      <td>0</td>\n",
       "      <td>2</td>\n",
       "      <td>1</td>\n",
       "      <td>3</td>\n",
       "    </tr>\n",
       "    <tr>\n",
       "      <th>3</th>\n",
       "      <td>1</td>\n",
       "      <td>1</td>\n",
       "      <td>1</td>\n",
       "      <td>2</td>\n",
       "      <td>3</td>\n",
       "      <td>0</td>\n",
       "      <td>3</td>\n",
       "      <td>0</td>\n",
       "      <td>2</td>\n",
       "    </tr>\n",
       "    <tr>\n",
       "      <th>4</th>\n",
       "      <td>0</td>\n",
       "      <td>3</td>\n",
       "      <td>0</td>\n",
       "      <td>2</td>\n",
       "      <td>1</td>\n",
       "      <td>0</td>\n",
       "      <td>1</td>\n",
       "      <td>1</td>\n",
       "      <td>6</td>\n",
       "    </tr>\n",
       "    <tr>\n",
       "      <th>5</th>\n",
       "      <td>0</td>\n",
       "      <td>3</td>\n",
       "      <td>0</td>\n",
       "      <td>1</td>\n",
       "      <td>1</td>\n",
       "      <td>2</td>\n",
       "      <td>1</td>\n",
       "      <td>1</td>\n",
       "      <td>3</td>\n",
       "    </tr>\n",
       "    <tr>\n",
       "      <th>6</th>\n",
       "      <td>0</td>\n",
       "      <td>1</td>\n",
       "      <td>0</td>\n",
       "      <td>3</td>\n",
       "      <td>3</td>\n",
       "      <td>0</td>\n",
       "      <td>1</td>\n",
       "      <td>1</td>\n",
       "      <td>3</td>\n",
       "    </tr>\n",
       "    <tr>\n",
       "      <th>7</th>\n",
       "      <td>0</td>\n",
       "      <td>3</td>\n",
       "      <td>0</td>\n",
       "      <td>0</td>\n",
       "      <td>2</td>\n",
       "      <td>0</td>\n",
       "      <td>4</td>\n",
       "      <td>0</td>\n",
       "      <td>0</td>\n",
       "    </tr>\n",
       "    <tr>\n",
       "      <th>8</th>\n",
       "      <td>1</td>\n",
       "      <td>3</td>\n",
       "      <td>1</td>\n",
       "      <td>1</td>\n",
       "      <td>1</td>\n",
       "      <td>0</td>\n",
       "      <td>3</td>\n",
       "      <td>0</td>\n",
       "      <td>3</td>\n",
       "    </tr>\n",
       "    <tr>\n",
       "      <th>9</th>\n",
       "      <td>1</td>\n",
       "      <td>2</td>\n",
       "      <td>1</td>\n",
       "      <td>0</td>\n",
       "      <td>2</td>\n",
       "      <td>1</td>\n",
       "      <td>3</td>\n",
       "      <td>0</td>\n",
       "      <td>0</td>\n",
       "    </tr>\n",
       "  </tbody>\n",
       "</table>\n",
       "</div>"
      ],
      "text/plain": [
       "   survived  pclass  sex  age  fare  embarked  Title  IsAlone  age*class\n",
       "0         0       3    0    1     0         0      1        0          3\n",
       "1         1       1    1    2     3         1      3        0          2\n",
       "2         1       3    1    1     1         0      2        1          3\n",
       "3         1       1    1    2     3         0      3        0          2\n",
       "4         0       3    0    2     1         0      1        1          6\n",
       "5         0       3    0    1     1         2      1        1          3\n",
       "6         0       1    0    3     3         0      1        1          3\n",
       "7         0       3    0    0     2         0      4        0          0\n",
       "8         1       3    1    1     1         0      3        0          3\n",
       "9         1       2    1    0     2         1      3        0          0"
      ]
     },
     "execution_count": 5,
     "metadata": {},
     "output_type": "execute_result"
    }
   ],
   "source": [
    "#Continue data/feature work:\n",
    "#Guess missing age data based on Pclass x Gender combinations.\n",
    "guess_ages = np.zeros((2,3))\n",
    "guess_ages\n",
    "for dataset in combine:\n",
    "    for i in range(0, 2):\n",
    "        for j in range(0, 3):\n",
    "            guess_df = dataset[(dataset['sex'] == i) & \\\n",
    "                                  (dataset['pclass'] == j+1)]['age'].dropna()\n",
    "\n",
    "            # age_mean = guess_df.mean()\n",
    "            # age_std = guess_df.std()\n",
    "            # age_guess = rnd.uniform(age_mean - age_std, age_mean + age_std)\n",
    "\n",
    "            age_guess = guess_df.median()\n",
    "\n",
    "            # Convert random age float to nearest .5 age\n",
    "            guess_ages[i,j] = int( age_guess/0.5 + 0.5 ) * 0.5\n",
    "            \n",
    "    for i in range(0, 2):\n",
    "        for j in range(0, 3):\n",
    "            dataset.loc[ (dataset.age.isnull()) & (dataset.sex == i) & (dataset.pclass == j+1),\\\n",
    "                    'age'] = guess_ages[i,j]\n",
    "\n",
    "    dataset['age'] = dataset['age'].astype(int)\n",
    "\n",
    "train_df.head()\n",
    "\n",
    "#create Age bands and determine correlations with Survived\n",
    "train_df['AgeBand'] = pd.cut(train_df['age'], 5)\n",
    "train_df[['AgeBand', 'survived']].groupby(['AgeBand'], as_index=False).mean().sort_values(by='AgeBand', ascending=True)\n",
    "\n",
    "#replace Age based on AgeBand.\n",
    "for dataset in combine:    \n",
    "    dataset.loc[ dataset['age'] <= 16, 'age'] = 0\n",
    "    dataset.loc[(dataset['age'] > 16) & (dataset['age'] <= 32), 'age'] = 1\n",
    "    dataset.loc[(dataset['age'] > 32) & (dataset['age'] <= 48), 'age'] = 2\n",
    "    dataset.loc[(dataset['age'] > 48) & (dataset['age'] <= 64), 'age'] = 3\n",
    "    dataset.loc[ dataset['age'] > 64, 'age']\n",
    "train_df.head()\n",
    "\n",
    "#We can now remove the AgeBand feature.\n",
    "train_df = train_df.drop(['AgeBand'], axis=1)\n",
    "combine = [train_df, test_df]\n",
    "train_df.head()\n",
    "\n",
    "#Create a new feature for FamilySize which combines Parch and SibSp. This will enable us to drop Parch and SibSp from our datasets.\n",
    "for dataset in combine:\n",
    "    dataset['FamilySize'] = dataset['sibsp'] + dataset['parch'] + 1\n",
    "\n",
    "train_df[['FamilySize', 'survived']].groupby(['FamilySize'], as_index=False).mean().sort_values(by='survived', ascending=False)\n",
    "\n",
    "#create another feature called IsAlone\n",
    "for dataset in combine:\n",
    "    dataset['IsAlone'] = 0\n",
    "    dataset.loc[dataset['FamilySize'] == 1, 'IsAlone'] = 1\n",
    "\n",
    "train_df[['IsAlone', 'survived']].groupby(['IsAlone'], as_index=False).mean()\n",
    "\n",
    "#drop Parch, SibSp, and FamilySize features in favor of IsAlone.\n",
    "train_df = train_df.drop(['parch', 'sibsp', 'FamilySize'], axis=1)\n",
    "test_df = test_df.drop(['parch', 'sibsp', 'FamilySize'], axis=1)\n",
    "combine = [train_df, test_df]\n",
    "\n",
    "train_df.head()\n",
    "\n",
    "#create an artificial feature combining Pclass and Age\n",
    "for dataset in combine:\n",
    "    dataset['age*class'] = dataset.age * dataset.pclass\n",
    "\n",
    "train_df.loc[:, ['age*class', 'age', 'pclass']].head(10)\n",
    "\n",
    "#Embarked feature takes S, Q, C values based on port of embarkation. \n",
    "freq_port = train_df.embarked.dropna().mode()[0]\n",
    "freq_port\n",
    "\n",
    "for dataset in combine:\n",
    "    dataset['embarked'] = dataset['embarked'].fillna(freq_port)\n",
    "    \n",
    "train_df[['embarked', 'survived']].groupby(['embarked'], as_index=False).mean().sort_values(by='survived', ascending=False)\n",
    "\n",
    "#Convert the EmbarkedFill feature by creating a new numeric Port feature\n",
    "for dataset in combine:\n",
    "    dataset['embarked'] = dataset['embarked'].map( {'S': 0, 'C': 1, 'Q': 2} ).astype(int)\n",
    "\n",
    "train_df.head()\n",
    "\n",
    "#Round off the fare to two decimals as it represents currency\n",
    "test_df['fare'].fillna(test_df['fare'].dropna().median(), inplace=True)\n",
    "test_df.head()\n",
    "\n",
    "#We can now create FareBand.\n",
    "train_df['FareBand'] = pd.qcut(train_df['fare'], 4)\n",
    "train_df[['FareBand', 'survived']].groupby(['FareBand'], as_index=False).mean().sort_values(by='FareBand', ascending=True)\n",
    "\n",
    "#Convert the Fare feature to ordinal values based on the FareBand\n",
    "for dataset in combine:\n",
    "    dataset.loc[ dataset['fare'] <= 7.91, 'fare'] = 0\n",
    "    dataset.loc[(dataset['fare'] > 7.91) & (dataset['fare'] <= 14.454), 'fare'] = 1\n",
    "    dataset.loc[(dataset['fare'] > 14.454) & (dataset['fare'] <= 31), 'fare']   = 2\n",
    "    dataset.loc[ dataset['fare'] > 31, 'fare'] = 3\n",
    "    dataset['fare'] = dataset['fare'].astype(int)\n",
    "\n",
    "train_df = train_df.drop(['FareBand'], axis=1)\n",
    "combine = [train_df, test_df]\n",
    "    \n",
    "train_df.head(10)"
   ]
  },
  {
   "cell_type": "code",
   "execution_count": 6,
   "id": "c7b5de1f",
   "metadata": {
    "_cell_guid": "0acf54f9-6cf5-24b5-72d9-29b30052823a",
    "_uuid": "04d2235855f40cffd81f76b977a500fceaae87ad",
    "execution": {
     "iopub.execute_input": "2022-12-02T03:28:59.701153Z",
     "iopub.status.busy": "2022-12-02T03:28:59.700737Z",
     "iopub.status.idle": "2022-12-02T03:28:59.710683Z",
     "shell.execute_reply": "2022-12-02T03:28:59.709773Z"
    },
    "papermill": {
     "duration": 0.021136,
     "end_time": "2022-12-02T03:28:59.712725",
     "exception": false,
     "start_time": "2022-12-02T03:28:59.691589",
     "status": "completed"
    },
    "slideshow": {
     "slide_type": "slide"
    },
    "tags": []
   },
   "outputs": [
    {
     "data": {
      "text/plain": [
       "((891, 8), (891,), (418, 8))"
      ]
     },
     "execution_count": 6,
     "metadata": {},
     "output_type": "execute_result"
    }
   ],
   "source": [
    "#Exam the test dataset.\n",
    "test_df.head(10)\n",
    "\n",
    "#To identify relationship between output (Survived or not) with other variables or features (Gender, Age, Port...) and train our model with a given dataset:\n",
    "#Logistic Regression\n",
    "#KNN\n",
    "#Support Vector Machines\n",
    "#Decision Tree\n",
    "#Random Forrest\n",
    "\n",
    "\n",
    "X_train = train_df.drop(\"survived\", axis=1)\n",
    "Y_train = train_df[\"survived\"]\n",
    "X_test  = test_df.copy()\n",
    "X_train.shape, Y_train.shape, X_test.shape"
   ]
  },
  {
   "cell_type": "code",
   "execution_count": 7,
   "id": "3688dd2d",
   "metadata": {
    "_cell_guid": "0edd9322-db0b-9c37-172d-a3a4f8dec229",
    "_uuid": "a649b9c53f4c7b40694f60f5c8dc14ec5ef519ec",
    "execution": {
     "iopub.execute_input": "2022-12-02T03:28:59.730963Z",
     "iopub.status.busy": "2022-12-02T03:28:59.730521Z",
     "iopub.status.idle": "2022-12-02T03:28:59.774600Z",
     "shell.execute_reply": "2022-12-02T03:28:59.773786Z"
    },
    "papermill": {
     "duration": 0.056399,
     "end_time": "2022-12-02T03:28:59.777318",
     "exception": false,
     "start_time": "2022-12-02T03:28:59.720919",
     "status": "completed"
    },
    "slideshow": {
     "slide_type": "slide"
    },
    "tags": []
   },
   "outputs": [
    {
     "data": {
      "text/html": [
       "<div>\n",
       "<style scoped>\n",
       "    .dataframe tbody tr th:only-of-type {\n",
       "        vertical-align: middle;\n",
       "    }\n",
       "\n",
       "    .dataframe tbody tr th {\n",
       "        vertical-align: top;\n",
       "    }\n",
       "\n",
       "    .dataframe thead th {\n",
       "        text-align: right;\n",
       "    }\n",
       "</style>\n",
       "<table border=\"1\" class=\"dataframe\">\n",
       "  <thead>\n",
       "    <tr style=\"text-align: right;\">\n",
       "      <th></th>\n",
       "      <th>Feature</th>\n",
       "      <th>Correlation</th>\n",
       "    </tr>\n",
       "  </thead>\n",
       "  <tbody>\n",
       "    <tr>\n",
       "      <th>1</th>\n",
       "      <td>sex</td>\n",
       "      <td>2.201619</td>\n",
       "    </tr>\n",
       "    <tr>\n",
       "      <th>5</th>\n",
       "      <td>Title</td>\n",
       "      <td>0.397888</td>\n",
       "    </tr>\n",
       "    <tr>\n",
       "      <th>2</th>\n",
       "      <td>age</td>\n",
       "      <td>0.287011</td>\n",
       "    </tr>\n",
       "    <tr>\n",
       "      <th>4</th>\n",
       "      <td>embarked</td>\n",
       "      <td>0.261473</td>\n",
       "    </tr>\n",
       "    <tr>\n",
       "      <th>6</th>\n",
       "      <td>IsAlone</td>\n",
       "      <td>0.126553</td>\n",
       "    </tr>\n",
       "    <tr>\n",
       "      <th>3</th>\n",
       "      <td>fare</td>\n",
       "      <td>-0.086655</td>\n",
       "    </tr>\n",
       "    <tr>\n",
       "      <th>7</th>\n",
       "      <td>age*class</td>\n",
       "      <td>-0.311069</td>\n",
       "    </tr>\n",
       "    <tr>\n",
       "      <th>0</th>\n",
       "      <td>pclass</td>\n",
       "      <td>-0.750700</td>\n",
       "    </tr>\n",
       "  </tbody>\n",
       "</table>\n",
       "</div>"
      ],
      "text/plain": [
       "     Feature  Correlation\n",
       "1        sex     2.201619\n",
       "5      Title     0.397888\n",
       "2        age     0.287011\n",
       "4   embarked     0.261473\n",
       "6    IsAlone     0.126553\n",
       "3       fare    -0.086655\n",
       "7  age*class    -0.311069\n",
       "0     pclass    -0.750700"
      ]
     },
     "execution_count": 7,
     "metadata": {},
     "output_type": "execute_result"
    }
   ],
   "source": [
    "# Logistic Regression\n",
    "\n",
    "logreg = LogisticRegression()\n",
    "logreg.fit(X_train, Y_train)\n",
    "Y_pred = logreg.predict(X_test)\n",
    "acc_log = round(logreg.score(X_train, Y_train) * 100, 2)\n",
    "acc_log\n",
    "\n",
    "coeff_df = pd.DataFrame(train_df.columns.delete(0))\n",
    "coeff_df.columns = ['Feature']\n",
    "coeff_df[\"Correlation\"] = pd.Series(logreg.coef_[0])\n",
    "\n",
    "coeff_df.sort_values(by='Correlation', ascending=False)"
   ]
  },
  {
   "cell_type": "code",
   "execution_count": 8,
   "id": "9d40a393",
   "metadata": {
    "_cell_guid": "ca14ae53-f05e-eb73-201c-064d7c3ed610",
    "_uuid": "54d86cd45703d459d452f89572771deaa8877999",
    "execution": {
     "iopub.execute_input": "2022-12-02T03:28:59.796035Z",
     "iopub.status.busy": "2022-12-02T03:28:59.794877Z",
     "iopub.status.idle": "2022-12-02T03:28:59.898117Z",
     "shell.execute_reply": "2022-12-02T03:28:59.896733Z"
    },
    "papermill": {
     "duration": 0.115013,
     "end_time": "2022-12-02T03:28:59.900639",
     "exception": false,
     "start_time": "2022-12-02T03:28:59.785626",
     "status": "completed"
    },
    "slideshow": {
     "slide_type": "slide"
    },
    "tags": []
   },
   "outputs": [
    {
     "name": "stdout",
     "output_type": "stream",
     "text": [
      "84.74\n",
      "84.51\n"
     ]
    }
   ],
   "source": [
    "#KNN confidence score is better than Logistics Regression but worse than SVM\n",
    "knn = KNeighborsClassifier(n_neighbors = 3)\n",
    "knn.fit(X_train, Y_train)\n",
    "Y_pred = knn.predict(X_test)\n",
    "acc_knn = round(knn.score(X_train, Y_train) * 100, 2)\n",
    "print(acc_knn)\n",
    "\n",
    "#Tune KNN model by changing the n_neighbors value:\n",
    "knn5 = KNeighborsClassifier(n_neighbors = 5)\n",
    "knn5.fit(X_train, Y_train)\n",
    "Y_pred = knn5.predict(X_test)\n",
    "acc_knn5 = round(knn5.score(X_train, Y_train) * 100, 2)\n",
    "print(acc_knn5)"
   ]
  },
  {
   "cell_type": "markdown",
   "id": "507f0c1d",
   "metadata": {
    "papermill": {
     "duration": 0.008076,
     "end_time": "2022-12-02T03:28:59.917027",
     "exception": false,
     "start_time": "2022-12-02T03:28:59.908951",
     "status": "completed"
    },
    "slideshow": {
     "slide_type": "subslide"
    },
    "tags": []
   },
   "source": [
    "Turns out in this case, increase n_neighbor value did not optimized the model."
   ]
  },
  {
   "cell_type": "code",
   "execution_count": 9,
   "id": "3b569912",
   "metadata": {
    "execution": {
     "iopub.execute_input": "2022-12-02T03:28:59.936588Z",
     "iopub.status.busy": "2022-12-02T03:28:59.935578Z",
     "iopub.status.idle": "2022-12-02T03:28:59.989749Z",
     "shell.execute_reply": "2022-12-02T03:28:59.988128Z"
    },
    "papermill": {
     "duration": 0.066814,
     "end_time": "2022-12-02T03:28:59.992372",
     "exception": false,
     "start_time": "2022-12-02T03:28:59.925558",
     "status": "completed"
    },
    "slideshow": {
     "slide_type": "subslide"
    },
    "tags": []
   },
   "outputs": [
    {
     "name": "stdout",
     "output_type": "stream",
     "text": [
      "82.6\n"
     ]
    }
   ],
   "source": [
    "#What about decrease the value of n_neighbor?\n",
    "knn2 = KNeighborsClassifier(n_neighbors = 2)\n",
    "knn2.fit(X_train, Y_train)\n",
    "Y_pred = knn2.predict(X_test)\n",
    "acc_knn2 = round(knn2.score(X_train, Y_train) * 100, 2)\n",
    "print(acc_knn2)"
   ]
  },
  {
   "cell_type": "markdown",
   "id": "d688ee7f",
   "metadata": {
    "papermill": {
     "duration": 0.007971,
     "end_time": "2022-12-02T03:29:00.008635",
     "exception": false,
     "start_time": "2022-12-02T03:29:00.000664",
     "status": "completed"
    },
    "slideshow": {
     "slide_type": "subslide"
    },
    "tags": []
   },
   "source": [
    "So seems the first choice of n_neighbors = 3 is the best value for this model"
   ]
  },
  {
   "cell_type": "code",
   "execution_count": 10,
   "id": "f54e77dc",
   "metadata": {
    "_cell_guid": "a4d56857-9432-55bb-14c0-52ebeb64d198",
    "_uuid": "52ea4f44dd626448dd2199cb284b592670b1394b",
    "execution": {
     "iopub.execute_input": "2022-12-02T03:29:00.027413Z",
     "iopub.status.busy": "2022-12-02T03:29:00.026500Z",
     "iopub.status.idle": "2022-12-02T03:29:00.196712Z",
     "shell.execute_reply": "2022-12-02T03:29:00.195133Z"
    },
    "papermill": {
     "duration": 0.182487,
     "end_time": "2022-12-02T03:29:00.199426",
     "exception": false,
     "start_time": "2022-12-02T03:29:00.016939",
     "status": "completed"
    },
    "slideshow": {
     "slide_type": "slide"
    },
    "tags": []
   },
   "outputs": [
    {
     "name": "stdout",
     "output_type": "stream",
     "text": [
      "79.01\n",
      "78.68\n",
      "86.76\n"
     ]
    }
   ],
   "source": [
    "#Compare SVC linear kernel vs LinearSVC functions:\n",
    "\n",
    "# Linear SVC\n",
    "linear_svc = LinearSVC()\n",
    "linear_svc.fit(X_train, Y_train)\n",
    "Y_pred = linear_svc.predict(X_test)\n",
    "acc_linear_svc = round(linear_svc.score(X_train, Y_train) * 100, 2)\n",
    "print(acc_linear_svc)\n",
    "\n",
    "# Support Vector Machines\n",
    "svclinear = SVC(kernel='linear')\n",
    "svclinear.fit(X_train, Y_train)\n",
    "Y_pred = svclinear.predict(X_test)\n",
    "acc_svclinear = round(svclinear.score(X_train, Y_train) * 100, 2)\n",
    "print(acc_svclinear)\n",
    "\n",
    "#Tuning the SVC model using RBF kernel:\n",
    "svcrbf = SVC(kernel='rbf', random_state=0, gamma=1, C=1)\n",
    "svcrbf.fit(X_train, Y_train)\n",
    "Y_pred = svcrbf.predict(X_test)\n",
    "acc_svcrbf = round(svcrbf.score(X_train, Y_train) * 100, 2)\n",
    "print(acc_svcrbf)"
   ]
  },
  {
   "cell_type": "markdown",
   "id": "d9d764bb",
   "metadata": {
    "papermill": {
     "duration": 0.008577,
     "end_time": "2022-12-02T03:29:00.216417",
     "exception": false,
     "start_time": "2022-12-02T03:29:00.207840",
     "status": "completed"
    },
    "slideshow": {
     "slide_type": "subslide"
    },
    "tags": []
   },
   "source": [
    "Seems Using the RBF kernel yield a better model"
   ]
  },
  {
   "cell_type": "code",
   "execution_count": 11,
   "id": "cf706ee8",
   "metadata": {
    "_cell_guid": "dd85f2b7-ace2-0306-b4ec-79c68cd3fea0",
    "_uuid": "1f94308b23b934123c03067e84027b507b989e52",
    "execution": {
     "iopub.execute_input": "2022-12-02T03:29:00.236261Z",
     "iopub.status.busy": "2022-12-02T03:29:00.235850Z",
     "iopub.status.idle": "2022-12-02T03:29:00.258055Z",
     "shell.execute_reply": "2022-12-02T03:29:00.256373Z"
    },
    "papermill": {
     "duration": 0.035234,
     "end_time": "2022-12-02T03:29:00.260391",
     "exception": false,
     "start_time": "2022-12-02T03:29:00.225157",
     "status": "completed"
    },
    "slideshow": {
     "slide_type": "slide"
    },
    "tags": []
   },
   "outputs": [
    {
     "name": "stdout",
     "output_type": "stream",
     "text": [
      "86.76\n",
      "81.26\n"
     ]
    }
   ],
   "source": [
    "# Decision Tree\n",
    "import time\n",
    "start = time.time()\n",
    "\n",
    "decision_tree = DecisionTreeClassifier()\n",
    "decision_tree.fit(X_train, Y_train)\n",
    "Y_pred = decision_tree.predict(X_test)\n",
    "acc_decision_tree = round(decision_tree.score(X_train, Y_train) * 100, 2)\n",
    "print(acc_decision_tree)\n",
    "\n",
    "#print(f'Decision Tree runtime elapsed: {round(time.time() - start, 2)} seconds.')\n",
    "\n",
    "#Turn the model by set the max_depth to 3:\n",
    "decision_tree3 = DecisionTreeClassifier(max_depth=3)\n",
    "decision_tree3.fit(X_train, Y_train)\n",
    "Y_pred = decision_tree3.predict(X_test)\n",
    "acc_decision_tree3 = round(decision_tree3.score(X_train, Y_train) * 100, 2)\n",
    "print(acc_decision_tree3)"
   ]
  },
  {
   "cell_type": "markdown",
   "id": "fa3857bc",
   "metadata": {
    "papermill": {
     "duration": 0.007976,
     "end_time": "2022-12-02T03:29:00.276671",
     "exception": false,
     "start_time": "2022-12-02T03:29:00.268695",
     "status": "completed"
    },
    "slideshow": {
     "slide_type": "subslide"
    },
    "tags": []
   },
   "source": [
    "#Seems the default one yield a better result."
   ]
  },
  {
   "cell_type": "code",
   "execution_count": 12,
   "id": "d08ff1b8",
   "metadata": {
    "_cell_guid": "f0694a8e-b618-8ed9-6f0d-8c6fba2c4567",
    "_uuid": "483c647d2759a2703d20785a44f51b6dee47d0db",
    "execution": {
     "iopub.execute_input": "2022-12-02T03:29:00.295265Z",
     "iopub.status.busy": "2022-12-02T03:29:00.294577Z",
     "iopub.status.idle": "2022-12-02T03:29:00.563822Z",
     "shell.execute_reply": "2022-12-02T03:29:00.562249Z"
    },
    "papermill": {
     "duration": 0.282184,
     "end_time": "2022-12-02T03:29:00.567100",
     "exception": false,
     "start_time": "2022-12-02T03:29:00.284916",
     "status": "completed"
    },
    "slideshow": {
     "slide_type": "slide"
    },
    "tags": []
   },
   "outputs": [
    {
     "name": "stdout",
     "output_type": "stream",
     "text": [
      "Decision Tree runtime elapsed: 0.26 seconds.\n"
     ]
    }
   ],
   "source": [
    "# Random Forest\n",
    "\n",
    "start = time.time()\n",
    "\n",
    "random_forest = RandomForestClassifier(n_estimators=100)\n",
    "random_forest.fit(X_train, Y_train)\n",
    "Y_pred = random_forest.predict(X_test)\n",
    "random_forest.score(X_train, Y_train)\n",
    "acc_random_forest = round(random_forest.score(X_train, Y_train) * 100, 2)\n",
    "acc_random_forest\n",
    "\n",
    "print(f'Decision Tree runtime elapsed: {round(time.time() - start, 2)} seconds.')"
   ]
  },
  {
   "cell_type": "code",
   "execution_count": 13,
   "id": "81203d4e",
   "metadata": {
    "_cell_guid": "1f3cebe0-31af-70b2-1ce4-0fd406bcdfc6",
    "_uuid": "06a52babe50e0dd837b553c78fc73872168e1c7d",
    "execution": {
     "iopub.execute_input": "2022-12-02T03:29:00.586212Z",
     "iopub.status.busy": "2022-12-02T03:29:00.585810Z",
     "iopub.status.idle": "2022-12-02T03:29:00.599298Z",
     "shell.execute_reply": "2022-12-02T03:29:00.598072Z"
    },
    "papermill": {
     "duration": 0.025822,
     "end_time": "2022-12-02T03:29:00.601834",
     "exception": false,
     "start_time": "2022-12-02T03:29:00.576012",
     "status": "completed"
    },
    "slideshow": {
     "slide_type": "slide"
    },
    "tags": []
   },
   "outputs": [
    {
     "data": {
      "text/html": [
       "<div>\n",
       "<style scoped>\n",
       "    .dataframe tbody tr th:only-of-type {\n",
       "        vertical-align: middle;\n",
       "    }\n",
       "\n",
       "    .dataframe tbody tr th {\n",
       "        vertical-align: top;\n",
       "    }\n",
       "\n",
       "    .dataframe thead th {\n",
       "        text-align: right;\n",
       "    }\n",
       "</style>\n",
       "<table border=\"1\" class=\"dataframe\">\n",
       "  <thead>\n",
       "    <tr style=\"text-align: right;\">\n",
       "      <th></th>\n",
       "      <th>Model</th>\n",
       "      <th>Score</th>\n",
       "    </tr>\n",
       "  </thead>\n",
       "  <tbody>\n",
       "    <tr>\n",
       "      <th>0</th>\n",
       "      <td>Support Vector Machines</td>\n",
       "      <td>86.76</td>\n",
       "    </tr>\n",
       "    <tr>\n",
       "      <th>3</th>\n",
       "      <td>Random Forest</td>\n",
       "      <td>86.76</td>\n",
       "    </tr>\n",
       "    <tr>\n",
       "      <th>4</th>\n",
       "      <td>Decision Tree</td>\n",
       "      <td>86.76</td>\n",
       "    </tr>\n",
       "    <tr>\n",
       "      <th>1</th>\n",
       "      <td>KNN</td>\n",
       "      <td>84.74</td>\n",
       "    </tr>\n",
       "    <tr>\n",
       "      <th>2</th>\n",
       "      <td>Logistic Regression</td>\n",
       "      <td>80.36</td>\n",
       "    </tr>\n",
       "  </tbody>\n",
       "</table>\n",
       "</div>"
      ],
      "text/plain": [
       "                     Model  Score\n",
       "0  Support Vector Machines  86.76\n",
       "3            Random Forest  86.76\n",
       "4            Decision Tree  86.76\n",
       "1                      KNN  84.74\n",
       "2      Logistic Regression  80.36"
      ]
     },
     "execution_count": 13,
     "metadata": {},
     "output_type": "execute_result"
    }
   ],
   "source": [
    "#Model Evaluation:\n",
    "models = pd.DataFrame({\n",
    "    'Model': ['Support Vector Machines', 'KNN', 'Logistic Regression', \n",
    "              'Random Forest', 'Decision Tree'],\n",
    "    'Score': [acc_svcrbf, acc_knn, acc_log, \n",
    "              acc_random_forest, acc_decision_tree]})\n",
    "models.sort_values(by='Score', ascending=False)"
   ]
  },
  {
   "cell_type": "markdown",
   "id": "b232a1f1",
   "metadata": {
    "papermill": {
     "duration": 0.00829,
     "end_time": "2022-12-02T03:29:00.618822",
     "exception": false,
     "start_time": "2022-12-02T03:29:00.610532",
     "status": "completed"
    },
    "slideshow": {
     "slide_type": "subslide"
    },
    "tags": []
   },
   "source": [
    "Looks line Random Forest and Decision Tree models performed equally well."
   ]
  }
 ],
 "metadata": {
  "kernelspec": {
   "display_name": "Python 3",
   "language": "python",
   "name": "python3"
  },
  "language_info": {
   "codemirror_mode": {
    "name": "ipython",
    "version": 3
   },
   "file_extension": ".py",
   "mimetype": "text/x-python",
   "name": "python",
   "nbconvert_exporter": "python",
   "pygments_lexer": "ipython3",
   "version": "3.7.12"
  },
  "papermill": {
   "default_parameters": {},
   "duration": 16.598635,
   "end_time": "2022-12-02T03:29:01.449807",
   "environment_variables": {},
   "exception": null,
   "input_path": "__notebook__.ipynb",
   "output_path": "__notebook__.ipynb",
   "parameters": {},
   "start_time": "2022-12-02T03:28:44.851172",
   "version": "2.3.4"
  }
 },
 "nbformat": 4,
 "nbformat_minor": 5
}
