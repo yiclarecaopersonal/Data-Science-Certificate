{
 "cells": [
  {
   "cell_type": "markdown",
   "id": "b47570c8",
   "metadata": {
    "papermill": {
     "duration": 0.008858,
     "end_time": "2022-06-17T03:28:35.141372",
     "exception": false,
     "start_time": "2022-06-17T03:28:35.132514",
     "status": "completed"
    },
    "tags": []
   },
   "source": [
    "# Solution to the assignments of checkpoint 4"
   ]
  },
  {
   "cell_type": "code",
   "execution_count": 1,
   "id": "c1cc6d4c",
   "metadata": {
    "execution": {
     "iopub.execute_input": "2022-06-17T03:28:35.155447Z",
     "iopub.status.busy": "2022-06-17T03:28:35.154627Z",
     "iopub.status.idle": "2022-06-17T03:28:48.935972Z",
     "shell.execute_reply": "2022-06-17T03:28:48.934915Z"
    },
    "papermill": {
     "duration": 13.791562,
     "end_time": "2022-06-17T03:28:48.938593",
     "exception": false,
     "start_time": "2022-06-17T03:28:35.147031",
     "status": "completed"
    },
    "tags": []
   },
   "outputs": [
    {
     "name": "stdout",
     "output_type": "stream",
     "text": [
      "Collecting psycopg2-binary\r\n",
      "  Downloading psycopg2_binary-2.9.3-cp37-cp37m-manylinux_2_17_x86_64.manylinux2014_x86_64.whl (3.0 MB)\r\n",
      "\u001b[2K     \u001b[90m━━━━━━━━━━━━━━━━━━━━━━━━━━━━━━━━━━━━━━━━\u001b[0m \u001b[32m3.0/3.0 MB\u001b[0m \u001b[31m7.0 MB/s\u001b[0m eta \u001b[36m0:00:00\u001b[0m\r\n",
      "\u001b[?25hInstalling collected packages: psycopg2-binary\r\n",
      "Successfully installed psycopg2-binary-2.9.3\r\n",
      "\u001b[33mWARNING: Running pip as the 'root' user can result in broken permissions and conflicting behaviour with the system package manager. It is recommended to use a virtual environment instead: https://pip.pypa.io/warnings/venv\u001b[0m\u001b[33m\r\n",
      "\u001b[0m"
     ]
    }
   ],
   "source": [
    "import pandas as pd\n",
    "import matplotlib.pyplot as plt\n",
    "from sqlalchemy import create_engine\n",
    "import warnings\n",
    "\n",
    "warnings.filterwarnings('ignore')\n",
    "!pip install psycopg2-binary"
   ]
  },
  {
   "cell_type": "code",
   "execution_count": 2,
   "id": "45dd56ab",
   "metadata": {
    "execution": {
     "iopub.execute_input": "2022-06-17T03:28:48.953563Z",
     "iopub.status.busy": "2022-06-17T03:28:48.953158Z",
     "iopub.status.idle": "2022-06-17T03:28:50.425605Z",
     "shell.execute_reply": "2022-06-17T03:28:50.424469Z"
    },
    "papermill": {
     "duration": 1.482871,
     "end_time": "2022-06-17T03:28:50.428113",
     "exception": false,
     "start_time": "2022-06-17T03:28:48.945242",
     "status": "completed"
    },
    "tags": []
   },
   "outputs": [],
   "source": [
    "postgres_user = 'dsbc_student'\n",
    "postgres_pw = '7*.8G9QH21'\n",
    "postgres_host = '142.93.121.174'\n",
    "postgres_port = '5432'\n",
    "postgres_db = 'useducation'\n",
    "\n",
    "engine = create_engine('postgresql://{}:{}@{}:{}/{}'.format(\n",
    "    postgres_user, postgres_pw, postgres_host, postgres_port, postgres_db))\n",
    "\n",
    "education_df = pd.read_sql_query('select * from useducation',con=engine)\n",
    "\n",
    "# no need for an open connection, \n",
    "# as we're only doing a single query\n",
    "engine.dispose()"
   ]
  },
  {
   "cell_type": "code",
   "execution_count": 3,
   "id": "a46fe047",
   "metadata": {
    "execution": {
     "iopub.execute_input": "2022-06-17T03:28:50.443080Z",
     "iopub.status.busy": "2022-06-17T03:28:50.442646Z",
     "iopub.status.idle": "2022-06-17T03:28:51.327479Z",
     "shell.execute_reply": "2022-06-17T03:28:51.326132Z"
    },
    "papermill": {
     "duration": 0.895158,
     "end_time": "2022-06-17T03:28:51.329958",
     "exception": false,
     "start_time": "2022-06-17T03:28:50.434800",
     "status": "completed"
    },
    "tags": []
   },
   "outputs": [],
   "source": [
    "fill_list = [\"ENROLL\", \"TOTAL_REVENUE\", \"FEDERAL_REVENUE\",\n",
    "             \"STATE_REVENUE\", \"LOCAL_REVENUE\", \"TOTAL_EXPENDITURE\",\n",
    "             \"INSTRUCTION_EXPENDITURE\", \"SUPPORT_SERVICES_EXPENDITURE\",\n",
    "             \"OTHER_EXPENDITURE\", \"CAPITAL_OUTLAY_EXPENDITURE\", \"GRADES_PK_G\",\n",
    "             \"GRADES_KG_G\", \"GRADES_4_G\", \"GRADES_8_G\", \"GRADES_12_G\", \"GRADES_1_8_G\",\n",
    "             \"GRADES_9_12_G\", \"GRADES_ALL_G\"]\n",
    "\n",
    "states = education_df[\"STATE\"].unique()\n",
    "\n",
    "for state in states:\n",
    "    education_df.loc[education_df[\"STATE\"] == state, fill_list] = education_df.loc[education_df[\"STATE\"] == state, fill_list].interpolate()\n",
    "\n",
    "# we drop the null values after interpolation\n",
    "education_df.dropna(inplace=True)\n",
    "\n"
   ]
  },
  {
   "cell_type": "code",
   "execution_count": 4,
   "id": "017a6eff",
   "metadata": {
    "execution": {
     "iopub.execute_input": "2022-06-17T03:28:51.344868Z",
     "iopub.status.busy": "2022-06-17T03:28:51.344453Z",
     "iopub.status.idle": "2022-06-17T03:28:51.627762Z",
     "shell.execute_reply": "2022-06-17T03:28:51.626723Z"
    },
    "papermill": {
     "duration": 0.293403,
     "end_time": "2022-06-17T03:28:51.629939",
     "exception": false,
     "start_time": "2022-06-17T03:28:51.336536",
     "status": "completed"
    },
    "scrolled": true,
    "tags": []
   },
   "outputs": [
    {
     "data": {
      "image/png": "[encoded data removed]",
      "text/plain": [
       "<Figure size 1080x360 with 2 Axes>"
      ]
     },
     "metadata": {
      "needs_background": "light"
     },
     "output_type": "display_data"
    }
   ],
   "source": [
    "plt.figure(figsize = (15,5))\n",
    "\n",
    "plt.subplot(1,2,1)\n",
    "plt.boxplot(education_df[\"TOTAL_REVENUE\"], whis = 5)\n",
    "plt.title(\"Box plot of total revenue\")\n",
    "\n",
    "plt.subplot(1,2,2)\n",
    "plt.boxplot(education_df[\"TOTAL_EXPENDITURE\"], whis = 5)\n",
    "plt.title(\"Box plot of total expenditure\")\n",
    "plt.show()"
   ]
  },
  {
   "cell_type": "code",
   "execution_count": 5,
   "id": "83b86532",
   "metadata": {
    "execution": {
     "iopub.execute_input": "2022-06-17T03:28:51.646319Z",
     "iopub.status.busy": "2022-06-17T03:28:51.645649Z",
     "iopub.status.idle": "2022-06-17T03:28:52.647992Z",
     "shell.execute_reply": "2022-06-17T03:28:52.647000Z"
    },
    "papermill": {
     "duration": 1.013032,
     "end_time": "2022-06-17T03:28:52.650494",
     "exception": false,
     "start_time": "2022-06-17T03:28:51.637462",
     "status": "completed"
    },
    "tags": []
   },
   "outputs": [],
   "source": [
    "from scipy.stats.mstats import winsorize\n",
    "\n",
    "winsorized_revenue = winsorize(education_df[\"TOTAL_REVENUE\"], (0, 0.05))\n",
    "\n",
    "winsorized_expenditure = winsorize(education_df[\"TOTAL_EXPENDITURE\"], (0, 0.05))"
   ]
  },
  {
   "cell_type": "code",
   "execution_count": 6,
   "id": "f532b852",
   "metadata": {
    "execution": {
     "iopub.execute_input": "2022-06-17T03:28:52.666078Z",
     "iopub.status.busy": "2022-06-17T03:28:52.665636Z",
     "iopub.status.idle": "2022-06-17T03:28:52.936861Z",
     "shell.execute_reply": "2022-06-17T03:28:52.935767Z"
    },
    "papermill": {
     "duration": 0.281766,
     "end_time": "2022-06-17T03:28:52.939207",
     "exception": false,
     "start_time": "2022-06-17T03:28:52.657441",
     "status": "completed"
    },
    "scrolled": true,
    "tags": []
   },
   "outputs": [
    {
     "data": {
      "image/png": "[encoded data removed]",
      "text/plain": [
       "<Figure size 1080x360 with 2 Axes>"
      ]
     },
     "metadata": {
      "needs_background": "light"
     },
     "output_type": "display_data"
    }
   ],
   "source": [
    "plt.figure(figsize = (15,5))\n",
    "\n",
    "plt.subplot(1,2,1)\n",
    "plt.boxplot(winsorized_revenue, whis = 5)\n",
    "plt.title(\"Box plot of winsorized total revenue\")\n",
    "\n",
    "plt.subplot(1,2,2)\n",
    "plt.boxplot(winsorized_expenditure, whis = 5)\n",
    "plt.title(\"Box plot of winsorized total expenditure\")\n",
    "plt.show()"
   ]
  },
  {
   "cell_type": "code",
   "execution_count": 7,
   "id": "7566ef6d",
   "metadata": {
    "execution": {
     "iopub.execute_input": "2022-06-17T03:28:52.955351Z",
     "iopub.status.busy": "2022-06-17T03:28:52.954929Z",
     "iopub.status.idle": "2022-06-17T03:28:52.959950Z",
     "shell.execute_reply": "2022-06-17T03:28:52.958975Z"
    },
    "papermill": {
     "duration": 0.015395,
     "end_time": "2022-06-17T03:28:52.961971",
     "exception": false,
     "start_time": "2022-06-17T03:28:52.946576",
     "status": "completed"
    },
    "tags": []
   },
   "outputs": [],
   "source": [
    "budget_deficit = education_df.TOTAL_REVENUE - education_df.TOTAL_EXPENDITURE"
   ]
  },
  {
   "cell_type": "code",
   "execution_count": 8,
   "id": "8e33cffc",
   "metadata": {
    "execution": {
     "iopub.execute_input": "2022-06-17T03:28:52.977756Z",
     "iopub.status.busy": "2022-06-17T03:28:52.977388Z",
     "iopub.status.idle": "2022-06-17T03:28:53.133961Z",
     "shell.execute_reply": "2022-06-17T03:28:53.132779Z"
    },
    "papermill": {
     "duration": 0.167429,
     "end_time": "2022-06-17T03:28:53.136486",
     "exception": false,
     "start_time": "2022-06-17T03:28:52.969057",
     "status": "completed"
    },
    "scrolled": true,
    "tags": []
   },
   "outputs": [
    {
     "data": {
      "text/plain": [
       "Text(0.5, 1.0, 'Box plot of budget deficit')"
      ]
     },
     "execution_count": 8,
     "metadata": {},
     "output_type": "execute_result"
    },
    {
     "data": {
      "image/png": "[encoded data removed]",
      "text/plain": [
       "<Figure size 432x288 with 1 Axes>"
      ]
     },
     "metadata": {
      "needs_background": "light"
     },
     "output_type": "display_data"
    }
   ],
   "source": [
    "plt.boxplot(budget_deficit, whis = 5)\n",
    "plt.title(\"Box plot of budget deficit\")"
   ]
  },
  {
   "cell_type": "code",
   "execution_count": 9,
   "id": "029a2590",
   "metadata": {
    "execution": {
     "iopub.execute_input": "2022-06-17T03:28:53.152847Z",
     "iopub.status.busy": "2022-06-17T03:28:53.152439Z",
     "iopub.status.idle": "2022-06-17T03:28:53.158233Z",
     "shell.execute_reply": "2022-06-17T03:28:53.157044Z"
    },
    "papermill": {
     "duration": 0.016612,
     "end_time": "2022-06-17T03:28:53.160416",
     "exception": false,
     "start_time": "2022-06-17T03:28:53.143804",
     "status": "completed"
    },
    "tags": []
   },
   "outputs": [],
   "source": [
    "winsorized_budget = winsorize(budget_deficit, (0.05, 0.05))"
   ]
  },
  {
   "cell_type": "code",
   "execution_count": 10,
   "id": "54cd6750",
   "metadata": {
    "execution": {
     "iopub.execute_input": "2022-06-17T03:28:53.177176Z",
     "iopub.status.busy": "2022-06-17T03:28:53.176730Z",
     "iopub.status.idle": "2022-06-17T03:28:53.346438Z",
     "shell.execute_reply": "2022-06-17T03:28:53.344795Z"
    },
    "papermill": {
     "duration": 0.180767,
     "end_time": "2022-06-17T03:28:53.348752",
     "exception": false,
     "start_time": "2022-06-17T03:28:53.167985",
     "status": "completed"
    },
    "scrolled": true,
    "tags": []
   },
   "outputs": [
    {
     "data": {
      "text/plain": [
       "Text(0.5, 1.0, 'Box plot of budget deficit')"
      ]
     },
     "execution_count": 10,
     "metadata": {},
     "output_type": "execute_result"
    },
    {
     "data": {
      "image/png": "[encoded data removed]",
      "text/plain": [
       "<Figure size 432x288 with 1 Axes>"
      ]
     },
     "metadata": {
      "needs_background": "light"
     },
     "output_type": "display_data"
    }
   ],
   "source": [
    "plt.boxplot(winsorized_budget, whis = 5)\n",
    "plt.title(\"Box plot of budget deficit\")"
   ]
  },
  {
   "cell_type": "markdown",
   "id": "e9e07d29",
   "metadata": {
    "papermill": {
     "duration": 0.007388,
     "end_time": "2022-06-17T03:28:53.363960",
     "exception": false,
     "start_time": "2022-06-17T03:28:53.356572",
     "status": "completed"
    },
    "tags": []
   },
   "source": [
    "It seems that the outliers are eliminated."
   ]
  },
  {
   "cell_type": "code",
   "execution_count": 11,
   "id": "eb316051",
   "metadata": {
    "execution": {
     "iopub.execute_input": "2022-06-17T03:28:53.381417Z",
     "iopub.status.busy": "2022-06-17T03:28:53.380515Z",
     "iopub.status.idle": "2022-06-17T03:28:53.385129Z",
     "shell.execute_reply": "2022-06-17T03:28:53.384239Z"
    },
    "papermill": {
     "duration": 0.015573,
     "end_time": "2022-06-17T03:28:53.387259",
     "exception": false,
     "start_time": "2022-06-17T03:28:53.371686",
     "status": "completed"
    },
    "tags": []
   },
   "outputs": [],
   "source": [
    "budget_deficit2 = winsorized_revenue - winsorized_expenditure"
   ]
  },
  {
   "cell_type": "code",
   "execution_count": 12,
   "id": "f738b9d5",
   "metadata": {
    "execution": {
     "iopub.execute_input": "2022-06-17T03:28:53.405380Z",
     "iopub.status.busy": "2022-06-17T03:28:53.404431Z",
     "iopub.status.idle": "2022-06-17T03:28:53.555322Z",
     "shell.execute_reply": "2022-06-17T03:28:53.553102Z"
    },
    "papermill": {
     "duration": 0.162468,
     "end_time": "2022-06-17T03:28:53.557926",
     "exception": false,
     "start_time": "2022-06-17T03:28:53.395458",
     "status": "completed"
    },
    "scrolled": true,
    "tags": []
   },
   "outputs": [
    {
     "data": {
      "text/plain": [
       "Text(0.5, 1.0, 'Box plot of budget deficit 2')"
      ]
     },
     "execution_count": 12,
     "metadata": {},
     "output_type": "execute_result"
    },
    {
     "data": {
      "image/png": "[encoded data removed]",
      "text/plain": [
       "<Figure size 432x288 with 1 Axes>"
      ]
     },
     "metadata": {
      "needs_background": "light"
     },
     "output_type": "display_data"
    }
   ],
   "source": [
    "plt.boxplot(budget_deficit2, whis = 5)\n",
    "plt.title(\"Box plot of budget deficit 2\")"
   ]
  },
  {
   "cell_type": "markdown",
   "id": "4cec63e0",
   "metadata": {
    "papermill": {
     "duration": 0.007748,
     "end_time": "2022-06-17T03:28:53.574198",
     "exception": false,
     "start_time": "2022-06-17T03:28:53.566450",
     "status": "completed"
    },
    "tags": []
   },
   "source": [
    "It seems we have outliers, so let's eliminate them:"
   ]
  },
  {
   "cell_type": "code",
   "execution_count": 13,
   "id": "b63ec374",
   "metadata": {
    "execution": {
     "iopub.execute_input": "2022-06-17T03:28:53.591827Z",
     "iopub.status.busy": "2022-06-17T03:28:53.591433Z",
     "iopub.status.idle": "2022-06-17T03:28:53.595811Z",
     "shell.execute_reply": "2022-06-17T03:28:53.595124Z"
    },
    "papermill": {
     "duration": 0.015424,
     "end_time": "2022-06-17T03:28:53.597561",
     "exception": false,
     "start_time": "2022-06-17T03:28:53.582137",
     "status": "completed"
    },
    "tags": []
   },
   "outputs": [],
   "source": [
    "winsorized_budget2 = winsorize(budget_deficit2, (0.05, 0.05))"
   ]
  },
  {
   "cell_type": "code",
   "execution_count": 14,
   "id": "f4d83e50",
   "metadata": {
    "execution": {
     "iopub.execute_input": "2022-06-17T03:28:53.615963Z",
     "iopub.status.busy": "2022-06-17T03:28:53.614838Z",
     "iopub.status.idle": "2022-06-17T03:28:53.778245Z",
     "shell.execute_reply": "2022-06-17T03:28:53.777293Z"
    },
    "papermill": {
     "duration": 0.17478,
     "end_time": "2022-06-17T03:28:53.780442",
     "exception": false,
     "start_time": "2022-06-17T03:28:53.605662",
     "status": "completed"
    },
    "tags": []
   },
   "outputs": [
    {
     "data": {
      "text/plain": [
       "Text(0.5, 1.0, 'Box plot of budget deficit 2')"
      ]
     },
     "execution_count": 14,
     "metadata": {},
     "output_type": "execute_result"
    },
    {
     "data": {
      "image/png": "[encoded data removed]",
      "text/plain": [
       "<Figure size 432x288 with 1 Axes>"
      ]
     },
     "metadata": {
      "needs_background": "light"
     },
     "output_type": "display_data"
    }
   ],
   "source": [
    "plt.boxplot(winsorized_budget2, whis = 5)\n",
    "plt.title(\"Box plot of budget deficit 2\")"
   ]
  },
  {
   "cell_type": "code",
   "execution_count": 15,
   "id": "06b23c0c",
   "metadata": {
    "execution": {
     "iopub.execute_input": "2022-06-17T03:28:53.799282Z",
     "iopub.status.busy": "2022-06-17T03:28:53.798866Z",
     "iopub.status.idle": "2022-06-17T03:28:53.827258Z",
     "shell.execute_reply": "2022-06-17T03:28:53.826104Z"
    },
    "papermill": {
     "duration": 0.040477,
     "end_time": "2022-06-17T03:28:53.829434",
     "exception": false,
     "start_time": "2022-06-17T03:28:53.788957",
     "status": "completed"
    },
    "tags": []
   },
   "outputs": [
    {
     "data": {
      "text/html": [
       "<div>\n",
       "<style scoped>\n",
       "    .dataframe tbody tr th:only-of-type {\n",
       "        vertical-align: middle;\n",
       "    }\n",
       "\n",
       "    .dataframe tbody tr th {\n",
       "        vertical-align: top;\n",
       "    }\n",
       "\n",
       "    .dataframe thead th {\n",
       "        text-align: right;\n",
       "    }\n",
       "</style>\n",
       "<table border=\"1\" class=\"dataframe\">\n",
       "  <thead>\n",
       "    <tr style=\"text-align: right;\">\n",
       "      <th></th>\n",
       "      <th>original_budget</th>\n",
       "      <th>winsorized_budget1</th>\n",
       "      <th>winsorized_budget2</th>\n",
       "    </tr>\n",
       "  </thead>\n",
       "  <tbody>\n",
       "    <tr>\n",
       "      <th>count</th>\n",
       "      <td>4.660000e+02</td>\n",
       "      <td>466.000000</td>\n",
       "      <td>4.660000e+02</td>\n",
       "    </tr>\n",
       "    <tr>\n",
       "      <th>mean</th>\n",
       "      <td>-8.094882e+04</td>\n",
       "      <td>-58733.012876</td>\n",
       "      <td>-1.720532e+05</td>\n",
       "    </tr>\n",
       "    <tr>\n",
       "      <th>std</th>\n",
       "      <td>6.144222e+05</td>\n",
       "      <td>341300.816505</td>\n",
       "      <td>6.509561e+05</td>\n",
       "    </tr>\n",
       "    <tr>\n",
       "      <th>min</th>\n",
       "      <td>-5.487742e+06</td>\n",
       "      <td>-913765.000000</td>\n",
       "      <td>-2.518429e+06</td>\n",
       "    </tr>\n",
       "    <tr>\n",
       "      <th>25%</th>\n",
       "      <td>-1.965748e+05</td>\n",
       "      <td>-196574.750000</td>\n",
       "      <td>-2.047750e+05</td>\n",
       "    </tr>\n",
       "    <tr>\n",
       "      <th>50%</th>\n",
       "      <td>-8.872500e+03</td>\n",
       "      <td>-8872.500000</td>\n",
       "      <td>-1.282350e+04</td>\n",
       "    </tr>\n",
       "    <tr>\n",
       "      <th>75%</th>\n",
       "      <td>1.013948e+05</td>\n",
       "      <td>101394.750000</td>\n",
       "      <td>9.826300e+04</td>\n",
       "    </tr>\n",
       "    <tr>\n",
       "      <th>max</th>\n",
       "      <td>3.897129e+06</td>\n",
       "      <td>560511.000000</td>\n",
       "      <td>5.400550e+05</td>\n",
       "    </tr>\n",
       "  </tbody>\n",
       "</table>\n",
       "</div>"
      ],
      "text/plain": [
       "       original_budget  winsorized_budget1  winsorized_budget2\n",
       "count     4.660000e+02          466.000000        4.660000e+02\n",
       "mean     -8.094882e+04       -58733.012876       -1.720532e+05\n",
       "std       6.144222e+05       341300.816505        6.509561e+05\n",
       "min      -5.487742e+06      -913765.000000       -2.518429e+06\n",
       "25%      -1.965748e+05      -196574.750000       -2.047750e+05\n",
       "50%      -8.872500e+03        -8872.500000       -1.282350e+04\n",
       "75%       1.013948e+05       101394.750000        9.826300e+04\n",
       "max       3.897129e+06       560511.000000        5.400550e+05"
      ]
     },
     "execution_count": 15,
     "metadata": {},
     "output_type": "execute_result"
    }
   ],
   "source": [
    "pd.DataFrame({\"original_budget\": budget_deficit, \"winsorized_budget1\": winsorized_budget,\n",
    "              \"winsorized_budget2\": winsorized_budget2}).describe()"
   ]
  }
 ],
 "metadata": {
  "kernelspec": {
   "display_name": "Python 3",
   "language": "python",
   "name": "python3"
  },
  "language_info": {
   "codemirror_mode": {
    "name": "ipython",
    "version": 3
   },
   "file_extension": ".py",
   "mimetype": "text/x-python",
   "name": "python",
   "nbconvert_exporter": "python",
   "pygments_lexer": "ipython3",
   "version": "3.7.12"
  },
  "papermill": {
   "default_parameters": {},
   "duration": 29.839496,
   "end_time": "2022-06-17T03:28:54.560259",
   "environment_variables": {},
   "exception": null,
   "input_path": "__notebook__.ipynb",
   "output_path": "__notebook__.ipynb",
   "parameters": {},
   "start_time": "2022-06-17T03:28:24.720763",
   "version": "2.3.4"
  }
 },
 "nbformat": 4,
 "nbformat_minor": 5
}
